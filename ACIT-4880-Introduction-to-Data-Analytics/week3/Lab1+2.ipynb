{
 "cells": [
  {
   "cell_type": "markdown",
   "id": "821d2481",
   "metadata": {},
   "source": [
    "## ACIT 4880 - Lab 1 & 2 - Python Data Structures, Numpy, and Cell Magic"
   ]
  },
  {
   "cell_type": "markdown",
   "id": "22820eac",
   "metadata": {},
   "source": [
    "### Part 1 - Standard Data Structures"
   ]
  },
  {
   "cell_type": "markdown",
   "id": "9e6e5091",
   "metadata": {},
   "source": [
    "Q1. Create a nested tuple and print its first element"
   ]
  },
  {
   "cell_type": "code",
   "execution_count": 1,
   "id": "3fdc84e4",
   "metadata": {
    "ExecuteTime": {
     "end_time": "2024-01-25T23:38:23.916679200Z",
     "start_time": "2024-01-25T23:38:23.803833800Z"
    }
   },
   "outputs": [
    {
     "name": "stdout",
     "output_type": "stream",
     "text": [
      "1\n"
     ]
    }
   ],
   "source": [
    "tuple = ((1,2),(3,4))\n",
    "print(tuple[0][0])"
   ]
  },
  {
   "cell_type": "markdown",
   "id": "a04b8d7a",
   "metadata": {},
   "source": [
    "Q2. Create a dictionary where\n",
    "- You have a key name 'a' having an integer as its value, e.g., 'a': 42\n",
    "- You have a key name 'b' having a list as its value, e.g., 'b': [2, 3, 4]\n",
    "- Get the last list element with the key 'b', e.g., 4 from [2, 3, 4]"
   ]
  },
  {
   "cell_type": "code",
   "execution_count": 2,
   "id": "ebff3652",
   "metadata": {
    "ExecuteTime": {
     "end_time": "2024-01-25T23:39:06.241178Z",
     "start_time": "2024-01-25T23:39:06.205380Z"
    }
   },
   "outputs": [
    {
     "name": "stdout",
     "output_type": "stream",
     "text": [
      "4\n"
     ]
    }
   ],
   "source": [
    "dic = {'a': 43, 'b': [2, 3, 4]}\n",
    "print(dic['b'][len(dic['b']) - 1])"
   ]
  },
  {
   "cell_type": "markdown",
   "id": "f545f994",
   "metadata": {},
   "source": [
    "Q3. Add the key-value pair **'5': 'value'** to the dictionary"
   ]
  },
  {
   "cell_type": "code",
   "execution_count": 3,
   "id": "cd068443",
   "metadata": {
    "ExecuteTime": {
     "end_time": "2024-01-25T23:39:09.988533400Z",
     "start_time": "2024-01-25T23:39:09.925957900Z"
    }
   },
   "outputs": [],
   "source": [
    "dic['5'] = 'value'"
   ]
  },
  {
   "cell_type": "markdown",
   "id": "eeb4d67c",
   "metadata": {},
   "source": [
    "Q4. Print the dictionary, then delete the added element from the previous step, then print the dictionary again"
   ]
  },
  {
   "cell_type": "code",
   "execution_count": 4,
   "id": "e0c707e1",
   "metadata": {
    "ExecuteTime": {
     "end_time": "2024-01-25T23:39:13.979589Z",
     "start_time": "2024-01-25T23:39:13.922851800Z"
    }
   },
   "outputs": [
    {
     "name": "stdout",
     "output_type": "stream",
     "text": [
      "{'a': 43, 'b': [2, 3, 4], '5': 'value'}\n"
     ]
    }
   ],
   "source": [
    "print(dic)"
   ]
  },
  {
   "cell_type": "markdown",
   "id": "2f643b7c",
   "metadata": {},
   "source": [
    "Q5. Update the existing dictionary, then print it again"
   ]
  },
  {
   "cell_type": "code",
   "execution_count": 5,
   "id": "e5094463",
   "metadata": {
    "ExecuteTime": {
     "end_time": "2024-01-25T23:39:16.517294Z",
     "start_time": "2024-01-25T23:39:16.465636Z"
    }
   },
   "outputs": [
    {
     "name": "stdout",
     "output_type": "stream",
     "text": [
      "{'a': 43, 'b': [2, 3, 4]}\n"
     ]
    }
   ],
   "source": [
    "dic.pop('5')\n",
    "print(dic)"
   ]
  },
  {
   "cell_type": "markdown",
   "id": "f66e46e8",
   "metadata": {},
   "source": [
    "Q6. Explain (briefly) the output of the following code:"
   ]
  },
  {
   "cell_type": "code",
   "execution_count": 6,
   "id": "0215ae19",
   "metadata": {
    "ExecuteTime": {
     "end_time": "2024-01-25T23:39:18.038821100Z",
     "start_time": "2024-01-25T23:39:17.966053300Z"
    }
   },
   "outputs": [
    {
     "name": "stdout",
     "output_type": "stream",
     "text": [
      "{'a': ['apple', 'atom'], 'b': ['bat', 'bar', 'book']}\n"
     ]
    }
   ],
   "source": [
    "words = ['apple', 'bat', 'bar', 'atom', 'book']\n",
    "by_letter = {}\n",
    "for word in words:\n",
    "    letter = word[0]\n",
    "    if letter not in by_letter:\n",
    "        by_letter[letter] = [word]\n",
    "    else:\n",
    "        by_letter[letter].append(word)\n",
    "print(by_letter)\n",
    "\n",
    "# iterates through words and gets the first letter of the word \n",
    "# if letter not in by_letter than add it with the key of letter and value of word\n",
    "# else append the word to list"
   ]
  },
  {
   "cell_type": "markdown",
   "id": "a39c4119",
   "metadata": {},
   "source": [
    "Q7. What's interesting about the following output?"
   ]
  },
  {
   "cell_type": "code",
   "execution_count": 7,
   "id": "d5edf7e8",
   "metadata": {
    "ExecuteTime": {
     "end_time": "2024-01-25T23:39:19.897492500Z",
     "start_time": "2024-01-25T23:39:19.849615900Z"
    }
   },
   "outputs": [
    {
     "name": "stdout",
     "output_type": "stream",
     "text": [
      "{1, 2, 3}\n"
     ]
    }
   ],
   "source": [
    "a = set([2, 2, 2, 1, 3, 3])\n",
    "print(a)\n",
    "\n",
    "#sets don't allow duplicates"
   ]
  },
  {
   "cell_type": "markdown",
   "id": "94deeae8",
   "metadata": {},
   "source": [
    "Q8. Explain (briefly) each print output from the following code"
   ]
  },
  {
   "cell_type": "code",
   "execution_count": 8,
   "id": "26fb96ab",
   "metadata": {
    "ExecuteTime": {
     "end_time": "2024-01-25T23:39:22.086584Z",
     "start_time": "2024-01-25T23:39:22.003872500Z"
    }
   },
   "outputs": [
    {
     "name": "stdout",
     "output_type": "stream",
     "text": [
      "{1, 2, 3, 4, 5, 6, 7, 8}\n",
      "{3, 4, 5}\n",
      "{1, 2, 3, 4, 5, 6}\n",
      "{1, 2, 3, 4, 5}\n",
      "{2, 3, 4, 5}\n"
     ]
    }
   ],
   "source": [
    "a = {1, 2, 3, 4, 5}\n",
    "b = {3, 4, 5, 6, 7, 8}\n",
    "\n",
    "c = a.union(b) #gets rid of same letters \n",
    "print(c)\n",
    "\n",
    "d = a.intersection(b) # keeps only same letters\n",
    "print(d)\n",
    "\n",
    "a.add(6) # appends 6 to a \n",
    "print(a)\n",
    "\n",
    "a.remove(6)# removes 6 to a, does nothing\n",
    "print(a)\n",
    "\n",
    "a.pop() #pop first element \n",
    "print(a)\n"
   ]
  },
  {
   "cell_type": "markdown",
   "id": "24c69ac5",
   "metadata": {},
   "source": [
    "## Part 2 - NumPy"
   ]
  },
  {
   "cell_type": "markdown",
   "id": "ca3e5921",
   "metadata": {},
   "source": [
    "Q1. Explain the results (i.e., the print statements) of the following code:"
   ]
  },
  {
   "cell_type": "code",
   "execution_count": 10,
   "id": "89489669",
   "metadata": {
    "ExecuteTime": {
     "end_time": "2024-01-25T23:43:14.473145300Z",
     "start_time": "2024-01-25T23:43:13.934595500Z"
    }
   },
   "outputs": [
    {
     "name": "stdout",
     "output_type": "stream",
     "text": [
      "[1 1 2 2 3 5]\n",
      "(6,)\n",
      "[[1 1 2]\n",
      " [2 3 5]]\n",
      "(2, 3)\n"
     ]
    }
   ],
   "source": [
    "import numpy as np\n",
    "\n",
    "x = np.array([1,1,2,2,3,5]) \n",
    "print(x)\n",
    "print(x.shape) # prints the height width of matrix\n",
    "y = x.reshape((2,3)) \n",
    "print(y)\n",
    "print(y.shape) # prints the new height width of matrix, 2 rows by 3 columns\n",
    "\n"
   ]
  },
  {
   "cell_type": "markdown",
   "id": "55d5bb4f",
   "metadata": {},
   "source": [
    "Q2. Explain the results (i.e., the print statements) of the following code:"
   ]
  },
  {
   "cell_type": "code",
   "execution_count": 11,
   "id": "9968fa47",
   "metadata": {
    "scrolled": true,
    "ExecuteTime": {
     "end_time": "2024-01-25T23:43:18.681438700Z",
     "start_time": "2024-01-25T23:43:18.587791700Z"
    }
   },
   "outputs": [
    {
     "name": "stdout",
     "output_type": "stream",
     "text": [
      "[ 1  3  5  7  9 11 13 15 17 19]\n",
      "[]\n",
      "[0. 0. 0. 0. 0. 0.]\n",
      "[1. 1. 1. 1. 1. 1.]\n",
      "[1 2 3 4 5]\n"
     ]
    },
    {
     "data": {
      "text/plain": "array([0.        , 0.10204082, 0.20408163, 0.30612245, 0.40816327,\n       0.51020408, 0.6122449 , 0.71428571, 0.81632653, 0.91836735,\n       1.02040816, 1.12244898, 1.2244898 , 1.32653061, 1.42857143,\n       1.53061224, 1.63265306, 1.73469388, 1.83673469, 1.93877551,\n       2.04081633, 2.14285714, 2.24489796, 2.34693878, 2.44897959,\n       2.55102041, 2.65306122, 2.75510204, 2.85714286, 2.95918367,\n       3.06122449, 3.16326531, 3.26530612, 3.36734694, 3.46938776,\n       3.57142857, 3.67346939, 3.7755102 , 3.87755102, 3.97959184,\n       4.08163265, 4.18367347, 4.28571429, 4.3877551 , 4.48979592,\n       4.59183673, 4.69387755, 4.79591837, 4.89795918, 5.        ])"
     },
     "execution_count": 11,
     "metadata": {},
     "output_type": "execute_result"
    }
   ],
   "source": [
    "import numpy as np\n",
    "\n",
    "a = np.arange(1, 20, 2) \n",
    "print(a) # evenly divides the numbers between 1-20 with 2 spaces\n",
    "\n",
    "b = np.array([])\n",
    "print(b) # array \n",
    "\n",
    "c = np.zeros(6)\n",
    "print(c) # 6 zeros\n",
    "\n",
    "d = np.ones(6)\n",
    "print(d) # six 1s\n",
    "\n",
    "e = np.array(range(1,6))\n",
    "print(e) # array of numbers 1-6\n",
    "\n",
    "np.linspace(0, 5, 50) #evenly spaced 50 numbers between 0 and 5"
   ]
  },
  {
   "cell_type": "markdown",
   "id": "3eb7bbe7",
   "metadata": {},
   "source": [
    "Q3. Using Python for loop, find the indices of all values greater than 4 in the following array ***y***. \n",
    "\n",
    "y = [6, 10, 3, 4, 5, 6, 7]. "
   ]
  },
  {
   "cell_type": "code",
   "execution_count": 12,
   "id": "5efd56e6",
   "metadata": {
    "ExecuteTime": {
     "end_time": "2024-01-25T23:43:23.837417300Z",
     "start_time": "2024-01-25T23:43:23.813527900Z"
    }
   },
   "outputs": [
    {
     "ename": "SyntaxError",
     "evalue": "invalid syntax (2959219462.py, line 3)",
     "output_type": "error",
     "traceback": [
      "\u001B[1;36m  Cell \u001B[1;32mIn[12], line 3\u001B[1;36m\u001B[0m\n\u001B[1;33m    do smt\u001B[0m\n\u001B[1;37m       ^\u001B[0m\n\u001B[1;31mSyntaxError\u001B[0m\u001B[1;31m:\u001B[0m invalid syntax\n"
     ]
    }
   ],
   "source": [
    "for x in y:\n",
    "    if x > 4:\n",
    "        do smt"
   ]
  },
  {
   "cell_type": "markdown",
   "id": "26d98b1a",
   "metadata": {},
   "source": [
    "Q4. Explain the results (i.e., the print statements) of the following code:"
   ]
  },
  {
   "cell_type": "code",
   "execution_count": 13,
   "id": "6071161b",
   "metadata": {
    "ExecuteTime": {
     "end_time": "2024-01-25T23:43:30.776752400Z",
     "start_time": "2024-01-25T23:43:30.733655900Z"
    }
   },
   "outputs": [
    {
     "name": "stdout",
     "output_type": "stream",
     "text": [
      "2\n",
      "(array([0, 1, 4, 5, 6], dtype=int64),)\n",
      "[ 3  4  5  6  6  7 10]\n"
     ]
    }
   ],
   "source": [
    "y = np.array([6, 10, 3, 4, 5, 6, 7])\n",
    "print(y.argmin()) #index of lowest val\n",
    "i = np.where(y>4) #????????????????\n",
    "print(i) \n",
    "y.sort()\n",
    "x = y.copy()\n",
    "print(x) # print sorted"
   ]
  },
  {
   "cell_type": "markdown",
   "id": "ccaf9ea6",
   "metadata": {},
   "source": [
    "Q5. Explain the results (i.e., the print statements) of the following code:"
   ]
  },
  {
   "cell_type": "code",
   "execution_count": 14,
   "id": "25c2a4bf",
   "metadata": {
    "ExecuteTime": {
     "end_time": "2024-01-25T23:43:37.382027400Z",
     "start_time": "2024-01-25T23:43:37.359172600Z"
    }
   },
   "outputs": [
    {
     "name": "stdout",
     "output_type": "stream",
     "text": [
      "[[0.54009843 0.74307291 0.29854779]\n",
      " [0.67174878 1.42308048 1.166365  ]\n",
      " [0.60669542 1.05852799 0.68693721]]\n",
      "[[-0.12224636 -0.08187817  0.47650118]\n",
      " [ 0.59854818 -0.34606091  0.1899572 ]\n",
      " [-0.11104914  0.02913386  0.31375821]]\n",
      "-0.10605453357071203\n",
      "[[-0.02989903 -0.78213608  1.68051988]\n",
      " [-2.90927684 -0.16256418  2.97455993]\n",
      " [ 5.72754197  2.92126239 -7.2024833 ]]\n"
     ]
    }
   ],
   "source": [
    "x = np.random.random_sample((3,3))\n",
    "y = np.random.random_sample((3,3))\n",
    "\n",
    "print(np.dot(x,y)) #product of two arrays x * y\n",
    "print(np.cross(x,y)) # ^ cross\n",
    "print(np.linalg.det(x)) #determinate ??\n",
    "print(np.linalg.inv(x)) # multiplicative ??"
   ]
  },
  {
   "cell_type": "markdown",
   "id": "df4a2205",
   "metadata": {},
   "source": [
    "Q6. Solve the following equations using ***numpy.linalg.solve()*** fundction:\n",
    "- 5x + 2y = 3\n",
    "- 6x - 5y = 4"
   ]
  },
  {
   "cell_type": "code",
   "execution_count": 15,
   "id": "cef3f03a",
   "metadata": {
    "ExecuteTime": {
     "end_time": "2024-01-25T23:43:40.171209500Z",
     "start_time": "2024-01-25T23:43:40.155269200Z"
    }
   },
   "outputs": [
    {
     "name": "stdout",
     "output_type": "stream",
     "text": [
      "[ 0.62162162 -0.05405405]\n"
     ]
    }
   ],
   "source": [
    "print(np.linalg.solve([[5, 2],[6,-5]], [3,4]))"
   ]
  },
  {
   "cell_type": "markdown",
   "id": "600cb9f5",
   "metadata": {},
   "source": [
    "Q7. Explain the results (i.e., the print statements)  of the following code:"
   ]
  },
  {
   "cell_type": "code",
   "execution_count": 16,
   "id": "a8c52f15",
   "metadata": {
    "ExecuteTime": {
     "end_time": "2024-01-25T23:43:43.343355800Z",
     "start_time": "2024-01-25T23:43:43.295375800Z"
    }
   },
   "outputs": [
    {
     "name": "stdout",
     "output_type": "stream",
     "text": [
      "[[-1.47483344  0.55244146  0.61810807]\n",
      " [ 0.82942281 -0.90989839  0.13661887]]\n",
      "[[-14.74833443   5.52441463   6.18108069]\n",
      " [  8.29422813  -9.09898394   1.36618869]]\n",
      "[[-2.94966689  1.10488293  1.23621614]\n",
      " [ 1.65884563 -1.81979679  0.27323774]]\n"
     ]
    }
   ],
   "source": [
    "data = np.random.randn(2,3)\n",
    "print(data) # random array 2x3\n",
    "print(data * 10) # 10x\n",
    "print(data + data) # add to itself"
   ]
  },
  {
   "cell_type": "markdown",
   "id": "8addb7b4",
   "metadata": {},
   "source": [
    "Q8. Explain the results (i.e., the print statements) of the following code:"
   ]
  },
  {
   "cell_type": "code",
   "execution_count": 17,
   "id": "526d48c9",
   "metadata": {
    "ExecuteTime": {
     "end_time": "2024-01-25T23:43:44.931466500Z",
     "start_time": "2024-01-25T23:43:44.857703400Z"
    }
   },
   "outputs": [
    {
     "name": "stdout",
     "output_type": "stream",
     "text": [
      "[0 1 2 3 4 5 6 7 8 9]\n",
      "5\n",
      "[5 6 7]\n"
     ]
    }
   ],
   "source": [
    "arr = np.arange(10) \n",
    "print(arr) # array 0-9\n",
    "print(arr[5]) # first 5\n",
    "print(arr[5:8]) # only 5-7"
   ]
  },
  {
   "cell_type": "markdown",
   "id": "dac4393e",
   "metadata": {},
   "source": [
    "Q9. Explain each print statement (expect the print(break) statement) of the following code:"
   ]
  },
  {
   "cell_type": "code",
   "execution_count": 18,
   "id": "abe37399",
   "metadata": {
    "ExecuteTime": {
     "end_time": "2024-01-25T23:43:46.707489Z",
     "start_time": "2024-01-25T23:43:46.662831800Z"
    }
   },
   "outputs": [
    {
     "name": "stdout",
     "output_type": "stream",
     "text": [
      "['Bob' 'Joe' 'Will' 'Bob' 'Will' 'Joe' 'Joe']\n",
      "*************************\n",
      "[[-0.42771282  1.44506694  0.45379703  0.5235613 ]\n",
      " [ 0.32125807  1.25341914  0.0970015   0.46694981]\n",
      " [ 0.38469487 -1.14336344 -1.12783479 -0.40467829]\n",
      " [-0.02129214 -0.22156229 -0.38487859  1.12034402]\n",
      " [-0.88688876 -0.46114779 -1.09594718  1.08855686]\n",
      " [ 0.97418407  0.8473087  -1.20043741 -1.09366958]\n",
      " [ 0.06862254  0.85552688 -1.94295748  3.06009354]]\n",
      "*************************\n",
      "[ True False False  True False False False]\n",
      "*************************\n",
      "[[ 0.45379703  0.5235613 ]\n",
      " [-0.38487859  1.12034402]]\n",
      "*************************\n",
      "[0.5235613  1.12034402]\n",
      "*************************\n",
      "*************************\n",
      "[ True False  True  True  True False False]\n",
      "*************************\n",
      "[[-0.42771282  1.44506694  0.45379703  0.5235613 ]\n",
      " [ 0.38469487 -1.14336344 -1.12783479 -0.40467829]\n",
      " [-0.02129214 -0.22156229 -0.38487859  1.12034402]\n",
      " [-0.88688876 -0.46114779 -1.09594718  1.08855686]]\n"
     ]
    }
   ],
   "source": [
    "names = np.array(['Bob','Joe','Will','Bob','Will','Joe','Joe'])\n",
    "data = np.random.randn(7,4)\n",
    "BREAK = ('*'*25)\n",
    "print(names) # print names\n",
    "print(BREAK)\n",
    "print(data) # print random array 7x4\n",
    "print(BREAK)\n",
    "print(names == 'Bob') # true/false for each item in names true if bob\n",
    "print(BREAK)\n",
    "print(data[names == 'Bob', 2:]) # names is acting like the rows, so if true slice the first two (2:), print if element x in names == bob\n",
    "print(BREAK)\n",
    "print(data[names == 'Bob', 3]) # names is acting like the rows, so if true grab the 3rd, print if element x in names == bob\n",
    "print(BREAK)\n",
    "mask = (names == 'Bob') | (names == 'Will')\n",
    "print(BREAK)\n",
    "print(mask) # true if name is bob or will \n",
    "print(BREAK)\n",
    "print(data[mask]) # print entire line if bob or will (row 1 3 4 5)"
   ]
  },
  {
   "cell_type": "markdown",
   "id": "c64192dd",
   "metadata": {},
   "source": [
    "Q10. Given the following matrix ***M1***:\n",
    "- Print the 1st and 2nd row, and for columns, we want the first, second and third column, i.e., \n",
    "    - [[2 4 6]\n",
    "    - [3 6 9]]\n",
    "- Print all rows and third columns, i.e.,\n",
    "    - [[ 6]\n",
    "    - [ 9]\n",
    "    - [12]\n",
    "    - [15]]\n",
    "- Print the first row and all columns, i.e.,\n",
    "    - [[ 2  4  6  8 10]]\n",
    "- Print the first three rows and first 2 columns, i.e.,\n",
    "    - [[2 4]\n",
    "    - [3 6]\n",
    "    - [4 8]]"
   ]
  },
  {
   "cell_type": "code",
   "execution_count": 22,
   "id": "2e9e4f92",
   "metadata": {
    "ExecuteTime": {
     "end_time": "2024-01-25T23:44:25.208646500Z",
     "start_time": "2024-01-25T23:44:25.049490500Z"
    }
   },
   "outputs": [
    {
     "name": "stdout",
     "output_type": "stream",
     "text": [
      "[[2 4 6]\n",
      " [3 6 9]]\n",
      "[ 6  9 12 15]\n",
      "[ 2  4  6  8 10]\n",
      "[[  5 -10]]\n"
     ]
    }
   ],
   "source": [
    "M1 = np.array ([[2, 4, 6, 8, 10],\n",
    "               [3, 6, 9, -12, -15],\n",
    "                [4, 8, 12, 16, -20],\n",
    "                [5, -10, 15, -20, 25]])\n",
    "print(M1[:2,:3])\n",
    "print(M1[:len(M1),2])\n",
    "print(M1[0])\n",
    "print(M1[3:, :2])"
   ]
  },
  {
   "cell_type": "markdown",
   "id": "cde20fef",
   "metadata": {},
   "source": [
    "Q11. Create a numpy array and name it `weight_lb` (Give acceptable weight values for 10 humans)\n",
    "- Multiply  by 0.453592 to go from pounds to kilograms and store the resulting numpy array as np_weight_kg\n",
    "- Create np_height_m numpy array and store acceptable height values for 10 humans\n",
    "- Calculate the BMI for each player using this equation:\n",
    "    - BMI = weight(kg)/height(m) ** 2\n",
    "- Save the resulting numpy array as BMI\n",
    "- Print out BMI\n",
    "- Create a boolean numpy array\n",
    "    - The element of the array should be True if the corresponding baseball player's BMI is below 21\n",
    "    - You can use the < operator for this\n",
    "    - Name the array ***light*** and print it\n",
    "- Print out a Numpy array with the BMIs of all baseball players whose BMI is below 21\n",
    "    - Use ***light*** inside square brackets to do a selection on the BMI array\n",
    "- Print the mean of np_height_m\n",
    "- Print the median of np_height_m"
   ]
  },
  {
   "cell_type": "code",
   "outputs": [
    {
     "name": "stdout",
     "output_type": "stream",
     "text": [
      "BMI: [17.2647474  19.25451755 23.79958025 23.85582469 23.87326316 29.62233469\n",
      " 29.39948148 29.15711907 32.1994321  35.54680163]\n",
      "Light players: [ True  True False False False False False False False False]\n",
      "BMI of light players: [17.2647474  19.25451755]\n",
      "Mean height: 1.7950000000000004\n",
      "Median height: 1.8\n"
     ]
    }
   ],
   "source": [
    "import numpy as np\n",
    "\n",
    "weight_lb = np.array([110, 130, 170, 180, 190, 200, 210, 220, 230, 240])\n",
    "\n",
    "np_weight_kg = weight_lb * 0.453592\n",
    "\n",
    "np_height_m = np.array([1.70, 1.75, 1.80, 1.85, 1.90, 1.75, 1.80, 1.85, 1.80, 1.75])\n",
    "\n",
    "BMI = np_weight_kg / np_height_m ** 2\n",
    "\n",
    "print(\"BMI:\", BMI)\n",
    "\n",
    "light = BMI < 21\n",
    "print(\"Light players:\", light)\n",
    "\n",
    "print(\"BMI of light players:\", BMI[light])\n",
    "\n",
    "print(\"Mean height:\", np.mean(np_height_m))\n",
    "print(\"Median height:\", np.median(np_height_m))\n"
   ],
   "metadata": {
    "collapsed": false,
    "ExecuteTime": {
     "end_time": "2024-01-25T23:44:50.615630700Z",
     "start_time": "2024-01-25T23:44:50.559132100Z"
    }
   },
   "id": "143d1b039ee78b8d",
   "execution_count": 23
  },
  {
   "cell_type": "markdown",
   "id": "fb66b5e3",
   "metadata": {},
   "source": [
    "## Part 3 - Magic command"
   ]
  },
  {
   "cell_type": "markdown",
   "id": "68574ab4",
   "metadata": {},
   "source": [
    "Q1. Can you identify the performnace bottleneck of the following code using ***%%prun*** cell magic command?"
   ]
  },
  {
   "cell_type": "code",
   "execution_count": 40,
   "id": "29a9e7dc",
   "metadata": {
    "ExecuteTime": {
     "end_time": "2024-01-26T00:04:33.190688500Z",
     "start_time": "2024-01-26T00:04:33.175115600Z"
    }
   },
   "outputs": [],
   "source": [
    "import numpy as np\n",
    "\n",
    "def matrix_multiply(A, B):\n",
    "    rows_A, cols_A = len(A), len(A[0])\n",
    "    rows_B, cols_B = len(B), len(B[0])\n",
    "\n",
    "    if cols_A != rows_B:\n",
    "        raise ValueError(\"Incompatible matrix dimensions\")\n",
    "\n",
    "    result = [[0 for _ in range(cols_B)] for _ in range(rows_A)]\n",
    "\n",
    "    for i in range(rows_A):\n",
    "        for j in range(cols_B):\n",
    "            for k in range(cols_A):\n",
    "                result[i][j] += A[i][k] * B[k][j]\n",
    "\n",
    "    return result\n",
    "\n",
    "\n",
    "matrix_A = np.random.rand(1000, 50)\n",
    "matrix_B = np.random.rand(50, 2000)\n"
   ]
  },
  {
   "cell_type": "code",
   "execution_count": 42,
   "id": "acc6410f",
   "metadata": {
    "ExecuteTime": {
     "end_time": "2024-01-26T00:06:42.106879600Z",
     "start_time": "2024-01-26T00:05:56.414572700Z"
    }
   },
   "outputs": [
    {
     "name": "stdout",
     "output_type": "stream",
     "text": [
      " "
     ]
    }
   ],
   "source": [
    "#You can use your cell profiler here\n",
    "\n",
    "%prun result = matrix_multiply(matrix_A.tolist(), matrix_B.tolist())"
   ]
  },
  {
   "cell_type": "markdown",
   "id": "be603343",
   "metadata": {},
   "source": [
    "In this example, the matrix_multiply function performs matrix multiplication using nested loops. However, this implementation can be inefficient for large matrices. The goal is to identify potential bottlenecks in the code and explore ways to optimize the matrix multiplication."
   ]
  },
  {
   "cell_type": "markdown",
   "id": "13c081c8",
   "metadata": {},
   "source": [
    "Q2. How to optimize the code above? Hint: Use NumPy for matrix multiplication.\n",
    "\n",
    "- Can you identify the optimizated performance using %%prun cell magic?"
   ]
  }
 ],
 "metadata": {
  "kernelspec": {
   "display_name": "Python 3 (ipykernel)",
   "language": "python",
   "name": "python3"
  },
  "language_info": {
   "codemirror_mode": {
    "name": "ipython",
    "version": 3
   },
   "file_extension": ".py",
   "mimetype": "text/x-python",
   "name": "python",
   "nbconvert_exporter": "python",
   "pygments_lexer": "ipython3",
   "version": "3.11.4"
  }
 },
 "nbformat": 4,
 "nbformat_minor": 5
}
