{
 "cells": [
  {
   "cell_type": "markdown",
   "id": "f1f7caf1",
   "metadata": {},
   "source": [
    "### 1. Create a new notebook, name it, and add a heading (markdown cell)."
   ]
  },
  {
   "cell_type": "code",
   "execution_count": null,
   "id": "96baa00a",
   "metadata": {},
   "outputs": [],
   "source": [
    "# Calculating pi using Monte Carlo methods"
   ]
  },
  {
   "cell_type": "markdown",
   "id": "599749e6",
   "metadata": {},
   "source": [
    "### 2. Document the relevant formulas in a new cell (markdown cell):"
   ]
  },
  {
   "cell_type": "code",
   "execution_count": null,
   "id": "74ece082",
   "metadata": {},
   "outputs": [],
   "source": [
    "## Relevant formulas\n",
    "\n",
    "- square area: $s = (2 r)^2$\n",
    "- circle area: $c = \\pi r^2$\n",
    "- $c/s = (\\pi r^2) / (4 r^2) = \\pi / 4$\n",
    "- $\\pi = 4 * c/s$"
   ]
  },
  {
   "cell_type": "markdown",
   "id": "78d1adb4",
   "metadata": {},
   "source": [
    "### 3. Add an image to explain the concept (markdown cell):"
   ]
  },
  {
   "cell_type": "code",
   "execution_count": null,
   "id": "feb83b37",
   "metadata": {},
   "outputs": [],
   "source": [
    "## Image to visualize the concept\n",
    "\n",
    "![Dart](https://raw.githubusercontent.com/coderefinery/jupyter/main/example/darts.svg)"
   ]
  },
  {
   "cell_type": "markdown",
   "id": "42c7c451",
   "metadata": {},
   "source": [
    "### 4. Import two modules that we will need (code cell):"
   ]
  },
  {
   "cell_type": "code",
   "execution_count": null,
   "id": "8861b977-19f3-4949-911a-0d2905417f5a",
   "metadata": {},
   "outputs": [],
   "source": [
    "import random\n",
    "import matplotlib.pyplot as plt"
   ]
  },
  {
   "cell_type": "markdown",
   "id": "d7521289",
   "metadata": {},
   "source": [
    "### 5. Initialize the number of points i.e., throws (code cell):"
   ]
  },
  {
   "cell_type": "code",
   "execution_count": null,
   "metadata": {},
   "outputs": [],
   "source": [
    "# num_points = 1000\n",
    "print('asf')"
   ]
  },
  {
   "cell_type": "markdown",
   "id": "d87aaf1a",
   "metadata": {},
   "source": [
    "### 5. “Throw darts” (code cell):"
   ]
  },
  {
   "cell_type": "code",
   "execution_count": null,
   "id": "a6457944-a33e-4c82-87c3-0f624be2cc39",
   "metadata": {},
   "outputs": [],
   "source": [
    "# here we \"throw darts\" and count the number of hits\n",
    "\n",
    "points = []\n",
    "hits = 0\n",
    "for _ in range(num_points):\n",
    "    x, y = random.random(), random.random()\n",
    "    if x*x + y*y < 1.0:\n",
    "        hits += 1\n",
    "        points.append((x, y, \"red\"))\n",
    "    else:\n",
    "        points.append((x, y, \"blue\"))"
   ]
  },
  {
   "cell_type": "markdown",
   "id": "8606cf69",
   "metadata": {},
   "source": [
    "### 6. Plot results (code cell):"
   ]
  },
  {
   "cell_type": "code",
   "execution_count": null,
   "id": "5ea4a612-3141-4e2c-838e-f60043e4d72c",
   "metadata": {},
   "outputs": [],
   "source": [
    "# unzip points into 3 lists\n",
    "x, y, colors = zip(*points)\n",
    "\n",
    "# define figure dimensions\n",
    "fig, ax = plt.subplots()\n",
    "fig.set_size_inches(6.0, 6.0)\n",
    "\n",
    "# plot results\n",
    "ax.scatter(x, y, c=colors)"
   ]
  },
  {
   "cell_type": "code",
   "execution_count": null,
   "id": "0713a46d",
   "metadata": {},
   "outputs": [],
   "source": [
    "# unzip points into 3 lists\n",
    "x, y, colors = zip(*points)\n",
    "\n",
    "# define figure dimensions\n",
    "fig, ax = plt.subplots()\n",
    "fig.set_size_inches(3.0, 3.0)\n",
    "\n",
    "# plot results\n",
    "ax.scatter(x, y, c=colors)\n"
   ]
  },
  {
   "cell_type": "markdown",
   "id": "ee9a76a9",
   "metadata": {},
   "source": [
    "### 7. Compute the estimate for pi (code cell):"
   ]
  },
  {
   "cell_type": "code",
   "execution_count": null,
   "id": "6694a892-3831-4869-b986-5f53baf4d5b4",
   "metadata": {},
   "outputs": [],
   "source": [
    "# compute and print the estimate\n",
    "\n",
    "fraction = hits / num_points\n",
    "4 * fraction"
   ]
  },
  {
   "cell_type": "markdown",
   "id": "d430062c",
   "metadata": {},
   "source": [
    "### 8. A few useful magic commands"
   ]
  },
  {
   "cell_type": "code",
   "execution_count": null,
   "id": "05d82b16",
   "metadata": {},
   "outputs": [],
   "source": [
    "%%timeit\n",
    "points = []\n",
    "hits = 0\n",
    "for _ in range(num_points):\n",
    "    x, y = random.random(), random.random()\n",
    "    if x*x + y*y < 1.0:\n",
    "        hits += 1\n",
    "        points.append((x, y, \"red\"))\n",
    "    else:\n",
    "        points.append((x, y, \"blue\"))"
   ]
  },
  {
   "cell_type": "code",
   "execution_count": null,
   "id": "6016b4d9",
   "metadata": {},
   "outputs": [],
   "source": [
    "%%prun\n",
    "points = []\n",
    "hits = 0\n",
    "for _ in range(num_points):\n",
    "    x, y = random.random(), random.random()\n",
    "    if x*x + y*y < 1.0:\n",
    "        hits += 1\n",
    "        points.append((x, y, \"red\"))\n",
    "    else:\n",
    "        points.append((x, y, \"blue\"))"
   ]
  },
  {
   "cell_type": "markdown",
   "id": "2780a180",
   "metadata": {},
   "source": [
    "### 9. Playing around with a widget "
   ]
  },
  {
   "cell_type": "code",
   "execution_count": null,
   "id": "eb2859e6-c974-4677-a16b-73eb189bc849",
   "metadata": {},
   "outputs": [],
   "source": [
    "import random\n",
    "from ipywidgets import interact, widgets\n",
    "\n",
    "%matplotlib inline\n",
    "from matplotlib import pyplot\n",
    "\n",
    "\n",
    "def throw_darts(num_points):\n",
    "    points = []\n",
    "    hits = 0\n",
    "    for _ in range(num_points):\n",
    "        x, y = random.random(), random.random()\n",
    "        if x*x + y*y < 1.0:\n",
    "            hits += 1\n",
    "            points.append((x, y, True))\n",
    "        else:\n",
    "            points.append((x, y, False))\n",
    "    fraction = hits / num_points\n",
    "    pi = 4 * fraction\n",
    "    return pi, points\n",
    "\n",
    "\n",
    "def create_plot(points):\n",
    "    x, y, colors = zip(*points)\n",
    "    pyplot.scatter(x, y, c=colors)\n",
    "\n",
    "\n",
    "def experiment(num_points):\n",
    "    pi, points = throw_darts(num_points)\n",
    "    create_plot(points)\n",
    "    print(\"approximation:\", pi)"
   ]
  },
  {
   "cell_type": "code",
   "execution_count": null,
   "id": "b8f2e114",
   "metadata": {},
   "outputs": [],
   "source": [
    "interact(experiment, num_points=(100,10000,100))"
   ]
  },
  {
   "cell_type": "markdown",
   "id": "e171041d",
   "metadata": {},
   "source": [
    "### Exercise: Widgets are fun, but they can also be useful. Let’s do an example showing how to fit noisy data interactively.\n",
    "\n",
    "1. Execute the cell below. It fits a 5th order polynomial to a gaussian function with some random noise\n",
    "\n",
    "2. Use interactive widget around the last two code lines such that you can visualize fits with polynomial orders n ranging from, say, 3 to 30:"
   ]
  },
  {
   "cell_type": "code",
   "execution_count": null,
   "id": "742fb307",
   "metadata": {},
   "outputs": [],
   "source": [
    "import numpy as np\n",
    "\n",
    "import matplotlib.pyplot as plt\n",
    "%matplotlib inline\n",
    "\n",
    "def gaussian(x, a, b, c):\n",
    "    return a * np.exp(-b * (x-c)**2)\n",
    "\n",
    "def noisy_gaussian():\n",
    "    # gaussian array y in interval -5 <= x <= 5\n",
    "    nx = 100\n",
    "    x = np.linspace(-5.0, 5.0, nx)\n",
    "    y = gaussian(x, a=2.0, b=0.5, c=1.5)\n",
    "    noise = np.random.normal(0.0, 0.2, nx)\n",
    "    y += noise\n",
    "    return x, y\n",
    "\n",
    "def fit(x, y, n):\n",
    "    pfit = np.polyfit(x, y, n)\n",
    "    yfit = np.polyval(pfit, x)\n",
    "    return yfit\n",
    "\n",
    "def plot(x, y, yfit):\n",
    "    plt.plot(x, y, \"r\", label=\"Data\")\n",
    "    plt.plot(x, yfit, \"b\", label=\"Fit\")\n",
    "    plt.legend()\n",
    "    plt.ylim(-0.5, 2.5)\n",
    "    plt.show()\n",
    "\n",
    "x, y = noisy_gaussian()\n",
    "yfit = fit(x, y, n=5)  # fit a 5th order polynomial to it\n",
    "plot(x, y, yfit)"
   ]
  }
 ],
 "metadata": {
  "kernelspec": {
   "display_name": "Python 3 (ipykernel)",
   "language": "python",
   "name": "python3"
  },
  "language_info": {
   "codemirror_mode": {
    "name": "ipython",
    "version": 3
   },
   "file_extension": ".py",
   "mimetype": "text/x-python",
   "name": "python",
   "nbconvert_exporter": "python",
   "pygments_lexer": "ipython3",
   "version": "3.11.4"
  }
 },
 "nbformat": 4,
 "nbformat_minor": 5
}
