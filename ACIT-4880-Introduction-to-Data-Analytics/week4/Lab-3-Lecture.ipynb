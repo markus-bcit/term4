{
 "cells": [
  {
   "cell_type": "markdown",
   "id": "9a4fd515",
   "metadata": {},
   "source": [
    "## OBJECTIVE\n",
    "\n",
    "Upon initial inspection of the data, we can start thinking of some\n",
    "questions about it that we would want to answer.\n",
    "\n",
    "1.  What is the overall sales trend?\n",
    "\n",
    "2.  Which are the Top 10 products by sales?\n",
    "\n",
    "3.  Which are the Most Selling Products?\n",
    "\n",
    "4.  Which is the most preferred Ship Mode?\n",
    "\n",
    "5.  Which are the Most Profitable Category and Sub-Category?"
   ]
  },
  {
   "cell_type": "markdown",
   "id": "e7b222d1",
   "metadata": {},
   "source": [
    "IMPORTING REQUIRED LIBRARIES"
   ]
  },
  {
   "cell_type": "code",
   "execution_count": 2,
   "id": "2b8a9543",
   "metadata": {
    "ExecuteTime": {
     "end_time": "2024-02-01T21:58:14.634702500Z",
     "start_time": "2024-02-01T21:58:11.474902400Z"
    }
   },
   "outputs": [
    {
     "name": "stderr",
     "output_type": "stream",
     "text": [
      "C:\\Users\\Markus\\AppData\\Local\\Temp\\ipykernel_22552\\3764066649.py:2: DeprecationWarning: \n",
      "Pyarrow will become a required dependency of pandas in the next major release of pandas (pandas 3.0),\n",
      "(to allow more performant data types, such as the Arrow string type, and better interoperability with other libraries)\n",
      "but was not found to be installed on your system.\n",
      "If this would cause problems for you,\n",
      "please provide us feedback at https://github.com/pandas-dev/pandas/issues/54466\n",
      "        \n",
      "  import pandas as pd\n"
     ]
    }
   ],
   "source": [
    "# Data Manipulation\n",
    "import pandas as pd\n",
    "# Data Visualisation\n",
    "import matplotlib.pyplot as plt"
   ]
  },
  {
   "cell_type": "markdown",
   "id": "8de31900",
   "metadata": {},
   "source": [
    "IMPORTING THE DATASET"
   ]
  },
  {
   "cell_type": "code",
   "execution_count": 4,
   "id": "356a6f68",
   "metadata": {
    "ExecuteTime": {
     "end_time": "2024-02-01T21:59:20.200234800Z",
     "start_time": "2024-02-01T21:59:11.094927300Z"
    }
   },
   "outputs": [],
   "source": [
    "# Importing dataset\n",
    "df = pd.read_excel('./Superstore_sales.xlsx')"
   ]
  },
  {
   "cell_type": "markdown",
   "id": "e004dfec",
   "metadata": {},
   "source": [
    "## DATA AUDIT\n",
    "You can’t make your data work for you until you know what data you’re talking about.\n",
    "\n",
    "To get a quick idea of what the data looks like, we can call the head function on the data frame. By default, this returns the top five rows, but it can take in a parameter of how many rows to return."
   ]
  },
  {
   "cell_type": "code",
   "execution_count": 5,
   "id": "1f3329a6",
   "metadata": {
    "ExecuteTime": {
     "end_time": "2024-02-01T21:59:23.688271400Z",
     "start_time": "2024-02-01T21:59:23.639639Z"
    }
   },
   "outputs": [
    {
     "data": {
      "text/plain": "          order_id order_date  ship_date       ship_mode    customer_name  \\\n0     AG-2011-2040 2011-01-01 2011-01-06  Standard Class  Toby Braunhardt   \n1    IN-2011-47883 2011-01-01 2011-01-08  Standard Class      Joseph Holt   \n2     HU-2011-1220 2011-01-01 2011-01-05    Second Class    Annie Thurman   \n3  IT-2011-3647632 2011-01-01 2011-01-05    Second Class     Eugene Moren   \n4    IN-2011-47883 2011-01-01 2011-01-08  Standard Class      Joseph Holt   \n\n       segment            state    country  market   region  ...  \\\n0     Consumer      Constantine    Algeria  Africa   Africa  ...   \n1     Consumer  New South Wales  Australia    APAC  Oceania  ...   \n2     Consumer         Budapest    Hungary    EMEA     EMEA  ...   \n3  Home Office        Stockholm     Sweden      EU    North  ...   \n4     Consumer  New South Wales  Australia    APAC  Oceania  ...   \n\n          category sub_category                 product_name    sales  \\\n0  Office Supplies      Storage          Tenex Lockers, Blue  408.300   \n1  Office Supplies     Supplies     Acme Trimmer, High Speed  120.366   \n2  Office Supplies      Storage      Tenex Box, Single Width      NaN   \n3  Office Supplies        Paper  Enermax Note Cards, Premium   44.865   \n4        Furniture  Furnishings   Eldon Light Bulb, Duo Pack  113.670   \n\n   quantity  discount   profit  shipping_cost  order_priority  year  \n0         2       0.0  106.140          35.46          Medium  2011  \n1         3       0.1   36.036           9.72          Medium  2011  \n2         4       0.0   29.640           8.17            High  2011  \n3         3       0.5  -26.055           4.82            High  2011  \n4         5       0.1   37.770           4.70          Medium  2011  \n\n[5 rows x 21 columns]",
      "text/html": "<div>\n<style scoped>\n    .dataframe tbody tr th:only-of-type {\n        vertical-align: middle;\n    }\n\n    .dataframe tbody tr th {\n        vertical-align: top;\n    }\n\n    .dataframe thead th {\n        text-align: right;\n    }\n</style>\n<table border=\"1\" class=\"dataframe\">\n  <thead>\n    <tr style=\"text-align: right;\">\n      <th></th>\n      <th>order_id</th>\n      <th>order_date</th>\n      <th>ship_date</th>\n      <th>ship_mode</th>\n      <th>customer_name</th>\n      <th>segment</th>\n      <th>state</th>\n      <th>country</th>\n      <th>market</th>\n      <th>region</th>\n      <th>...</th>\n      <th>category</th>\n      <th>sub_category</th>\n      <th>product_name</th>\n      <th>sales</th>\n      <th>quantity</th>\n      <th>discount</th>\n      <th>profit</th>\n      <th>shipping_cost</th>\n      <th>order_priority</th>\n      <th>year</th>\n    </tr>\n  </thead>\n  <tbody>\n    <tr>\n      <th>0</th>\n      <td>AG-2011-2040</td>\n      <td>2011-01-01</td>\n      <td>2011-01-06</td>\n      <td>Standard Class</td>\n      <td>Toby Braunhardt</td>\n      <td>Consumer</td>\n      <td>Constantine</td>\n      <td>Algeria</td>\n      <td>Africa</td>\n      <td>Africa</td>\n      <td>...</td>\n      <td>Office Supplies</td>\n      <td>Storage</td>\n      <td>Tenex Lockers, Blue</td>\n      <td>408.300</td>\n      <td>2</td>\n      <td>0.0</td>\n      <td>106.140</td>\n      <td>35.46</td>\n      <td>Medium</td>\n      <td>2011</td>\n    </tr>\n    <tr>\n      <th>1</th>\n      <td>IN-2011-47883</td>\n      <td>2011-01-01</td>\n      <td>2011-01-08</td>\n      <td>Standard Class</td>\n      <td>Joseph Holt</td>\n      <td>Consumer</td>\n      <td>New South Wales</td>\n      <td>Australia</td>\n      <td>APAC</td>\n      <td>Oceania</td>\n      <td>...</td>\n      <td>Office Supplies</td>\n      <td>Supplies</td>\n      <td>Acme Trimmer, High Speed</td>\n      <td>120.366</td>\n      <td>3</td>\n      <td>0.1</td>\n      <td>36.036</td>\n      <td>9.72</td>\n      <td>Medium</td>\n      <td>2011</td>\n    </tr>\n    <tr>\n      <th>2</th>\n      <td>HU-2011-1220</td>\n      <td>2011-01-01</td>\n      <td>2011-01-05</td>\n      <td>Second Class</td>\n      <td>Annie Thurman</td>\n      <td>Consumer</td>\n      <td>Budapest</td>\n      <td>Hungary</td>\n      <td>EMEA</td>\n      <td>EMEA</td>\n      <td>...</td>\n      <td>Office Supplies</td>\n      <td>Storage</td>\n      <td>Tenex Box, Single Width</td>\n      <td>NaN</td>\n      <td>4</td>\n      <td>0.0</td>\n      <td>29.640</td>\n      <td>8.17</td>\n      <td>High</td>\n      <td>2011</td>\n    </tr>\n    <tr>\n      <th>3</th>\n      <td>IT-2011-3647632</td>\n      <td>2011-01-01</td>\n      <td>2011-01-05</td>\n      <td>Second Class</td>\n      <td>Eugene Moren</td>\n      <td>Home Office</td>\n      <td>Stockholm</td>\n      <td>Sweden</td>\n      <td>EU</td>\n      <td>North</td>\n      <td>...</td>\n      <td>Office Supplies</td>\n      <td>Paper</td>\n      <td>Enermax Note Cards, Premium</td>\n      <td>44.865</td>\n      <td>3</td>\n      <td>0.5</td>\n      <td>-26.055</td>\n      <td>4.82</td>\n      <td>High</td>\n      <td>2011</td>\n    </tr>\n    <tr>\n      <th>4</th>\n      <td>IN-2011-47883</td>\n      <td>2011-01-01</td>\n      <td>2011-01-08</td>\n      <td>Standard Class</td>\n      <td>Joseph Holt</td>\n      <td>Consumer</td>\n      <td>New South Wales</td>\n      <td>Australia</td>\n      <td>APAC</td>\n      <td>Oceania</td>\n      <td>...</td>\n      <td>Furniture</td>\n      <td>Furnishings</td>\n      <td>Eldon Light Bulb, Duo Pack</td>\n      <td>113.670</td>\n      <td>5</td>\n      <td>0.1</td>\n      <td>37.770</td>\n      <td>4.70</td>\n      <td>Medium</td>\n      <td>2011</td>\n    </tr>\n  </tbody>\n</table>\n<p>5 rows × 21 columns</p>\n</div>"
     },
     "execution_count": 5,
     "metadata": {},
     "output_type": "execute_result"
    }
   ],
   "source": [
    "# First five rows of the dataset\n",
    "df.head(5)"
   ]
  },
  {
   "cell_type": "code",
   "execution_count": 6,
   "id": "8946e155",
   "metadata": {
    "ExecuteTime": {
     "end_time": "2024-02-01T21:59:29.521805700Z",
     "start_time": "2024-02-01T21:59:29.490041900Z"
    }
   },
   "outputs": [
    {
     "data": {
      "text/plain": "             order_id order_date  ship_date       ship_mode     customer_name  \\\n51285  CA-2014-115427 2014-12-31 2015-01-04  Standard Class        Erica Bern   \n51286    MO-2014-2560 2014-12-31 2015-01-05  Standard Class         Liz Preis   \n51287  MX-2014-110527 2014-12-31 2015-01-02    Second Class  Charlotte Melton   \n51288  MX-2014-114783 2014-12-31 2015-01-06  Standard Class     Tamara Dahlen   \n51289  CA-2014-156720 2014-12-31 2015-01-04  Standard Class     Jill Matthias   \n\n         segment             state        country  market   region  ...  \\\n51285  Corporate        California  United States      US     West  ...   \n51286   Consumer  Souss-Massa-Draâ        Morocco  Africa   Africa  ...   \n51287   Consumer           Managua      Nicaragua   LATAM  Central  ...   \n51288   Consumer         Chihuahua         Mexico   LATAM    North  ...   \n51289   Consumer          Colorado  United States      US     West  ...   \n\n              category sub_category  \\\n51285  Office Supplies      Binders   \n51286  Office Supplies      Binders   \n51287  Office Supplies       Labels   \n51288  Office Supplies       Labels   \n51289  Office Supplies    Fasteners   \n\n                                          product_name   sales  quantity  \\\n51285  Cardinal Slant-D Ring Binder, Heavy Gauge Vinyl  13.904         2   \n51286          Wilson Jones Hole Reinforcements, Clear   3.990         1   \n51287           Hon Color Coded Labels, 5000 Label Set  26.400         3   \n51288           Hon Legal Exhibit Labels, Alphabetical   7.120         1   \n51289                              Bagged Rubber Bands   3.024         3   \n\n       discount   profit  shipping_cost  order_priority  year  \n51285       0.2   4.5188          0.890          Medium  2014  \n51286       0.0   0.4200          0.490          Medium  2014  \n51287       0.0  12.3600          0.350          Medium  2014  \n51288       0.0   0.5600          0.199          Medium  2014  \n51289       0.2  -0.6048          0.170          Medium  2014  \n\n[5 rows x 21 columns]",
      "text/html": "<div>\n<style scoped>\n    .dataframe tbody tr th:only-of-type {\n        vertical-align: middle;\n    }\n\n    .dataframe tbody tr th {\n        vertical-align: top;\n    }\n\n    .dataframe thead th {\n        text-align: right;\n    }\n</style>\n<table border=\"1\" class=\"dataframe\">\n  <thead>\n    <tr style=\"text-align: right;\">\n      <th></th>\n      <th>order_id</th>\n      <th>order_date</th>\n      <th>ship_date</th>\n      <th>ship_mode</th>\n      <th>customer_name</th>\n      <th>segment</th>\n      <th>state</th>\n      <th>country</th>\n      <th>market</th>\n      <th>region</th>\n      <th>...</th>\n      <th>category</th>\n      <th>sub_category</th>\n      <th>product_name</th>\n      <th>sales</th>\n      <th>quantity</th>\n      <th>discount</th>\n      <th>profit</th>\n      <th>shipping_cost</th>\n      <th>order_priority</th>\n      <th>year</th>\n    </tr>\n  </thead>\n  <tbody>\n    <tr>\n      <th>51285</th>\n      <td>CA-2014-115427</td>\n      <td>2014-12-31</td>\n      <td>2015-01-04</td>\n      <td>Standard Class</td>\n      <td>Erica Bern</td>\n      <td>Corporate</td>\n      <td>California</td>\n      <td>United States</td>\n      <td>US</td>\n      <td>West</td>\n      <td>...</td>\n      <td>Office Supplies</td>\n      <td>Binders</td>\n      <td>Cardinal Slant-D Ring Binder, Heavy Gauge Vinyl</td>\n      <td>13.904</td>\n      <td>2</td>\n      <td>0.2</td>\n      <td>4.5188</td>\n      <td>0.890</td>\n      <td>Medium</td>\n      <td>2014</td>\n    </tr>\n    <tr>\n      <th>51286</th>\n      <td>MO-2014-2560</td>\n      <td>2014-12-31</td>\n      <td>2015-01-05</td>\n      <td>Standard Class</td>\n      <td>Liz Preis</td>\n      <td>Consumer</td>\n      <td>Souss-Massa-Draâ</td>\n      <td>Morocco</td>\n      <td>Africa</td>\n      <td>Africa</td>\n      <td>...</td>\n      <td>Office Supplies</td>\n      <td>Binders</td>\n      <td>Wilson Jones Hole Reinforcements, Clear</td>\n      <td>3.990</td>\n      <td>1</td>\n      <td>0.0</td>\n      <td>0.4200</td>\n      <td>0.490</td>\n      <td>Medium</td>\n      <td>2014</td>\n    </tr>\n    <tr>\n      <th>51287</th>\n      <td>MX-2014-110527</td>\n      <td>2014-12-31</td>\n      <td>2015-01-02</td>\n      <td>Second Class</td>\n      <td>Charlotte Melton</td>\n      <td>Consumer</td>\n      <td>Managua</td>\n      <td>Nicaragua</td>\n      <td>LATAM</td>\n      <td>Central</td>\n      <td>...</td>\n      <td>Office Supplies</td>\n      <td>Labels</td>\n      <td>Hon Color Coded Labels, 5000 Label Set</td>\n      <td>26.400</td>\n      <td>3</td>\n      <td>0.0</td>\n      <td>12.3600</td>\n      <td>0.350</td>\n      <td>Medium</td>\n      <td>2014</td>\n    </tr>\n    <tr>\n      <th>51288</th>\n      <td>MX-2014-114783</td>\n      <td>2014-12-31</td>\n      <td>2015-01-06</td>\n      <td>Standard Class</td>\n      <td>Tamara Dahlen</td>\n      <td>Consumer</td>\n      <td>Chihuahua</td>\n      <td>Mexico</td>\n      <td>LATAM</td>\n      <td>North</td>\n      <td>...</td>\n      <td>Office Supplies</td>\n      <td>Labels</td>\n      <td>Hon Legal Exhibit Labels, Alphabetical</td>\n      <td>7.120</td>\n      <td>1</td>\n      <td>0.0</td>\n      <td>0.5600</td>\n      <td>0.199</td>\n      <td>Medium</td>\n      <td>2014</td>\n    </tr>\n    <tr>\n      <th>51289</th>\n      <td>CA-2014-156720</td>\n      <td>2014-12-31</td>\n      <td>2015-01-04</td>\n      <td>Standard Class</td>\n      <td>Jill Matthias</td>\n      <td>Consumer</td>\n      <td>Colorado</td>\n      <td>United States</td>\n      <td>US</td>\n      <td>West</td>\n      <td>...</td>\n      <td>Office Supplies</td>\n      <td>Fasteners</td>\n      <td>Bagged Rubber Bands</td>\n      <td>3.024</td>\n      <td>3</td>\n      <td>0.2</td>\n      <td>-0.6048</td>\n      <td>0.170</td>\n      <td>Medium</td>\n      <td>2014</td>\n    </tr>\n  </tbody>\n</table>\n<p>5 rows × 21 columns</p>\n</div>"
     },
     "execution_count": 6,
     "metadata": {},
     "output_type": "execute_result"
    }
   ],
   "source": [
    "# Last five rows of the dataset\n",
    "df.tail(5)"
   ]
  },
  {
   "cell_type": "code",
   "execution_count": 7,
   "id": "c7f860e0",
   "metadata": {
    "ExecuteTime": {
     "end_time": "2024-02-01T21:59:33.469911Z",
     "start_time": "2024-02-01T21:59:33.454236700Z"
    }
   },
   "outputs": [
    {
     "data": {
      "text/plain": "(51290, 21)"
     },
     "execution_count": 7,
     "metadata": {},
     "output_type": "execute_result"
    }
   ],
   "source": [
    "# Shape of the dataset\n",
    "df.shape"
   ]
  },
  {
   "cell_type": "code",
   "execution_count": 8,
   "id": "d861ce90",
   "metadata": {
    "ExecuteTime": {
     "end_time": "2024-02-01T21:59:35.815604600Z",
     "start_time": "2024-02-01T21:59:35.804889200Z"
    }
   },
   "outputs": [
    {
     "data": {
      "text/plain": "Index(['order_id', 'order_date', 'ship_date', 'ship_mode', 'customer_name',\n       'segment', 'state', 'country', 'market', 'region', 'product_id',\n       'category', 'sub_category', 'product_name', 'sales', 'quantity',\n       'discount', 'profit', 'shipping_cost', 'order_priority', 'year'],\n      dtype='object')"
     },
     "execution_count": 8,
     "metadata": {},
     "output_type": "execute_result"
    }
   ],
   "source": [
    "# Columns present in the dataset\n",
    "df.columns"
   ]
  },
  {
   "cell_type": "markdown",
   "id": "9c18df25",
   "metadata": {},
   "source": [
    "This looks a lot like an Excel spreadsheet, doesn’t it? Under the hood, the data frame is a two-dimensional data structure and each column can have different types. To show that, we can call dtypes attribute on the data frame to see what each column types are."
   ]
  },
  {
   "cell_type": "code",
   "execution_count": 9,
   "id": "aaf4e815",
   "metadata": {
    "ExecuteTime": {
     "end_time": "2024-02-01T21:59:37.747872Z",
     "start_time": "2024-02-01T21:59:37.714712Z"
    }
   },
   "outputs": [
    {
     "name": "stdout",
     "output_type": "stream",
     "text": [
      "<class 'pandas.core.frame.DataFrame'>\n",
      "RangeIndex: 51290 entries, 0 to 51289\n",
      "Data columns (total 21 columns):\n",
      " #   Column          Non-Null Count  Dtype         \n",
      "---  ------          --------------  -----         \n",
      " 0   order_id        51290 non-null  object        \n",
      " 1   order_date      51290 non-null  datetime64[ns]\n",
      " 2   ship_date       51290 non-null  datetime64[ns]\n",
      " 3   ship_mode       51290 non-null  object        \n",
      " 4   customer_name   51290 non-null  object        \n",
      " 5   segment         51290 non-null  object        \n",
      " 6   state           51290 non-null  object        \n",
      " 7   country         51290 non-null  object        \n",
      " 8   market          51290 non-null  object        \n",
      " 9   region          51290 non-null  object        \n",
      " 10  product_id      51290 non-null  object        \n",
      " 11  category        51290 non-null  object        \n",
      " 12  sub_category    51290 non-null  object        \n",
      " 13  product_name    51290 non-null  object        \n",
      " 14  sales           51289 non-null  float64       \n",
      " 15  quantity        51290 non-null  int64         \n",
      " 16  discount        51290 non-null  float64       \n",
      " 17  profit          51290 non-null  float64       \n",
      " 18  shipping_cost   51290 non-null  float64       \n",
      " 19  order_priority  51290 non-null  object        \n",
      " 20  year            51290 non-null  int64         \n",
      "dtypes: datetime64[ns](2), float64(4), int64(2), object(13)\n",
      "memory usage: 8.2+ MB\n"
     ]
    }
   ],
   "source": [
    "# A concise summary of the dataset\n",
    "df.info()"
   ]
  },
  {
   "cell_type": "markdown",
   "id": "3fb3e1a7",
   "metadata": {},
   "source": [
    "Next, we can look at some descriptive statistics of the data frame with\n",
    "the describe method.\n",
    "\n",
    "This shows some descriptive statistics on the data set. Notice, it only\n",
    "shows the statistics on the numerical columns. From here you can see the\n",
    "following statistics:\n",
    "\n",
    "-   Row count, which aligns to what the shape attribute showed us.\n",
    "-   The mean, or average.\n",
    "-   The standard deviation, or how spread out the data is.\n",
    "-   The minimum and maximum value of each column\n",
    "-   The number of items that fall within the first, second, and third\n",
    "    percentiles."
   ]
  },
  {
   "cell_type": "code",
   "execution_count": null,
   "id": "47563c9e",
   "metadata": {},
   "outputs": [],
   "source": [
    "# Generating descriptive statistics summary\n"
   ]
  },
  {
   "cell_type": "markdown",
   "id": "4314977a",
   "metadata": {},
   "source": [
    "Now we can do further analysis on our data to answer our questions.\n",
    "Before that, we should see if there are any missing values in our data\n",
    "set.To check if there are any missing values in the entire data set we\n",
    "use the isnull function, then see if there are any values."
   ]
  },
  {
   "cell_type": "code",
   "execution_count": null,
   "id": "ad1a93f7",
   "metadata": {},
   "outputs": [],
   "source": [
    "# Checking missing values\n"
   ]
  },
  {
   "cell_type": "markdown",
   "id": "d88b8be9",
   "metadata": {},
   "source": [
    "# EXPLORATORY DATA ANALYSIS\n",
    "\n",
    "1\\. WHAT IS THE OVERALL SALES TREND?"
   ]
  },
  {
   "cell_type": "code",
   "execution_count": 10,
   "id": "bd799286",
   "metadata": {
    "ExecuteTime": {
     "end_time": "2024-02-01T22:02:31.485307800Z",
     "start_time": "2024-02-01T22:02:31.478488900Z"
    }
   },
   "outputs": [
    {
     "data": {
      "text/plain": "0        408.300\n1        120.366\n2            NaN\n3         44.865\n4        113.670\n          ...   \n51285     13.904\n51286      3.990\n51287     26.400\n51288      7.120\n51289      3.024\nName: sales, Length: 51290, dtype: float64"
     },
     "execution_count": 10,
     "metadata": {},
     "output_type": "execute_result"
    }
   ],
   "source": [
    "df['sales']"
   ]
  },
  {
   "cell_type": "code",
   "execution_count": 14,
   "id": "b71db2db",
   "metadata": {
    "ExecuteTime": {
     "end_time": "2024-02-01T22:05:17.008855100Z",
     "start_time": "2024-02-01T22:05:16.987346600Z"
    }
   },
   "outputs": [
    {
     "data": {
      "text/plain": "246.49409795238745"
     },
     "execution_count": 14,
     "metadata": {},
     "output_type": "execute_result"
    }
   ],
   "source": [
    "# Getting month year from order_date\n",
    "df['sales'].mean()"
   ]
  },
  {
   "cell_type": "code",
   "execution_count": 15,
   "id": "4924a289",
   "metadata": {
    "ExecuteTime": {
     "end_time": "2024-02-01T22:05:20.089002100Z",
     "start_time": "2024-02-01T22:05:20.074556700Z"
    }
   },
   "outputs": [],
   "source": [
    "df.loc[2, 'sales'] = df['sales'].mean()"
   ]
  },
  {
   "cell_type": "code",
   "execution_count": 17,
   "id": "beb5fea6",
   "metadata": {
    "ExecuteTime": {
     "end_time": "2024-02-01T22:06:10.475798600Z",
     "start_time": "2024-02-01T22:06:10.419344300Z"
    }
   },
   "outputs": [
    {
     "data": {
      "text/plain": "order_id          0\norder_date        0\nship_date         0\nship_mode         0\ncustomer_name     0\nsegment           0\nstate             0\ncountry           0\nmarket            0\nregion            0\nproduct_id        0\ncategory          0\nsub_category      0\nproduct_name      0\nsales             0\nquantity          0\ndiscount          0\nprofit            0\nshipping_cost     0\norder_priority    0\nyear              0\ndtype: int64"
     },
     "execution_count": 17,
     "metadata": {},
     "output_type": "execute_result"
    }
   ],
   "source": [
    "df.isna().sum()"
   ]
  },
  {
   "cell_type": "markdown",
   "source": [
    "Data is now clean"
   ],
   "metadata": {
    "collapsed": false
   },
   "id": "6a5648ecea68e3e0"
  },
  {
   "cell_type": "code",
   "execution_count": 19,
   "id": "e58ad762",
   "metadata": {
    "ExecuteTime": {
     "end_time": "2024-02-01T22:15:28.832688600Z",
     "start_time": "2024-02-01T22:15:28.620402Z"
    }
   },
   "outputs": [
    {
     "data": {
      "text/plain": "0        2011-01\n1        2011-01\n2        2011-01\n3        2011-01\n4        2011-01\n          ...   \n51285    2014-12\n51286    2014-12\n51287    2014-12\n51288    2014-12\n51289    2014-12\nName: month_year, Length: 51290, dtype: object"
     },
     "execution_count": 19,
     "metadata": {},
     "output_type": "execute_result"
    }
   ],
   "source": [
    "df['month_year'] = df['order_date'].apply(lambda x : x.strftime('%Y-%m'))\n",
    "df['month_year']"
   ]
  },
  {
   "cell_type": "code",
   "execution_count": 20,
   "id": "44db65ad",
   "metadata": {
    "ExecuteTime": {
     "end_time": "2024-02-01T22:20:05.500410400Z",
     "start_time": "2024-02-01T22:20:05.465990100Z"
    }
   },
   "outputs": [
    {
     "data": {
      "text/plain": "                    sales\nmonth_year               \n2011-01      99078.862958\n2011-02      91152.156980\n2011-03     145729.367360\n2011-04     116915.764180\n2011-05     146747.836100\n2011-06     215207.380220\n2011-07     115510.419120\n2011-08     207581.491220\n2011-09     290214.455340\n2011-10     199071.264040\n2011-11     298496.537520\n2011-12     333925.734600\n2012-01     135780.720240\n2012-02     100510.216980\n2012-03     163076.771160\n2012-04     161052.269520\n2012-05     208364.891240\n2012-06     256175.698420\n2012-07     145236.785120\n2012-08     303142.942380\n2012-09     289389.165640\n2012-10     252939.850200\n2012-11     323512.416900\n2012-12     338256.966600\n2013-01     199185.907380\n2013-02     167239.650400\n2013-03     198594.030120\n2013-04     177821.316840\n2013-05     260498.564700\n2013-06     396519.611900\n2013-07     229928.952000\n2013-08     326488.789360\n2013-09     376619.245680\n2013-10     293406.642880\n2013-11     373989.360100\n2013-12     405454.378020\n2014-01     241268.555660\n2014-02     184837.355560\n2014-03     263100.772620\n2014-04     242771.861300\n2014-05     288401.046140\n2014-06     401814.063100\n2014-07     258705.680480\n2014-08     456619.942360\n2014-09     481157.243700\n2014-10     422766.629160\n2014-11     555279.027000\n2014-12     503143.693480",
      "text/html": "<div>\n<style scoped>\n    .dataframe tbody tr th:only-of-type {\n        vertical-align: middle;\n    }\n\n    .dataframe tbody tr th {\n        vertical-align: top;\n    }\n\n    .dataframe thead th {\n        text-align: right;\n    }\n</style>\n<table border=\"1\" class=\"dataframe\">\n  <thead>\n    <tr style=\"text-align: right;\">\n      <th></th>\n      <th>sales</th>\n    </tr>\n    <tr>\n      <th>month_year</th>\n      <th></th>\n    </tr>\n  </thead>\n  <tbody>\n    <tr>\n      <th>2011-01</th>\n      <td>99078.862958</td>\n    </tr>\n    <tr>\n      <th>2011-02</th>\n      <td>91152.156980</td>\n    </tr>\n    <tr>\n      <th>2011-03</th>\n      <td>145729.367360</td>\n    </tr>\n    <tr>\n      <th>2011-04</th>\n      <td>116915.764180</td>\n    </tr>\n    <tr>\n      <th>2011-05</th>\n      <td>146747.836100</td>\n    </tr>\n    <tr>\n      <th>2011-06</th>\n      <td>215207.380220</td>\n    </tr>\n    <tr>\n      <th>2011-07</th>\n      <td>115510.419120</td>\n    </tr>\n    <tr>\n      <th>2011-08</th>\n      <td>207581.491220</td>\n    </tr>\n    <tr>\n      <th>2011-09</th>\n      <td>290214.455340</td>\n    </tr>\n    <tr>\n      <th>2011-10</th>\n      <td>199071.264040</td>\n    </tr>\n    <tr>\n      <th>2011-11</th>\n      <td>298496.537520</td>\n    </tr>\n    <tr>\n      <th>2011-12</th>\n      <td>333925.734600</td>\n    </tr>\n    <tr>\n      <th>2012-01</th>\n      <td>135780.720240</td>\n    </tr>\n    <tr>\n      <th>2012-02</th>\n      <td>100510.216980</td>\n    </tr>\n    <tr>\n      <th>2012-03</th>\n      <td>163076.771160</td>\n    </tr>\n    <tr>\n      <th>2012-04</th>\n      <td>161052.269520</td>\n    </tr>\n    <tr>\n      <th>2012-05</th>\n      <td>208364.891240</td>\n    </tr>\n    <tr>\n      <th>2012-06</th>\n      <td>256175.698420</td>\n    </tr>\n    <tr>\n      <th>2012-07</th>\n      <td>145236.785120</td>\n    </tr>\n    <tr>\n      <th>2012-08</th>\n      <td>303142.942380</td>\n    </tr>\n    <tr>\n      <th>2012-09</th>\n      <td>289389.165640</td>\n    </tr>\n    <tr>\n      <th>2012-10</th>\n      <td>252939.850200</td>\n    </tr>\n    <tr>\n      <th>2012-11</th>\n      <td>323512.416900</td>\n    </tr>\n    <tr>\n      <th>2012-12</th>\n      <td>338256.966600</td>\n    </tr>\n    <tr>\n      <th>2013-01</th>\n      <td>199185.907380</td>\n    </tr>\n    <tr>\n      <th>2013-02</th>\n      <td>167239.650400</td>\n    </tr>\n    <tr>\n      <th>2013-03</th>\n      <td>198594.030120</td>\n    </tr>\n    <tr>\n      <th>2013-04</th>\n      <td>177821.316840</td>\n    </tr>\n    <tr>\n      <th>2013-05</th>\n      <td>260498.564700</td>\n    </tr>\n    <tr>\n      <th>2013-06</th>\n      <td>396519.611900</td>\n    </tr>\n    <tr>\n      <th>2013-07</th>\n      <td>229928.952000</td>\n    </tr>\n    <tr>\n      <th>2013-08</th>\n      <td>326488.789360</td>\n    </tr>\n    <tr>\n      <th>2013-09</th>\n      <td>376619.245680</td>\n    </tr>\n    <tr>\n      <th>2013-10</th>\n      <td>293406.642880</td>\n    </tr>\n    <tr>\n      <th>2013-11</th>\n      <td>373989.360100</td>\n    </tr>\n    <tr>\n      <th>2013-12</th>\n      <td>405454.378020</td>\n    </tr>\n    <tr>\n      <th>2014-01</th>\n      <td>241268.555660</td>\n    </tr>\n    <tr>\n      <th>2014-02</th>\n      <td>184837.355560</td>\n    </tr>\n    <tr>\n      <th>2014-03</th>\n      <td>263100.772620</td>\n    </tr>\n    <tr>\n      <th>2014-04</th>\n      <td>242771.861300</td>\n    </tr>\n    <tr>\n      <th>2014-05</th>\n      <td>288401.046140</td>\n    </tr>\n    <tr>\n      <th>2014-06</th>\n      <td>401814.063100</td>\n    </tr>\n    <tr>\n      <th>2014-07</th>\n      <td>258705.680480</td>\n    </tr>\n    <tr>\n      <th>2014-08</th>\n      <td>456619.942360</td>\n    </tr>\n    <tr>\n      <th>2014-09</th>\n      <td>481157.243700</td>\n    </tr>\n    <tr>\n      <th>2014-10</th>\n      <td>422766.629160</td>\n    </tr>\n    <tr>\n      <th>2014-11</th>\n      <td>555279.027000</td>\n    </tr>\n    <tr>\n      <th>2014-12</th>\n      <td>503143.693480</td>\n    </tr>\n  </tbody>\n</table>\n</div>"
     },
     "execution_count": 20,
     "metadata": {},
     "output_type": "execute_result"
    }
   ],
   "source": [
    "pd.DataFrame(df.groupby('month_year').sales.sum())"
   ]
  },
  {
   "cell_type": "markdown",
   "id": "f3a95251",
   "metadata": {},
   "source": [
    "2\\. WHICH ARE THE TOP 10 PRODUCTS BY SALES?"
   ]
  },
  {
   "cell_type": "code",
   "execution_count": 35,
   "id": "bcf1679e",
   "metadata": {
    "ExecuteTime": {
     "end_time": "2024-02-01T22:30:10.963466900Z",
     "start_time": "2024-02-01T22:30:10.937944400Z"
    }
   },
   "outputs": [
    {
     "data": {
      "text/plain": "                                                         sales\nproduct_name                                                  \nApple Smart Phone, Full Size                        86935.7786\nCisco Smart Phone, Full Size                        76441.5306\nMotorola Smart Phone, Full Size                     73156.3030\nNokia Smart Phone, Full Size                        71904.5555\nCanon imageCLASS 2200 Advanced Copier               61599.8240\nHon Executive Leather Armchair, Adjustable          58193.4841\nOffice Star Executive Leather Armchair, Adjustable  50661.6840\nHarbour Creations Executive Leather Armchair, A...  50121.5160\nSamsung Smart Phone, Cordless                       48653.4600\nNokia Smart Phone, with Caller ID                   47877.7857",
      "text/html": "<div>\n<style scoped>\n    .dataframe tbody tr th:only-of-type {\n        vertical-align: middle;\n    }\n\n    .dataframe tbody tr th {\n        vertical-align: top;\n    }\n\n    .dataframe thead th {\n        text-align: right;\n    }\n</style>\n<table border=\"1\" class=\"dataframe\">\n  <thead>\n    <tr style=\"text-align: right;\">\n      <th></th>\n      <th>sales</th>\n    </tr>\n    <tr>\n      <th>product_name</th>\n      <th></th>\n    </tr>\n  </thead>\n  <tbody>\n    <tr>\n      <th>Apple Smart Phone, Full Size</th>\n      <td>86935.7786</td>\n    </tr>\n    <tr>\n      <th>Cisco Smart Phone, Full Size</th>\n      <td>76441.5306</td>\n    </tr>\n    <tr>\n      <th>Motorola Smart Phone, Full Size</th>\n      <td>73156.3030</td>\n    </tr>\n    <tr>\n      <th>Nokia Smart Phone, Full Size</th>\n      <td>71904.5555</td>\n    </tr>\n    <tr>\n      <th>Canon imageCLASS 2200 Advanced Copier</th>\n      <td>61599.8240</td>\n    </tr>\n    <tr>\n      <th>Hon Executive Leather Armchair, Adjustable</th>\n      <td>58193.4841</td>\n    </tr>\n    <tr>\n      <th>Office Star Executive Leather Armchair, Adjustable</th>\n      <td>50661.6840</td>\n    </tr>\n    <tr>\n      <th>Harbour Creations Executive Leather Armchair, Adjustable</th>\n      <td>50121.5160</td>\n    </tr>\n    <tr>\n      <th>Samsung Smart Phone, Cordless</th>\n      <td>48653.4600</td>\n    </tr>\n    <tr>\n      <th>Nokia Smart Phone, with Caller ID</th>\n      <td>47877.7857</td>\n    </tr>\n  </tbody>\n</table>\n</div>"
     },
     "execution_count": 35,
     "metadata": {},
     "output_type": "execute_result"
    }
   ],
   "source": [
    "# Grouping products by sales\n",
    "prod_sales = pd.DataFrame(df.groupby('product_name').sales.sum())\n",
    "# Sorting the dataframe in descending order\n",
    "prod_sales.sort_values(by='sales', ascending=False)[:10]\n",
    "\n",
    "# Top 10 products by sales"
   ]
  },
  {
   "cell_type": "markdown",
   "id": "a8da2e8d",
   "metadata": {},
   "source": [
    "3\\. WHICH ARE THE MOST SELLING PRODUCTS?"
   ]
  },
  {
   "cell_type": "code",
   "execution_count": 36,
   "id": "9daa2275",
   "metadata": {
    "ExecuteTime": {
     "end_time": "2024-02-01T22:32:39.244300900Z",
     "start_time": "2024-02-01T22:32:39.208300900Z"
    }
   },
   "outputs": [
    {
     "data": {
      "text/plain": "                                       quantity\nproduct_name                                   \nStaples                                     876\nCardinal Index Tab, Clear                   337\nEldon File Cart, Single Width               321\nRogers File Cart, Single Width              262\nSanford Pencil Sharpener, Water Color       259\nStockwell Paper Clips, Assorted Sizes       253\nAvery Index Tab, Clear                      252\nIbico Index Tab, Clear                      251\nSmead File Cart, Single Width               250\nStanley Pencil Sharpener, Water Color       242",
      "text/html": "<div>\n<style scoped>\n    .dataframe tbody tr th:only-of-type {\n        vertical-align: middle;\n    }\n\n    .dataframe tbody tr th {\n        vertical-align: top;\n    }\n\n    .dataframe thead th {\n        text-align: right;\n    }\n</style>\n<table border=\"1\" class=\"dataframe\">\n  <thead>\n    <tr style=\"text-align: right;\">\n      <th></th>\n      <th>quantity</th>\n    </tr>\n    <tr>\n      <th>product_name</th>\n      <th></th>\n    </tr>\n  </thead>\n  <tbody>\n    <tr>\n      <th>Staples</th>\n      <td>876</td>\n    </tr>\n    <tr>\n      <th>Cardinal Index Tab, Clear</th>\n      <td>337</td>\n    </tr>\n    <tr>\n      <th>Eldon File Cart, Single Width</th>\n      <td>321</td>\n    </tr>\n    <tr>\n      <th>Rogers File Cart, Single Width</th>\n      <td>262</td>\n    </tr>\n    <tr>\n      <th>Sanford Pencil Sharpener, Water Color</th>\n      <td>259</td>\n    </tr>\n    <tr>\n      <th>Stockwell Paper Clips, Assorted Sizes</th>\n      <td>253</td>\n    </tr>\n    <tr>\n      <th>Avery Index Tab, Clear</th>\n      <td>252</td>\n    </tr>\n    <tr>\n      <th>Ibico Index Tab, Clear</th>\n      <td>251</td>\n    </tr>\n    <tr>\n      <th>Smead File Cart, Single Width</th>\n      <td>250</td>\n    </tr>\n    <tr>\n      <th>Stanley Pencil Sharpener, Water Color</th>\n      <td>242</td>\n    </tr>\n  </tbody>\n</table>\n</div>"
     },
     "execution_count": 36,
     "metadata": {},
     "output_type": "execute_result"
    }
   ],
   "source": [
    "# Grouping products by Quantity\n",
    "prod_sales = pd.DataFrame(df.groupby('product_name').quantity.sum())\n",
    "# Sorting the dataframe in descending order\n",
    "prod_sales.sort_values(by='quantity', ascending=False)[:10]\n",
    "\n",
    "# Most selling products"
   ]
  },
  {
   "cell_type": "markdown",
   "id": "191a9c99",
   "metadata": {},
   "source": [
    "4\\. WHAT IS THE MOST PREFERRED SHIP MODE?"
   ]
  },
  {
   "cell_type": "code",
   "execution_count": 37,
   "id": "abaaf68f",
   "metadata": {
    "ExecuteTime": {
     "end_time": "2024-02-01T22:32:58.802179500Z",
     "start_time": "2024-02-01T22:32:58.736324800Z"
    }
   },
   "outputs": [
    {
     "data": {
      "text/plain": "              order_id order_date  ship_date       ship_mode  \\\n0         AG-2011-2040 2011-01-01 2011-01-06  Standard Class   \n1        IN-2011-47883 2011-01-01 2011-01-08  Standard Class   \n2         HU-2011-1220 2011-01-01 2011-01-05    Second Class   \n3      IT-2011-3647632 2011-01-01 2011-01-05    Second Class   \n4        IN-2011-47883 2011-01-01 2011-01-08  Standard Class   \n...                ...        ...        ...             ...   \n51285   CA-2014-115427 2014-12-31 2015-01-04  Standard Class   \n51286     MO-2014-2560 2014-12-31 2015-01-05  Standard Class   \n51287   MX-2014-110527 2014-12-31 2015-01-02    Second Class   \n51288   MX-2014-114783 2014-12-31 2015-01-06  Standard Class   \n51289   CA-2014-156720 2014-12-31 2015-01-04  Standard Class   \n\n          customer_name      segment             state        country  market  \\\n0       Toby Braunhardt     Consumer       Constantine        Algeria  Africa   \n1           Joseph Holt     Consumer   New South Wales      Australia    APAC   \n2         Annie Thurman     Consumer          Budapest        Hungary    EMEA   \n3          Eugene Moren  Home Office         Stockholm         Sweden      EU   \n4           Joseph Holt     Consumer   New South Wales      Australia    APAC   \n...                 ...          ...               ...            ...     ...   \n51285        Erica Bern    Corporate        California  United States      US   \n51286         Liz Preis     Consumer  Souss-Massa-Draâ        Morocco  Africa   \n51287  Charlotte Melton     Consumer           Managua      Nicaragua   LATAM   \n51288     Tamara Dahlen     Consumer         Chihuahua         Mexico   LATAM   \n51289     Jill Matthias     Consumer          Colorado  United States      US   \n\n        region  ... sub_category  \\\n0       Africa  ...      Storage   \n1      Oceania  ...     Supplies   \n2         EMEA  ...      Storage   \n3        North  ...        Paper   \n4      Oceania  ...  Furnishings   \n...        ...  ...          ...   \n51285     West  ...      Binders   \n51286   Africa  ...      Binders   \n51287  Central  ...       Labels   \n51288    North  ...       Labels   \n51289     West  ...    Fasteners   \n\n                                          product_name       sales quantity  \\\n0                                  Tenex Lockers, Blue  408.300000        2   \n1                             Acme Trimmer, High Speed  120.366000        3   \n2                              Tenex Box, Single Width  246.494098        4   \n3                          Enermax Note Cards, Premium   44.865000        3   \n4                           Eldon Light Bulb, Duo Pack  113.670000        5   \n...                                                ...         ...      ...   \n51285  Cardinal Slant-D Ring Binder, Heavy Gauge Vinyl   13.904000        2   \n51286          Wilson Jones Hole Reinforcements, Clear    3.990000        1   \n51287           Hon Color Coded Labels, 5000 Label Set   26.400000        3   \n51288           Hon Legal Exhibit Labels, Alphabetical    7.120000        1   \n51289                              Bagged Rubber Bands    3.024000        3   \n\n       discount    profit  shipping_cost  order_priority  year month_year  \n0           0.0  106.1400         35.460          Medium  2011    2011-01  \n1           0.1   36.0360          9.720          Medium  2011    2011-01  \n2           0.0   29.6400          8.170            High  2011    2011-01  \n3           0.5  -26.0550          4.820            High  2011    2011-01  \n4           0.1   37.7700          4.700          Medium  2011    2011-01  \n...         ...       ...            ...             ...   ...        ...  \n51285       0.2    4.5188          0.890          Medium  2014    2014-12  \n51286       0.0    0.4200          0.490          Medium  2014    2014-12  \n51287       0.0   12.3600          0.350          Medium  2014    2014-12  \n51288       0.0    0.5600          0.199          Medium  2014    2014-12  \n51289       0.2   -0.6048          0.170          Medium  2014    2014-12  \n\n[51290 rows x 22 columns]",
      "text/html": "<div>\n<style scoped>\n    .dataframe tbody tr th:only-of-type {\n        vertical-align: middle;\n    }\n\n    .dataframe tbody tr th {\n        vertical-align: top;\n    }\n\n    .dataframe thead th {\n        text-align: right;\n    }\n</style>\n<table border=\"1\" class=\"dataframe\">\n  <thead>\n    <tr style=\"text-align: right;\">\n      <th></th>\n      <th>order_id</th>\n      <th>order_date</th>\n      <th>ship_date</th>\n      <th>ship_mode</th>\n      <th>customer_name</th>\n      <th>segment</th>\n      <th>state</th>\n      <th>country</th>\n      <th>market</th>\n      <th>region</th>\n      <th>...</th>\n      <th>sub_category</th>\n      <th>product_name</th>\n      <th>sales</th>\n      <th>quantity</th>\n      <th>discount</th>\n      <th>profit</th>\n      <th>shipping_cost</th>\n      <th>order_priority</th>\n      <th>year</th>\n      <th>month_year</th>\n    </tr>\n  </thead>\n  <tbody>\n    <tr>\n      <th>0</th>\n      <td>AG-2011-2040</td>\n      <td>2011-01-01</td>\n      <td>2011-01-06</td>\n      <td>Standard Class</td>\n      <td>Toby Braunhardt</td>\n      <td>Consumer</td>\n      <td>Constantine</td>\n      <td>Algeria</td>\n      <td>Africa</td>\n      <td>Africa</td>\n      <td>...</td>\n      <td>Storage</td>\n      <td>Tenex Lockers, Blue</td>\n      <td>408.300000</td>\n      <td>2</td>\n      <td>0.0</td>\n      <td>106.1400</td>\n      <td>35.460</td>\n      <td>Medium</td>\n      <td>2011</td>\n      <td>2011-01</td>\n    </tr>\n    <tr>\n      <th>1</th>\n      <td>IN-2011-47883</td>\n      <td>2011-01-01</td>\n      <td>2011-01-08</td>\n      <td>Standard Class</td>\n      <td>Joseph Holt</td>\n      <td>Consumer</td>\n      <td>New South Wales</td>\n      <td>Australia</td>\n      <td>APAC</td>\n      <td>Oceania</td>\n      <td>...</td>\n      <td>Supplies</td>\n      <td>Acme Trimmer, High Speed</td>\n      <td>120.366000</td>\n      <td>3</td>\n      <td>0.1</td>\n      <td>36.0360</td>\n      <td>9.720</td>\n      <td>Medium</td>\n      <td>2011</td>\n      <td>2011-01</td>\n    </tr>\n    <tr>\n      <th>2</th>\n      <td>HU-2011-1220</td>\n      <td>2011-01-01</td>\n      <td>2011-01-05</td>\n      <td>Second Class</td>\n      <td>Annie Thurman</td>\n      <td>Consumer</td>\n      <td>Budapest</td>\n      <td>Hungary</td>\n      <td>EMEA</td>\n      <td>EMEA</td>\n      <td>...</td>\n      <td>Storage</td>\n      <td>Tenex Box, Single Width</td>\n      <td>246.494098</td>\n      <td>4</td>\n      <td>0.0</td>\n      <td>29.6400</td>\n      <td>8.170</td>\n      <td>High</td>\n      <td>2011</td>\n      <td>2011-01</td>\n    </tr>\n    <tr>\n      <th>3</th>\n      <td>IT-2011-3647632</td>\n      <td>2011-01-01</td>\n      <td>2011-01-05</td>\n      <td>Second Class</td>\n      <td>Eugene Moren</td>\n      <td>Home Office</td>\n      <td>Stockholm</td>\n      <td>Sweden</td>\n      <td>EU</td>\n      <td>North</td>\n      <td>...</td>\n      <td>Paper</td>\n      <td>Enermax Note Cards, Premium</td>\n      <td>44.865000</td>\n      <td>3</td>\n      <td>0.5</td>\n      <td>-26.0550</td>\n      <td>4.820</td>\n      <td>High</td>\n      <td>2011</td>\n      <td>2011-01</td>\n    </tr>\n    <tr>\n      <th>4</th>\n      <td>IN-2011-47883</td>\n      <td>2011-01-01</td>\n      <td>2011-01-08</td>\n      <td>Standard Class</td>\n      <td>Joseph Holt</td>\n      <td>Consumer</td>\n      <td>New South Wales</td>\n      <td>Australia</td>\n      <td>APAC</td>\n      <td>Oceania</td>\n      <td>...</td>\n      <td>Furnishings</td>\n      <td>Eldon Light Bulb, Duo Pack</td>\n      <td>113.670000</td>\n      <td>5</td>\n      <td>0.1</td>\n      <td>37.7700</td>\n      <td>4.700</td>\n      <td>Medium</td>\n      <td>2011</td>\n      <td>2011-01</td>\n    </tr>\n    <tr>\n      <th>...</th>\n      <td>...</td>\n      <td>...</td>\n      <td>...</td>\n      <td>...</td>\n      <td>...</td>\n      <td>...</td>\n      <td>...</td>\n      <td>...</td>\n      <td>...</td>\n      <td>...</td>\n      <td>...</td>\n      <td>...</td>\n      <td>...</td>\n      <td>...</td>\n      <td>...</td>\n      <td>...</td>\n      <td>...</td>\n      <td>...</td>\n      <td>...</td>\n      <td>...</td>\n      <td>...</td>\n    </tr>\n    <tr>\n      <th>51285</th>\n      <td>CA-2014-115427</td>\n      <td>2014-12-31</td>\n      <td>2015-01-04</td>\n      <td>Standard Class</td>\n      <td>Erica Bern</td>\n      <td>Corporate</td>\n      <td>California</td>\n      <td>United States</td>\n      <td>US</td>\n      <td>West</td>\n      <td>...</td>\n      <td>Binders</td>\n      <td>Cardinal Slant-D Ring Binder, Heavy Gauge Vinyl</td>\n      <td>13.904000</td>\n      <td>2</td>\n      <td>0.2</td>\n      <td>4.5188</td>\n      <td>0.890</td>\n      <td>Medium</td>\n      <td>2014</td>\n      <td>2014-12</td>\n    </tr>\n    <tr>\n      <th>51286</th>\n      <td>MO-2014-2560</td>\n      <td>2014-12-31</td>\n      <td>2015-01-05</td>\n      <td>Standard Class</td>\n      <td>Liz Preis</td>\n      <td>Consumer</td>\n      <td>Souss-Massa-Draâ</td>\n      <td>Morocco</td>\n      <td>Africa</td>\n      <td>Africa</td>\n      <td>...</td>\n      <td>Binders</td>\n      <td>Wilson Jones Hole Reinforcements, Clear</td>\n      <td>3.990000</td>\n      <td>1</td>\n      <td>0.0</td>\n      <td>0.4200</td>\n      <td>0.490</td>\n      <td>Medium</td>\n      <td>2014</td>\n      <td>2014-12</td>\n    </tr>\n    <tr>\n      <th>51287</th>\n      <td>MX-2014-110527</td>\n      <td>2014-12-31</td>\n      <td>2015-01-02</td>\n      <td>Second Class</td>\n      <td>Charlotte Melton</td>\n      <td>Consumer</td>\n      <td>Managua</td>\n      <td>Nicaragua</td>\n      <td>LATAM</td>\n      <td>Central</td>\n      <td>...</td>\n      <td>Labels</td>\n      <td>Hon Color Coded Labels, 5000 Label Set</td>\n      <td>26.400000</td>\n      <td>3</td>\n      <td>0.0</td>\n      <td>12.3600</td>\n      <td>0.350</td>\n      <td>Medium</td>\n      <td>2014</td>\n      <td>2014-12</td>\n    </tr>\n    <tr>\n      <th>51288</th>\n      <td>MX-2014-114783</td>\n      <td>2014-12-31</td>\n      <td>2015-01-06</td>\n      <td>Standard Class</td>\n      <td>Tamara Dahlen</td>\n      <td>Consumer</td>\n      <td>Chihuahua</td>\n      <td>Mexico</td>\n      <td>LATAM</td>\n      <td>North</td>\n      <td>...</td>\n      <td>Labels</td>\n      <td>Hon Legal Exhibit Labels, Alphabetical</td>\n      <td>7.120000</td>\n      <td>1</td>\n      <td>0.0</td>\n      <td>0.5600</td>\n      <td>0.199</td>\n      <td>Medium</td>\n      <td>2014</td>\n      <td>2014-12</td>\n    </tr>\n    <tr>\n      <th>51289</th>\n      <td>CA-2014-156720</td>\n      <td>2014-12-31</td>\n      <td>2015-01-04</td>\n      <td>Standard Class</td>\n      <td>Jill Matthias</td>\n      <td>Consumer</td>\n      <td>Colorado</td>\n      <td>United States</td>\n      <td>US</td>\n      <td>West</td>\n      <td>...</td>\n      <td>Fasteners</td>\n      <td>Bagged Rubber Bands</td>\n      <td>3.024000</td>\n      <td>3</td>\n      <td>0.2</td>\n      <td>-0.6048</td>\n      <td>0.170</td>\n      <td>Medium</td>\n      <td>2014</td>\n      <td>2014-12</td>\n    </tr>\n  </tbody>\n</table>\n<p>51290 rows × 22 columns</p>\n</div>"
     },
     "execution_count": 37,
     "metadata": {},
     "output_type": "execute_result"
    }
   ],
   "source": [
    "df"
   ]
  },
  {
   "cell_type": "code",
   "execution_count": 44,
   "id": "80b03134",
   "metadata": {
    "scrolled": false,
    "ExecuteTime": {
     "end_time": "2024-02-01T22:36:00.450979300Z",
     "start_time": "2024-02-01T22:36:00.402127800Z"
    }
   },
   "outputs": [
    {
     "data": {
      "text/plain": "ship_mode\nFirst Class        7505\nSame Day           2701\nSecond Class      10309\nStandard Class    30775\nName: order_id, dtype: int64"
     },
     "execution_count": 44,
     "metadata": {},
     "output_type": "execute_result"
    }
   ],
   "source": [
    "df.groupby('ship_mode').order_id.count()"
   ]
  },
  {
   "cell_type": "markdown",
   "id": "7a7c0eeb",
   "metadata": {},
   "source": [
    "5\\. WHICH ARE THE MOST PROFITABLE CATEGORY AND SUB-CATEGORY?"
   ]
  },
  {
   "cell_type": "code",
   "execution_count": 61,
   "id": "515845b9",
   "metadata": {
    "ExecuteTime": {
     "end_time": "2024-02-01T22:43:07.692982400Z",
     "start_time": "2024-02-01T22:43:07.671746300Z"
    }
   },
   "outputs": [
    {
     "data": {
      "text/plain": "category         sub_category\nFurniture        Bookcases       161924.41950\n                 Chairs          141973.79750\n                 Furnishings      46967.42550\n                 Tables          -64083.38870\nOffice Supplies  Appliances      141680.58940\n                 Art              57953.91090\n                 Binders          72449.84600\n                 Envelopes        29601.11630\n                 Fasteners        11525.42410\n                 Labels           15010.51200\n                 Paper            59207.68270\n                 Storage         108461.48980\n                 Supplies         22583.26310\nTechnology       Accessories     129626.30620\n                 Copiers         258567.54818\n                 Machines         58867.87300\n                 Phones          216717.00580\nName: profit, dtype: float64"
     },
     "execution_count": 61,
     "metadata": {},
     "output_type": "execute_result"
    }
   ],
   "source": [
    "# Grouping products by Category and Sub-Category\n",
    "df.groupby(['category', 'sub_category']).sum('profit')['profit']\n",
    "# Sorting the values\n"
   ]
  },
  {
   "cell_type": "code",
   "outputs": [],
   "source": [],
   "metadata": {
    "collapsed": false
   },
   "id": "27bd499f56ce46f8"
  }
 ],
 "metadata": {
  "kernelspec": {
   "display_name": "Python 3 (ipykernel)",
   "language": "python",
   "name": "python3"
  },
  "language_info": {
   "codemirror_mode": {
    "name": "ipython",
    "version": 3
   },
   "file_extension": ".py",
   "mimetype": "text/x-python",
   "name": "python",
   "nbconvert_exporter": "python",
   "pygments_lexer": "ipython3",
   "version": "3.11.5"
  }
 },
 "nbformat": 4,
 "nbformat_minor": 5
}
