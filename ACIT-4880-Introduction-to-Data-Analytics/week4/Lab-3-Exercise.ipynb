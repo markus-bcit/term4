{
 "cells": [
  {
   "cell_type": "markdown",
   "id": "39a74623",
   "metadata": {},
   "source": [
    "# EXPLORATORY DATA ANALYSIS WITH PANDAS"
   ]
  },
  {
   "cell_type": "markdown",
   "id": "cd070683",
   "metadata": {},
   "source": [
    "1. Convert a NumPy array that goes from 10 to 50 into a one-dimensional labelled array (i.e., Pandas Series)."
   ]
  },
  {
   "cell_type": "code",
   "execution_count": 6,
   "id": "9fa4970b",
   "metadata": {
    "ExecuteTime": {
     "end_time": "2024-02-08T22:24:02.094632500Z",
     "start_time": "2024-02-08T22:24:01.841505700Z"
    }
   },
   "outputs": [],
   "source": [
    "import pandas as pd\n",
    "import numpy as np\n",
    "\n",
    "numpy = np.arange(10, 51) \n",
    "panda = pd.array(numpy)\n",
    "\n"
   ]
  },
  {
   "cell_type": "markdown",
   "id": "19f78a41",
   "metadata": {},
   "source": [
    "2. Print elements with indices 1 through 3 from the above one-dimensional labelled array."
   ]
  },
  {
   "cell_type": "code",
   "execution_count": 7,
   "id": "5939b20f",
   "metadata": {
    "ExecuteTime": {
     "end_time": "2024-02-08T22:24:02.233630100Z",
     "start_time": "2024-02-08T22:24:02.100745Z"
    }
   },
   "outputs": [
    {
     "name": "stdout",
     "output_type": "stream",
     "text": [
      "<IntegerArray>\n",
      "[10, 11, 12]\n",
      "Length: 3, dtype: Int32\n"
     ]
    }
   ],
   "source": [
    "print(panda[:3])"
   ]
  },
  {
   "cell_type": "markdown",
   "id": "3d87757d",
   "metadata": {},
   "source": [
    "3.  Create a  a one-dimensional labelled array from a dictionary where keys become the index labels."
   ]
  },
  {
   "cell_type": "code",
   "execution_count": 8,
   "id": "41dfe4db",
   "metadata": {
    "ExecuteTime": {
     "end_time": "2024-02-08T22:24:02.419048900Z",
     "start_time": "2024-02-08T22:24:02.238513200Z"
    }
   },
   "outputs": [
    {
     "data": {
      "text/plain": "value1    10\nvalue2    20\nvalue3    30\ndtype: int64"
     },
     "execution_count": 8,
     "metadata": {},
     "output_type": "execute_result"
    }
   ],
   "source": [
    "dic = {'value1': 10, 'value2': 20, 'value3': 30}\n",
    "pd.Series(dic)\n"
   ]
  },
  {
   "cell_type": "markdown",
   "id": "8a9f4e41",
   "metadata": {},
   "source": [
    "4.  Create a DataFrame with a single column from a list."
   ]
  },
  {
   "cell_type": "code",
   "execution_count": 9,
   "id": "51ba36fb",
   "metadata": {
    "ExecuteTime": {
     "end_time": "2024-02-08T22:24:02.620761800Z",
     "start_time": "2024-02-08T22:24:02.421067900Z"
    }
   },
   "outputs": [
    {
     "data": {
      "text/plain": "    0\n0  10\n1  20\n2  30\n3  40\n4  50",
      "text/html": "<div>\n<style scoped>\n    .dataframe tbody tr th:only-of-type {\n        vertical-align: middle;\n    }\n\n    .dataframe tbody tr th {\n        vertical-align: top;\n    }\n\n    .dataframe thead th {\n        text-align: right;\n    }\n</style>\n<table border=\"1\" class=\"dataframe\">\n  <thead>\n    <tr style=\"text-align: right;\">\n      <th></th>\n      <th>0</th>\n    </tr>\n  </thead>\n  <tbody>\n    <tr>\n      <th>0</th>\n      <td>10</td>\n    </tr>\n    <tr>\n      <th>1</th>\n      <td>20</td>\n    </tr>\n    <tr>\n      <th>2</th>\n      <td>30</td>\n    </tr>\n    <tr>\n      <th>3</th>\n      <td>40</td>\n    </tr>\n    <tr>\n      <th>4</th>\n      <td>50</td>\n    </tr>\n  </tbody>\n</table>\n</div>"
     },
     "execution_count": 9,
     "metadata": {},
     "output_type": "execute_result"
    }
   ],
   "source": [
    "lst = [10, 20, 30, 40, 50]\n",
    "pd.DataFrame(lst)"
   ]
  },
  {
   "cell_type": "markdown",
   "id": "27be090b",
   "metadata": {},
   "source": [
    "5.  Create a DataFrame from a dictionary containing three pandas serieses having: \n",
    "- Four rows with row indices being 'a', 'b', 'c', 'd'.\n",
    "- Three columns with column indices being 'one', 'two', 'three'.\n",
    "- One value NaN due to dimension mismatch."
   ]
  },
  {
   "cell_type": "code",
   "execution_count": 10,
   "id": "135cd32c",
   "metadata": {
    "ExecuteTime": {
     "end_time": "2024-02-08T22:24:02.743595300Z",
     "start_time": "2024-02-08T22:24:02.549612500Z"
    }
   },
   "outputs": [
    {
     "data": {
      "text/plain": "   one  two  three\na    1    1    1.0\nb    2    2    2.0\nc    3    3    NaN\nd    4    4    3.0",
      "text/html": "<div>\n<style scoped>\n    .dataframe tbody tr th:only-of-type {\n        vertical-align: middle;\n    }\n\n    .dataframe tbody tr th {\n        vertical-align: top;\n    }\n\n    .dataframe thead th {\n        text-align: right;\n    }\n</style>\n<table border=\"1\" class=\"dataframe\">\n  <thead>\n    <tr style=\"text-align: right;\">\n      <th></th>\n      <th>one</th>\n      <th>two</th>\n      <th>three</th>\n    </tr>\n  </thead>\n  <tbody>\n    <tr>\n      <th>a</th>\n      <td>1</td>\n      <td>1</td>\n      <td>1.0</td>\n    </tr>\n    <tr>\n      <th>b</th>\n      <td>2</td>\n      <td>2</td>\n      <td>2.0</td>\n    </tr>\n    <tr>\n      <th>c</th>\n      <td>3</td>\n      <td>3</td>\n      <td>NaN</td>\n    </tr>\n    <tr>\n      <th>d</th>\n      <td>4</td>\n      <td>4</td>\n      <td>3.0</td>\n    </tr>\n  </tbody>\n</table>\n</div>"
     },
     "execution_count": 10,
     "metadata": {},
     "output_type": "execute_result"
    }
   ],
   "source": [
    "ps1 = pd.Series({'a': 1, 'b': 2, 'c': 3, 'd': 4})\n",
    "ps2 = pd.Series({'a': 1, 'b': 2, 'c': 3, 'd': 4})\n",
    "ps3 = pd.Series({'a': 1, 'b': 2, 'd': 3})\n",
    "# \n",
    "# \n",
    "df = pd.DataFrame({'one': ps1, 'two': ps2, 'three': ps3})\n",
    "df"
   ]
  },
  {
   "cell_type": "markdown",
   "id": "f9edbce4",
   "metadata": {},
   "source": [
    "6.  Add a new column named ‘four’ to the above DataFrame with the last value being NaN."
   ]
  },
  {
   "cell_type": "code",
   "execution_count": 11,
   "id": "e7b2f806",
   "metadata": {
    "ExecuteTime": {
     "end_time": "2024-02-08T22:24:03.020445100Z",
     "start_time": "2024-02-08T22:24:02.747897400Z"
    }
   },
   "outputs": [
    {
     "data": {
      "text/plain": "   one  two  three  four\na    1    1    1.0   1.0\nb    2    2    2.0   2.0\nc    3    3    NaN   3.0\nd    4    4    3.0   NaN",
      "text/html": "<div>\n<style scoped>\n    .dataframe tbody tr th:only-of-type {\n        vertical-align: middle;\n    }\n\n    .dataframe tbody tr th {\n        vertical-align: top;\n    }\n\n    .dataframe thead th {\n        text-align: right;\n    }\n</style>\n<table border=\"1\" class=\"dataframe\">\n  <thead>\n    <tr style=\"text-align: right;\">\n      <th></th>\n      <th>one</th>\n      <th>two</th>\n      <th>three</th>\n      <th>four</th>\n    </tr>\n  </thead>\n  <tbody>\n    <tr>\n      <th>a</th>\n      <td>1</td>\n      <td>1</td>\n      <td>1.0</td>\n      <td>1.0</td>\n    </tr>\n    <tr>\n      <th>b</th>\n      <td>2</td>\n      <td>2</td>\n      <td>2.0</td>\n      <td>2.0</td>\n    </tr>\n    <tr>\n      <th>c</th>\n      <td>3</td>\n      <td>3</td>\n      <td>NaN</td>\n      <td>3.0</td>\n    </tr>\n    <tr>\n      <th>d</th>\n      <td>4</td>\n      <td>4</td>\n      <td>3.0</td>\n      <td>NaN</td>\n    </tr>\n  </tbody>\n</table>\n</div>"
     },
     "execution_count": 11,
     "metadata": {},
     "output_type": "execute_result"
    }
   ],
   "source": [
    "df['four'] = {'a': 1, 'b': 2, 'c': 3}\n",
    "df"
   ]
  },
  {
   "cell_type": "markdown",
   "id": "db8d3714",
   "metadata": {},
   "source": [
    "7. Delete the ‘one’ column from the above DataFrame and print the modified DataFrame."
   ]
  },
  {
   "cell_type": "code",
   "execution_count": 12,
   "id": "3944e94d",
   "metadata": {
    "ExecuteTime": {
     "end_time": "2024-02-08T22:24:03.082075400Z",
     "start_time": "2024-02-08T22:24:02.868670800Z"
    }
   },
   "outputs": [
    {
     "name": "stdout",
     "output_type": "stream",
     "text": [
      "   two  three  four\n",
      "a    1    1.0   1.0\n",
      "b    2    2.0   2.0\n",
      "c    3    NaN   3.0\n",
      "d    4    3.0   NaN\n"
     ]
    }
   ],
   "source": [
    "df.drop(columns=['one'], axis=1, inplace=True)\n",
    "print(df)"
   ]
  },
  {
   "cell_type": "markdown",
   "id": "e95f81c3",
   "metadata": {},
   "source": [
    "8. Pop (remove and return) the ‘two’ column from the DataFrame, print the \n",
    "- popped column, and \n",
    "- modified DataFrame."
   ]
  },
  {
   "cell_type": "code",
   "execution_count": 13,
   "id": "0dfd2729",
   "metadata": {
    "ExecuteTime": {
     "end_time": "2024-02-08T22:24:03.501414800Z",
     "start_time": "2024-02-08T22:24:03.075547600Z"
    }
   },
   "outputs": [
    {
     "name": "stdout",
     "output_type": "stream",
     "text": [
      "a    1\n",
      "b    2\n",
      "c    3\n",
      "d    4\n",
      "Name: two, dtype: int64\n",
      "   three  four\n",
      "a    1.0   1.0\n",
      "b    2.0   2.0\n",
      "c    NaN   3.0\n",
      "d    3.0   NaN\n"
     ]
    }
   ],
   "source": [
    "print(df.pop('two'))\n",
    "print(df)"
   ]
  },
  {
   "cell_type": "markdown",
   "id": "df117ac3",
   "metadata": {},
   "source": [
    "9. Print the row with the index label ‘c’ from the above DataFrame. Hint: search for lac and iloc"
   ]
  },
  {
   "cell_type": "code",
   "execution_count": 14,
   "id": "c46fb940",
   "metadata": {
    "ExecuteTime": {
     "end_time": "2024-02-08T22:24:03.771863900Z",
     "start_time": "2024-02-08T22:24:03.448259Z"
    }
   },
   "outputs": [
    {
     "name": "stdout",
     "output_type": "stream",
     "text": [
      "three    NaN\n",
      "four     3.0\n",
      "Name: c, dtype: float64\n"
     ]
    }
   ],
   "source": [
    "print(df.loc['c'])"
   ]
  },
  {
   "cell_type": "markdown",
   "id": "fe1f79b1",
   "metadata": {},
   "source": [
    "10. Print the row at index 2 (the third row) from the DataFrame. Hint: search for lac and iloc"
   ]
  },
  {
   "cell_type": "code",
   "execution_count": 15,
   "id": "38874e46",
   "metadata": {
    "ExecuteTime": {
     "end_time": "2024-02-08T22:24:04.070735200Z",
     "start_time": "2024-02-08T22:24:03.777663800Z"
    }
   },
   "outputs": [
    {
     "name": "stdout",
     "output_type": "stream",
     "text": [
      "three    NaN\n",
      "four     3.0\n",
      "Name: c, dtype: float64\n"
     ]
    }
   ],
   "source": [
    "print(df.iloc[2])\n"
   ]
  },
  {
   "cell_type": "markdown",
   "id": "a63e8881",
   "metadata": {},
   "source": [
    "11. Create a new row DataFrame, and concatenate it with the avobe DataFrame."
   ]
  },
  {
   "cell_type": "code",
   "execution_count": 16,
   "id": "43a95d2a",
   "metadata": {
    "ExecuteTime": {
     "end_time": "2024-02-08T22:24:04.206358300Z",
     "start_time": "2024-02-08T22:24:04.060639300Z"
    }
   },
   "outputs": [
    {
     "name": "stdout",
     "output_type": "stream",
     "text": [
      "   three  four\n",
      "a    1.0   1.0\n",
      "b    2.0   2.0\n",
      "c    NaN   3.0\n",
      "d    3.0   NaN\n",
      "e    NaN   3.0\n"
     ]
    }
   ],
   "source": [
    "df.loc['e'] = df.iloc[2]\n",
    "print(df)"
   ]
  },
  {
   "cell_type": "markdown",
   "id": "c144d60d",
   "metadata": {},
   "source": [
    "12. Load the sales managers data set, then: \n",
    "- Print the sum and avg of the number of units sold.\n",
    "- Print the names of the sales managers (without redundancy).\n",
    "- Print the first and the third records in the data set. \n",
    "- Add a new record to the data set and print the last five records including the new record.\n",
    "- Delete the record that has the index 26. \n",
    "- Save the data set to a CSV file with a new index column, then open it in Excel and notice the added and deleted records. \n"
   ]
  },
  {
   "cell_type": "code",
   "execution_count": 17,
   "id": "54db9792",
   "metadata": {
    "scrolled": true,
    "ExecuteTime": {
     "end_time": "2024-02-08T22:24:04.405756500Z",
     "start_time": "2024-02-08T22:24:04.213566300Z"
    }
   },
   "outputs": [
    {
     "name": "stdout",
     "output_type": "stream",
     "text": [
      "2095\n",
      "48.72093023255814\n",
      "['Mike' 'Sophie ' 'Tom ' 'Anne ' 'Jack ' 'Mike ' 'Header ' 'Bob ' 'Maria '\n",
      " 'Header' 'Rob' 'Diana ' 'Alex' 'Jack' 'Markus']\n",
      "Unnamed: 0               1\n",
      "OrderDate        12-Jul-18\n",
      "Region                East\n",
      "Sales Manager      Sophie \n",
      "Item                Binder\n",
      "Units                   29\n",
      "Price                 1.99\n",
      "Name: 1, dtype: object Unnamed: 0               3\n",
      "OrderDate        29-Jul-18\n",
      "Region                East\n",
      "Sales Manager        Anne \n",
      "Item                Binder\n",
      "Units                   81\n",
      "Price                19.99\n",
      "Name: 3, dtype: object\n",
      "    Unnamed: 0  OrderDate   Region Sales Manager    Item  Units   Price\n",
      "39        40.0  08-Jun-19     East         Mike   Binder     60    8.99\n",
      "40        41.0  17-Jun-19  Central          Jack    Desk      5  125.00\n",
      "41        42.0  25-Jun-19  Central          Tom   Pencil     90    4.99\n",
      "42        43.0  12-Jul-23    South        Markus  Coffee     10    5.00\n",
      "43         NaN  12-Jul-23    South        Markus  Coffee     10    5.00\n"
     ]
    }
   ],
   "source": [
    "df = pd.read_csv('./SalesManager.csv')\n",
    "\n",
    "print(df['Units'].sum())\n",
    "print(df['Units'].mean())\n",
    "print(df['Sales Manager'].unique())\n",
    "print(df.loc[1], df.loc[3])\n",
    "df.loc[len(df)] = {'OrderDate': '12-Jul-23', 'Region' : 'South', 'Sales Manager': 'Markus', 'Item': 'Coffee', 'Units' : 10, 'Price' : 5}\n",
    "print(df.tail(5))\n",
    "df.drop(index=26, axis=1, inplace=True)\n",
    "df.to_csv('SalesManager.csv', index=True)"
   ]
  },
  {
   "cell_type": "markdown",
   "id": "185f1d5f",
   "metadata": {},
   "source": [
    "13. Load the Titanic data set, then: \n",
    "- Print **only** the the top two **male** passengers with maximum **Age** and **Fare**."
   ]
  },
  {
   "cell_type": "code",
   "execution_count": 18,
   "id": "5983eba3",
   "metadata": {
    "ExecuteTime": {
     "end_time": "2024-02-08T22:24:04.495085100Z",
     "start_time": "2024-02-08T22:24:04.295144Z"
    }
   },
   "outputs": [
    {
     "name": "stdout",
     "output_type": "stream",
     "text": [
      "     PassengerId  Survived  Pclass                                  Name  \\\n",
      "630          631         1       1  Barkworth, Mr. Algernon Henry Wilson   \n",
      "851          852         0       3                   Svensson, Mr. Johan   \n",
      "\n",
      "      Sex   Age  SibSp  Parch  Ticket    Fare Cabin Embarked  \n",
      "630  male  80.0      0      0   27042  30.000   A23        S  \n",
      "851  male  74.0      0      0  347060   7.775   NaN        S  \n"
     ]
    }
   ],
   "source": [
    "df = pd.read_csv('./Titanic.csv')\n",
    "\n",
    "males = df[df['Sex'] == 'male']\n",
    "print(males.sort_values(['Age', 'Fare'], ascending=False)[:2])"
   ]
  },
  {
   "cell_type": "code",
   "outputs": [],
   "source": [],
   "metadata": {
    "collapsed": false,
    "ExecuteTime": {
     "end_time": "2024-02-08T22:24:04.610674500Z",
     "start_time": "2024-02-08T22:24:04.465643800Z"
    }
   },
   "id": "a6012c0189250895",
   "execution_count": 18
  }
 ],
 "metadata": {
  "kernelspec": {
   "display_name": "Python 3 (ipykernel)",
   "language": "python",
   "name": "python3"
  },
  "language_info": {
   "codemirror_mode": {
    "name": "ipython",
    "version": 3
   },
   "file_extension": ".py",
   "mimetype": "text/x-python",
   "name": "python",
   "nbconvert_exporter": "python",
   "pygments_lexer": "ipython3",
   "version": "3.11.4"
  }
 },
 "nbformat": 4,
 "nbformat_minor": 5
}
