{
 "cells": [
  {
   "cell_type": "code",
   "execution_count": 1,
   "metadata": {
    "ExecuteTime": {
     "end_time": "2024-03-08T00:03:44.052956Z",
     "start_time": "2024-03-08T00:03:43.956833400Z"
    }
   },
   "outputs": [
    {
     "data": {
      "text/plain": "      TV  Radio  Newspaper  Sales\n0  230.1   37.8       69.2   22.1\n1   44.5   39.3       45.1   10.4\n2   17.2   45.9       69.3    9.3\n3  151.5   41.3       58.5   18.5\n4  180.8   10.8       58.4   12.9",
      "text/html": "<div>\n<style scoped>\n    .dataframe tbody tr th:only-of-type {\n        vertical-align: middle;\n    }\n\n    .dataframe tbody tr th {\n        vertical-align: top;\n    }\n\n    .dataframe thead th {\n        text-align: right;\n    }\n</style>\n<table border=\"1\" class=\"dataframe\">\n  <thead>\n    <tr style=\"text-align: right;\">\n      <th></th>\n      <th>TV</th>\n      <th>Radio</th>\n      <th>Newspaper</th>\n      <th>Sales</th>\n    </tr>\n  </thead>\n  <tbody>\n    <tr>\n      <th>0</th>\n      <td>230.1</td>\n      <td>37.8</td>\n      <td>69.2</td>\n      <td>22.1</td>\n    </tr>\n    <tr>\n      <th>1</th>\n      <td>44.5</td>\n      <td>39.3</td>\n      <td>45.1</td>\n      <td>10.4</td>\n    </tr>\n    <tr>\n      <th>2</th>\n      <td>17.2</td>\n      <td>45.9</td>\n      <td>69.3</td>\n      <td>9.3</td>\n    </tr>\n    <tr>\n      <th>3</th>\n      <td>151.5</td>\n      <td>41.3</td>\n      <td>58.5</td>\n      <td>18.5</td>\n    </tr>\n    <tr>\n      <th>4</th>\n      <td>180.8</td>\n      <td>10.8</td>\n      <td>58.4</td>\n      <td>12.9</td>\n    </tr>\n  </tbody>\n</table>\n</div>"
     },
     "execution_count": 1,
     "metadata": {},
     "output_type": "execute_result"
    }
   ],
   "source": [
    "# Import pandas \n",
    "import pandas as pd\n",
    " \n",
    "# Read the dataset using read_csv method\n",
    "df = pd.read_csv(\"Advertising.csv\")\n",
    " \n",
    "# See the top-5 records in the data\n",
    "df.head()"
   ]
  },
  {
   "cell_type": "code",
   "execution_count": 2,
   "metadata": {
    "ExecuteTime": {
     "end_time": "2024-03-08T00:03:44.068964900Z",
     "start_time": "2024-03-08T00:03:44.048040200Z"
    }
   },
   "outputs": [],
   "source": [
    "# Independent variables or Features\n",
    "X = df[['TV', 'Radio', 'Newspaper']] \n",
    " \n",
    "# Dependent or Target variable\n",
    "y = df.Sales \n"
   ]
  },
  {
   "cell_type": "code",
   "execution_count": 3,
   "metadata": {
    "ExecuteTime": {
     "end_time": "2024-03-08T00:03:44.519879400Z",
     "start_time": "2024-03-08T00:03:44.061968600Z"
    }
   },
   "outputs": [],
   "source": [
    "# Import train_test_split function from \n",
    "from sklearn.model_selection import train_test_split\n",
    " \n",
    "# Split X and y into training and testing sets\n",
    "X_train, X_test, y_train, y_test = train_test_split(X,y,test_size=0.25,random_state=0)"
   ]
  },
  {
   "cell_type": "code",
   "execution_count": 4,
   "metadata": {
    "ExecuteTime": {
     "end_time": "2024-03-08T00:03:44.692653300Z",
     "start_time": "2024-03-08T00:03:44.529880100Z"
    }
   },
   "outputs": [
    {
     "name": "stdout",
     "output_type": "stream",
     "text": [
      "2.89257005115115\n",
      "[0.04416235 0.19900368 0.00116268]\n"
     ]
    }
   ],
   "source": [
    "# Import linear regression model\n",
    "from sklearn.linear_model import LinearRegression\n",
    " \n",
    "# Create linear regression model\n",
    "lin_reg = LinearRegression()\n",
    " \n",
    "# Fit the linear regression model\n",
    "lin_reg.fit(X_train, y_train)\n",
    " \n",
    "# Predict the values given test set\n",
    "predictions = lin_reg.predict(X_test)\n",
    "\n",
    "# Print the intercept and coefficients\n",
    "print(lin_reg.intercept_)\n",
    "print(lin_reg.coef_)"
   ]
  },
  {
   "cell_type": "code",
   "execution_count": 5,
   "metadata": {
    "ExecuteTime": {
     "end_time": "2024-03-08T00:03:44.694654200Z",
     "start_time": "2024-03-08T00:03:44.680997700Z"
    }
   },
   "outputs": [
    {
     "name": "stdout",
     "output_type": "stream",
     "text": [
      "Mean Absolute Error(MAE): 1.3000320919235444\n",
      "Mean Squared Error(MSE): 4.012497522917095\n",
      "Root Mean Squared Error(RMSE): 2.0031219440955397\n",
      "R2-Square: 0.8576396745320894\n"
     ]
    }
   ],
   "source": [
    "# Import the required libraries\n",
    "import numpy as np\n",
    "from sklearn.metrics import mean_absolute_error\n",
    "from sklearn.metrics import mean_squared_error\n",
    "from sklearn.metrics import r2_score\n",
    " \n",
    "# Evaluate mean absolute error\n",
    "print('Mean Absolute Error(MAE):', mean_absolute_error(y_test,predictions))  \n",
    " \n",
    "# Evaluate mean squared error\n",
    "print(\"Mean Squared Error(MSE):\", mean_squared_error(y_test, predictions))  \n",
    " \n",
    "# Evaluate root mean squared error\n",
    "print(\"Root Mean Squared Error(RMSE):\", np.sqrt(mean_squared_error(y_test, predictions)))\n",
    " \n",
    "# Evaluate R2-square\n",
    "print(\"R2-Square:\",r2_score(y_test, predictions))"
   ]
  },
  {
   "cell_type": "markdown",
   "metadata": {},
   "source": [
    "### Q1. Using the above model, what is the expected values of Sales given that: TV= 190, Radio=11, Newspaper=60"
   ]
  },
  {
   "cell_type": "code",
   "outputs": [
    {
     "data": {
      "text/plain": "13.542217089053098"
     },
     "execution_count": 6,
     "metadata": {},
     "output_type": "execute_result"
    }
   ],
   "source": [
    "lin_reg.intercept_ + (190 * lin_reg.coef_[0]) + (11 * lin_reg.coef_[1]) + (60 * lin_reg.coef_[2])"
   ],
   "metadata": {
    "collapsed": false,
    "ExecuteTime": {
     "end_time": "2024-03-08T00:03:44.776009500Z",
     "start_time": "2024-03-08T00:03:44.693654400Z"
    }
   },
   "execution_count": 6
  },
  {
   "cell_type": "markdown",
   "source": [
    "### Q2. Build a linear regression model for the Salaries.csv data set"
   ],
   "metadata": {
    "collapsed": false
   }
  },
  {
   "cell_type": "code",
   "outputs": [],
   "source": [
    "salaries_df = pd.read_csv(\"Salaries.csv\")\n",
    "\n",
    "# Independent variables or Features\n",
    "X = salaries_df[['YearsExperience']]\n",
    "# Dependent or Target variable\n",
    "Y = salaries_df['Salary']\n",
    "\n",
    "# Import train_test_split function from \n",
    "from sklearn.model_selection import train_test_split\n",
    " \n",
    "# Split X and y into training and testing sets\n",
    "X_train, X_test, y_train, y_test = train_test_split(X,Y,test_size=0.25,random_state=0)\n",
    "\n",
    "# Import linear regression model\n",
    "from sklearn.linear_model import LinearRegression\n",
    " \n",
    "# Create linear regression model\n",
    "lin_reg = LinearRegression()\n",
    " \n",
    "# Fit the linear regression model\n",
    "lin_reg.fit(X_train, y_train)\n",
    " \n",
    "# Predict the values given test set\n",
    "predictions = lin_reg.predict(X_test)\n"
   ],
   "metadata": {
    "collapsed": false,
    "ExecuteTime": {
     "end_time": "2024-03-08T00:03:44.840564800Z",
     "start_time": "2024-03-08T00:03:44.712603700Z"
    }
   },
   "execution_count": 7
  },
  {
   "cell_type": "markdown",
   "source": [
    "### Q3. Print the model coefficients"
   ],
   "metadata": {
    "collapsed": false
   }
  },
  {
   "cell_type": "code",
   "outputs": [
    {
     "name": "stdout",
     "output_type": "stream",
     "text": [
      "26986.691316737248\n",
      "[9379.71049195]\n"
     ]
    }
   ],
   "source": [
    "print(lin_reg.intercept_)\n",
    "print(lin_reg.coef_)"
   ],
   "metadata": {
    "collapsed": false,
    "ExecuteTime": {
     "end_time": "2024-03-08T00:03:44.842567400Z",
     "start_time": "2024-03-08T00:03:44.746823400Z"
    }
   },
   "execution_count": 8
  },
  {
   "cell_type": "markdown",
   "source": [
    "### Q4. Draw a scatter plot for Salary vs Years of Experience, and on the same chart plot Predicted Salary vs Years of Experience "
   ],
   "metadata": {
    "collapsed": false
   }
  },
  {
   "cell_type": "code",
   "outputs": [
    {
     "data": {
      "text/plain": "<matplotlib.collections.PathCollection at 0x21bade5c260>"
     },
     "execution_count": 9,
     "metadata": {},
     "output_type": "execute_result"
    },
    {
     "data": {
      "text/plain": "<Figure size 640x480 with 1 Axes>",
      "image/png": "[encoded data removed]"
     },
     "metadata": {},
     "output_type": "display_data"
    }
   ],
   "source": [
    "import matplotlib.pyplot as plt\n",
    "plt.scatter(salaries_df['YearsExperience'], salaries_df['Salary'])\n"
   ],
   "metadata": {
    "collapsed": false,
    "ExecuteTime": {
     "end_time": "2024-03-08T00:03:45.286750100Z",
     "start_time": "2024-03-08T00:03:44.764010400Z"
    }
   },
   "execution_count": 9
  },
  {
   "cell_type": "markdown",
   "source": [
    "### Q5. What's the predicted salary for a person with 12 years of experience"
   ],
   "metadata": {
    "collapsed": false
   }
  },
  {
   "cell_type": "code",
   "outputs": [
    {
     "data": {
      "text/plain": "139543.21722008943"
     },
     "execution_count": 10,
     "metadata": {},
     "output_type": "execute_result"
    }
   ],
   "source": [
    "lin_reg.intercept_ + (12 * lin_reg.coef_[0])"
   ],
   "metadata": {
    "collapsed": false,
    "ExecuteTime": {
     "end_time": "2024-03-08T00:03:45.288758300Z",
     "start_time": "2024-03-08T00:03:45.275243700Z"
    }
   },
   "execution_count": 10
  },
  {
   "cell_type": "markdown",
   "source": [
    "### Q6. What's is RSME for the model? What does that mean?"
   ],
   "metadata": {
    "collapsed": false
   }
  },
  {
   "cell_type": "code",
   "outputs": [
    {
     "name": "stdout",
     "output_type": "stream",
     "text": [
      "4733.70258289858\n"
     ]
    }
   ],
   "source": [
    "# RMSE (Root Mean Squared Error) \n",
    "# measures the average magnitude of the errors between predicted values and actual values\n",
    "# iow, the avg distance from the dot and line\n",
    "mse = mean_squared_error(y_test, predictions)\n",
    "print(np.sqrt(mse))"
   ],
   "metadata": {
    "collapsed": false,
    "ExecuteTime": {
     "end_time": "2024-03-08T00:03:45.414409300Z",
     "start_time": "2024-03-08T00:03:45.286750100Z"
    }
   },
   "execution_count": 11
  },
  {
   "cell_type": "markdown",
   "metadata": {},
   "source": [
    "### Logistic Regression"
   ]
  },
  {
   "cell_type": "code",
   "execution_count": 12,
   "metadata": {
    "ExecuteTime": {
     "end_time": "2024-03-08T00:03:45.474343300Z",
     "start_time": "2024-03-08T00:03:45.308893200Z"
    }
   },
   "outputs": [
    {
     "data": {
      "text/plain": "   pregnant  glucose  bp  skin  insulin   bmi  pedigree  age  label\n0         6      148  72    35        0  33.6     0.627   50      1\n1         1       85  66    29        0  26.6     0.351   31      0\n2         8      183  64     0        0  23.3     0.672   32      1\n3         1       89  66    23       94  28.1     0.167   21      0\n4         0      137  40    35      168  43.1     2.288   33      1",
      "text/html": "<div>\n<style scoped>\n    .dataframe tbody tr th:only-of-type {\n        vertical-align: middle;\n    }\n\n    .dataframe tbody tr th {\n        vertical-align: top;\n    }\n\n    .dataframe thead th {\n        text-align: right;\n    }\n</style>\n<table border=\"1\" class=\"dataframe\">\n  <thead>\n    <tr style=\"text-align: right;\">\n      <th></th>\n      <th>pregnant</th>\n      <th>glucose</th>\n      <th>bp</th>\n      <th>skin</th>\n      <th>insulin</th>\n      <th>bmi</th>\n      <th>pedigree</th>\n      <th>age</th>\n      <th>label</th>\n    </tr>\n  </thead>\n  <tbody>\n    <tr>\n      <th>0</th>\n      <td>6</td>\n      <td>148</td>\n      <td>72</td>\n      <td>35</td>\n      <td>0</td>\n      <td>33.6</td>\n      <td>0.627</td>\n      <td>50</td>\n      <td>1</td>\n    </tr>\n    <tr>\n      <th>1</th>\n      <td>1</td>\n      <td>85</td>\n      <td>66</td>\n      <td>29</td>\n      <td>0</td>\n      <td>26.6</td>\n      <td>0.351</td>\n      <td>31</td>\n      <td>0</td>\n    </tr>\n    <tr>\n      <th>2</th>\n      <td>8</td>\n      <td>183</td>\n      <td>64</td>\n      <td>0</td>\n      <td>0</td>\n      <td>23.3</td>\n      <td>0.672</td>\n      <td>32</td>\n      <td>1</td>\n    </tr>\n    <tr>\n      <th>3</th>\n      <td>1</td>\n      <td>89</td>\n      <td>66</td>\n      <td>23</td>\n      <td>94</td>\n      <td>28.1</td>\n      <td>0.167</td>\n      <td>21</td>\n      <td>0</td>\n    </tr>\n    <tr>\n      <th>4</th>\n      <td>0</td>\n      <td>137</td>\n      <td>40</td>\n      <td>35</td>\n      <td>168</td>\n      <td>43.1</td>\n      <td>2.288</td>\n      <td>33</td>\n      <td>1</td>\n    </tr>\n  </tbody>\n</table>\n</div>"
     },
     "execution_count": 12,
     "metadata": {},
     "output_type": "execute_result"
    }
   ],
   "source": [
    "# Import libraries\n",
    "import pandas as pd\n",
    " \n",
    "# read the dataset\n",
    "diabetes = pd.read_csv(\"diabetes.csv\")\n",
    " \n",
    "# Show top 5-records\n",
    "diabetes.head()"
   ]
  },
  {
   "cell_type": "code",
   "execution_count": 13,
   "metadata": {
    "ExecuteTime": {
     "end_time": "2024-03-08T00:03:45.551013600Z",
     "start_time": "2024-03-08T00:03:45.334499200Z"
    }
   },
   "outputs": [],
   "source": [
    "# split dataset in two parts: feature set and target label \n",
    "feature_set = ['pregnant', 'insulin', 'bmi', 'age','glucose','bp','pedigree']\n",
    "features = diabetes[feature_set] \n",
    "target = diabetes.label\n",
    "\n",
    "# partition data into training and testing set \n",
    "from sklearn.model_selection import train_test_split\n",
    "feature_train, feature_test, target_train, target_test = train_test_split(features, target, test_size=0.3, random_state=1)"
   ]
  },
  {
   "cell_type": "code",
   "execution_count": 14,
   "metadata": {
    "ExecuteTime": {
     "end_time": "2024-03-08T00:03:45.554049300Z",
     "start_time": "2024-03-08T00:03:45.343903700Z"
    }
   },
   "outputs": [
    {
     "name": "stdout",
     "output_type": "stream",
     "text": [
      "[[132  14]\n",
      " [ 36  49]]\n",
      "Accuracy: 0.7835497835497836\n",
      "F1:  0.6621621621621622\n"
     ]
    },
    {
     "name": "stderr",
     "output_type": "stream",
     "text": [
      "C:\\Users\\Markus\\OneDrive - BCIT\\Desktop\\term4\\ACIT-4880-Introduction-to-Data-Analytics\\venv\\Lib\\site-packages\\sklearn\\linear_model\\_logistic.py:469: ConvergenceWarning: lbfgs failed to converge (status=1):\n",
      "STOP: TOTAL NO. of ITERATIONS REACHED LIMIT.\n",
      "\n",
      "Increase the number of iterations (max_iter) or scale the data as shown in:\n",
      "    https://scikit-learn.org/stable/modules/preprocessing.html\n",
      "Please also refer to the documentation for alternative solver options:\n",
      "    https://scikit-learn.org/stable/modules/linear_model.html#logistic-regression\n",
      "  n_iter_i = _check_optimize_result(\n"
     ]
    }
   ],
   "source": [
    "# import logistic regression scikit-learn model\n",
    "from sklearn.linear_model import LogisticRegression\n",
    "from sklearn.metrics import accuracy_score # for performance evaluation\n",
    " \n",
    "# instantiate the model\n",
    "logreg = LogisticRegression(solver='lbfgs')\n",
    " \n",
    "# fit the model with data\n",
    "logreg.fit(feature_train,target_train)\n",
    " \n",
    "# Forecast the target variable for given test dataset\n",
    "predictions = logreg.predict(feature_test)\n",
    "#print(abs(predictions - target_test))\n",
    "\n",
    " \n",
    "# Assess model performance using accuracy measure\n",
    "from sklearn import metrics\n",
    "cnf_matrix = metrics.confusion_matrix(target_test, predictions)\n",
    "print (cnf_matrix)\n",
    "\n",
    "\n",
    "print(\"Accuracy:\",metrics.accuracy_score(target_test, predictions))\n",
    "\n",
    "print (\"F1: \", metrics.f1_score(target_test, predictions, average='binary'))\n"
   ]
  },
  {
   "cell_type": "markdown",
   "source": [
    "### Q7. Given these numbers, check if it's likely that the person will get diabetes\n",
    "### {'pregnant': [7], 'insulin': [180], 'bmi': [35], 'age': [34], 'glucose': [130], 'bp': [70], 'pedigree': [0.6]}"
   ],
   "metadata": {
    "collapsed": false
   }
  },
  {
   "cell_type": "code",
   "outputs": [
    {
     "data": {
      "text/plain": "array([0], dtype=int64)"
     },
     "execution_count": 15,
     "metadata": {},
     "output_type": "execute_result"
    }
   ],
   "source": [
    "blah = pd.DataFrame({'pregnant': [7], 'insulin': [180], 'bmi': [35], 'age': [34], 'glucose': [130], 'bp': [70], 'pedigree': [0.6]})\n",
    "logreg.predict(blah)"
   ],
   "metadata": {
    "collapsed": false,
    "ExecuteTime": {
     "end_time": "2024-03-08T00:03:45.555049900Z",
     "start_time": "2024-03-08T00:03:45.384653Z"
    }
   },
   "execution_count": 15
  },
  {
   "cell_type": "markdown",
   "source": [
    "### Q8. Change the age to 35, check if it's likely that the person will get diabetes"
   ],
   "metadata": {
    "collapsed": false
   }
  },
  {
   "cell_type": "code",
   "outputs": [
    {
     "data": {
      "text/plain": "array([1], dtype=int64)"
     },
     "execution_count": 16,
     "metadata": {},
     "output_type": "execute_result"
    }
   ],
   "source": [
    "blah = pd.DataFrame({'pregnant': [7], 'insulin': [180], 'bmi': [35], 'age': [35], 'glucose': [130], 'bp': [70], 'pedigree': [0.6]})\n",
    "logreg.predict(blah)"
   ],
   "metadata": {
    "collapsed": false,
    "ExecuteTime": {
     "end_time": "2024-03-08T00:03:45.573255700Z",
     "start_time": "2024-03-08T00:03:45.392461Z"
    }
   },
   "execution_count": 16
  },
  {
   "cell_type": "markdown",
   "metadata": {},
   "source": [
    "\n",
    "### Q9. Given the LoanPayback data set, build a logistic regression model"
   ]
  },
  {
   "cell_type": "code",
   "outputs": [
    {
     "name": "stdout",
     "output_type": "stream",
     "text": [
      "[[4 0]\n",
      " [5 2]]\n",
      "Accuracy: 0.5454545454545454\n",
      "F1:  0.4444444444444444\n"
     ]
    }
   ],
   "source": [
    "# read the dataset\n",
    "loan_payback = pd.read_csv(\"LoanPayback.csv\")\n",
    "loan_payback\n",
    "feature_set = ['Income ($000)', 'Loan Amount ($000)']\n",
    "features = loan_payback[feature_set]\n",
    "target = loan_payback['Payback (0 = No, 1 = Yes)']\n",
    "\n",
    "# partition data into training and testing set \n",
    "from sklearn.model_selection import train_test_split\n",
    "\n",
    "feature_train, feature_test, target_train, target_test = train_test_split(features, target, test_size=0.3,\n",
    "                                                                          random_state=1)\n",
    "# import logistic regression scikit-learn model\n",
    "from sklearn.linear_model import LogisticRegression\n",
    "from sklearn.metrics import accuracy_score  # for performance evaluation\n",
    "\n",
    "# instantiate the model\n",
    "logreg = LogisticRegression(solver='lbfgs')\n",
    "\n",
    "# fit the model with data\n",
    "logreg.fit(feature_train, target_train)\n",
    "\n",
    "# Forecast the target variable for given test dataset\n",
    "predictions = logreg.predict(feature_test)\n",
    "#print(abs(predictions - target_test))\n",
    "\n",
    "\n",
    "# Assess model performance using accuracy measure\n",
    "from sklearn import metrics\n",
    "\n",
    "cnf_matrix = metrics.confusion_matrix(target_test, predictions)\n",
    "print(cnf_matrix)\n",
    "\n",
    "print(\"Accuracy:\", metrics.accuracy_score(target_test, predictions))\n",
    "\n",
    "print(\"F1: \", metrics.f1_score(target_test, predictions, average='binary'))"
   ],
   "metadata": {
    "collapsed": false,
    "ExecuteTime": {
     "end_time": "2024-03-08T00:03:45.609644900Z",
     "start_time": "2024-03-08T00:03:45.411156400Z"
    }
   },
   "execution_count": 17
  },
  {
   "cell_type": "markdown",
   "metadata": {},
   "source": [
    "### Q10. Is it likely that a student with income 14000 will payback a 5000 loan?"
   ]
  },
  {
   "cell_type": "code",
   "outputs": [
    {
     "data": {
      "text/plain": "array([0], dtype=int64)"
     },
     "execution_count": 18,
     "metadata": {},
     "output_type": "execute_result"
    }
   ],
   "source": [
    "blah = pd.DataFrame({'Income ($000)': [14000], 'Loan Amount ($000)': [5000]})\n",
    "logreg.predict(blah)"
   ],
   "metadata": {
    "collapsed": false,
    "ExecuteTime": {
     "end_time": "2024-03-08T00:03:45.610732300Z",
     "start_time": "2024-03-08T00:03:45.449549900Z"
    }
   },
   "execution_count": 18
  },
  {
   "cell_type": "code",
   "outputs": [],
   "source": [],
   "metadata": {
    "collapsed": false,
    "ExecuteTime": {
     "end_time": "2024-03-08T00:03:45.611741Z",
     "start_time": "2024-03-08T00:03:45.460294500Z"
    }
   },
   "execution_count": 18
  }
 ],
 "metadata": {
  "kernelspec": {
   "display_name": "Python 3",
   "language": "python",
   "name": "python3"
  },
  "language_info": {
   "codemirror_mode": {
    "name": "ipython",
    "version": 3
   },
   "file_extension": ".py",
   "mimetype": "text/x-python",
   "name": "python",
   "nbconvert_exporter": "python",
   "pygments_lexer": "ipython3",
   "version": "3.7.4"
  }
 },
 "nbformat": 4,
 "nbformat_minor": 2
}
