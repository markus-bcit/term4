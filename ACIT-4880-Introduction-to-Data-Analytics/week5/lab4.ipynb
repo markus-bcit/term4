{
 "cells": [
  {
   "cell_type": "markdown",
   "source": [
    "Imports"
   ],
   "metadata": {
    "collapsed": false
   },
   "id": "7084585cb26a701c"
  },
  {
   "cell_type": "code",
   "execution_count": 3,
   "id": "initial_id",
   "metadata": {
    "collapsed": true,
    "ExecuteTime": {
     "end_time": "2024-02-08T23:41:24.716223200Z",
     "start_time": "2024-02-08T23:41:24.707748400Z"
    }
   },
   "outputs": [],
   "source": [
    "import numpy as np\n",
    "import pandas as pd"
   ]
  },
  {
   "cell_type": "markdown",
   "source": [
    "Init. a panda series, print, and print where null"
   ],
   "metadata": {
    "collapsed": false
   },
   "id": "d7369bc1590df373"
  },
  {
   "cell_type": "code",
   "outputs": [
    {
     "name": "stdout",
     "output_type": "stream",
     "text": [
      "0    bluh\n",
      "1     idk\n",
      "2     NaN\n",
      "3    food\n",
      "dtype: object\n",
      "0    False\n",
      "1    False\n",
      "2     True\n",
      "3    False\n",
      "dtype: bool\n"
     ]
    }
   ],
   "source": [
    "string_data = pd.Series(['bluh', 'idk', np.nan, 'food'])\n",
    "print(string_data)\n",
    "print(string_data.isnull())"
   ],
   "metadata": {
    "collapsed": false,
    "ExecuteTime": {
     "end_time": "2024-02-08T23:56:44.264254400Z",
     "start_time": "2024-02-08T23:56:44.236225700Z"
    }
   },
   "id": "3cfdd13969a2b345",
   "execution_count": 21
  },
  {
   "cell_type": "markdown",
   "source": [
    "Make second value None "
   ],
   "metadata": {
    "collapsed": false
   },
   "id": "29b9293b03792f93"
  },
  {
   "cell_type": "code",
   "outputs": [
    {
     "data": {
      "text/plain": "0    False\n1     True\n2     True\n3    False\ndtype: bool"
     },
     "execution_count": 22,
     "metadata": {},
     "output_type": "execute_result"
    }
   ],
   "source": [
    "string_data[1] = None\n",
    "string_data.isnull()"
   ],
   "metadata": {
    "collapsed": false,
    "ExecuteTime": {
     "end_time": "2024-02-08T23:56:55.745378700Z",
     "start_time": "2024-02-08T23:56:55.716230900Z"
    }
   },
   "id": "c32ceefb53bb6836",
   "execution_count": 22
  },
  {
   "cell_type": "markdown",
   "source": [
    "make a series with some NaNs, drop them and return using mask of where Nan"
   ],
   "metadata": {
    "collapsed": false
   },
   "id": "51b1d95410bdbcdb"
  },
  {
   "cell_type": "code",
   "outputs": [
    {
     "data": {
      "text/plain": "0    1.0\n2    3.0\ndtype: float64"
     },
     "execution_count": 23,
     "metadata": {},
     "output_type": "execute_result"
    }
   ],
   "source": [
    "from numpy import nan as NA\n",
    "data = pd.Series([1, NA, 3, NA, NA])\n",
    "data.dropna()"
   ],
   "metadata": {
    "collapsed": false,
    "ExecuteTime": {
     "end_time": "2024-02-08T23:57:12.062345Z",
     "start_time": "2024-02-08T23:57:12.018556500Z"
    }
   },
   "id": "4b75881629cf739a",
   "execution_count": 23
  },
  {
   "cell_type": "markdown",
   "source": [
    "Create an array with some NaNs, get rid of them"
   ],
   "metadata": {
    "collapsed": false
   },
   "id": "b8e70be6107959b7"
  },
  {
   "cell_type": "code",
   "outputs": [],
   "source": [
    "data = pd.DataFrame([[1., 6, 1], [1., NA, NA], [2, NA, 4], [NA, 2, 95]])\n",
    "cleaned = data.dropna()"
   ],
   "metadata": {
    "collapsed": false,
    "ExecuteTime": {
     "end_time": "2024-02-08T23:57:41.751520300Z",
     "start_time": "2024-02-08T23:57:41.733289200Z"
    }
   },
   "id": "4356828555a7b736",
   "execution_count": 25
  },
  {
   "cell_type": "markdown",
   "source": [
    "Print the old and new data"
   ],
   "metadata": {
    "collapsed": false
   },
   "id": "22525a7ec157d971"
  },
  {
   "cell_type": "code",
   "outputs": [
    {
     "name": "stdout",
     "output_type": "stream",
     "text": [
      "     0    1     2\n",
      "0  1.0  6.0   1.0\n",
      "1  1.0  NaN   NaN\n",
      "2  2.0  NaN   4.0\n",
      "3  NaN  2.0  95.0\n",
      "     0    1    2\n",
      "0  1.0  6.0  1.0\n"
     ]
    }
   ],
   "source": [
    "print(data)\n",
    "print(cleaned)"
   ],
   "metadata": {
    "collapsed": false,
    "ExecuteTime": {
     "end_time": "2024-02-08T23:57:44.172509400Z",
     "start_time": "2024-02-08T23:57:44.028706Z"
    }
   },
   "id": "f032062efc870f19",
   "execution_count": 26
  },
  {
   "cell_type": "markdown",
   "source": [],
   "metadata": {
    "collapsed": false
   },
   "id": "9d329cb29ee5ba66"
  },
  {
   "cell_type": "markdown",
   "source": [
    "Drop only rows with all NaNs "
   ],
   "metadata": {
    "collapsed": false
   },
   "id": "5bb876c9ebc0cf6f"
  },
  {
   "cell_type": "code",
   "outputs": [
    {
     "data": {
      "text/plain": "     0    1     2\n0  1.0  6.0   1.0\n1  1.0  NaN   NaN\n2  2.0  NaN   4.0\n3  NaN  2.0  95.0",
      "text/html": "<div>\n<style scoped>\n    .dataframe tbody tr th:only-of-type {\n        vertical-align: middle;\n    }\n\n    .dataframe tbody tr th {\n        vertical-align: top;\n    }\n\n    .dataframe thead th {\n        text-align: right;\n    }\n</style>\n<table border=\"1\" class=\"dataframe\">\n  <thead>\n    <tr style=\"text-align: right;\">\n      <th></th>\n      <th>0</th>\n      <th>1</th>\n      <th>2</th>\n    </tr>\n  </thead>\n  <tbody>\n    <tr>\n      <th>0</th>\n      <td>1.0</td>\n      <td>6.0</td>\n      <td>1.0</td>\n    </tr>\n    <tr>\n      <th>1</th>\n      <td>1.0</td>\n      <td>NaN</td>\n      <td>NaN</td>\n    </tr>\n    <tr>\n      <th>2</th>\n      <td>2.0</td>\n      <td>NaN</td>\n      <td>4.0</td>\n    </tr>\n    <tr>\n      <th>3</th>\n      <td>NaN</td>\n      <td>2.0</td>\n      <td>95.0</td>\n    </tr>\n  </tbody>\n</table>\n</div>"
     },
     "execution_count": 27,
     "metadata": {},
     "output_type": "execute_result"
    }
   ],
   "source": [
    "data.dropna(how='all')"
   ],
   "metadata": {
    "collapsed": false,
    "ExecuteTime": {
     "end_time": "2024-02-08T23:57:49.420886500Z",
     "start_time": "2024-02-08T23:57:49.406566700Z"
    }
   },
   "id": "ff3c6f6bd72645a7",
   "execution_count": 27
  },
  {
   "cell_type": "markdown",
   "source": [
    "Make a new column with value NaN, print then drop where a colunm has all NaNs"
   ],
   "metadata": {
    "collapsed": false
   },
   "id": "3b556c09dd1a2ef3"
  },
  {
   "cell_type": "code",
   "outputs": [
    {
     "name": "stdout",
     "output_type": "stream",
     "text": [
      "     0    1     2   4\n",
      "0  1.0  6.0   1.0 NaN\n",
      "1  1.0  NaN   NaN NaN\n",
      "2  2.0  NaN   4.0 NaN\n",
      "3  NaN  2.0  95.0 NaN\n",
      "     0    1     2\n",
      "0  1.0  6.0   1.0\n",
      "1  1.0  NaN   NaN\n",
      "2  2.0  NaN   4.0\n",
      "3  NaN  2.0  95.0\n"
     ]
    }
   ],
   "source": [
    "data[4] = NA\n",
    "print(data)\n",
    "print(data.dropna(axis=1, how='all'))"
   ],
   "metadata": {
    "collapsed": false,
    "ExecuteTime": {
     "end_time": "2024-02-08T23:58:08.077996700Z",
     "start_time": "2024-02-08T23:58:08.068941300Z"
    }
   },
   "id": "1a27b01dc3e565c0",
   "execution_count": 28
  },
  {
   "cell_type": "markdown",
   "source": [
    "Make a random dataframe with height 6 width 3, make the first 3 rows of colum 1 NaN and first 4 of column 2 NaN "
   ],
   "metadata": {
    "collapsed": false
   },
   "id": "e93657d8c8c0ebb1"
  },
  {
   "cell_type": "code",
   "outputs": [],
   "source": [
    "df = pd.DataFrame(np.random.randn(6, 3))\n",
    "df.iloc[:3, 1] = NA\n",
    "df.iloc[:4, 2] = NA"
   ],
   "metadata": {
    "collapsed": false,
    "ExecuteTime": {
     "end_time": "2024-02-08T23:58:32.556861300Z",
     "start_time": "2024-02-08T23:58:32.520819200Z"
    }
   },
   "id": "fb01507fb35d08cc",
   "execution_count": 29
  },
  {
   "cell_type": "markdown",
   "source": [
    "Print the dataframe: regular, without NaNs, and without two or more NaNs in row "
   ],
   "metadata": {
    "collapsed": false
   },
   "id": "abe77d0e8cadd7c0"
  },
  {
   "cell_type": "code",
   "outputs": [
    {
     "name": "stdout",
     "output_type": "stream",
     "text": [
      "          0         1         2\n",
      "0  2.568804       NaN       NaN\n",
      "1 -0.612426       NaN       NaN\n",
      "2 -0.159677       NaN       NaN\n",
      "3 -0.959538 -0.272048       NaN\n",
      "4  0.492138  0.827672  1.447993\n",
      "5  0.614904  0.775253 -0.794893\n",
      "          0         1         2\n",
      "4  0.492138  0.827672  1.447993\n",
      "5  0.614904  0.775253 -0.794893\n",
      "          0         1         2\n",
      "3 -0.959538 -0.272048       NaN\n",
      "4  0.492138  0.827672  1.447993\n",
      "5  0.614904  0.775253 -0.794893\n"
     ]
    }
   ],
   "source": [
    "print(df)\n",
    "print(df.dropna())\n",
    "print(df.dropna(thresh=2))"
   ],
   "metadata": {
    "collapsed": false,
    "ExecuteTime": {
     "end_time": "2024-02-08T23:58:45.981064800Z",
     "start_time": "2024-02-08T23:58:45.952814600Z"
    }
   },
   "id": "2bb87e2d017fa944",
   "execution_count": 30
  },
  {
   "cell_type": "markdown",
   "source": [
    "Fill NaNs with 0, Fill NaNs in column 1 with 1 and column 2 with 2"
   ],
   "metadata": {
    "collapsed": false
   },
   "id": "fb9c5beade239d89"
  },
  {
   "cell_type": "code",
   "outputs": [
    {
     "data": {
      "text/plain": "          0         1         2\n0  2.568804  1.000000  2.000000\n1 -0.612426  1.000000  2.000000\n2 -0.159677  1.000000  2.000000\n3 -0.959538 -0.272048  2.000000\n4  0.492138  0.827672  1.447993\n5  0.614904  0.775253 -0.794893",
      "text/html": "<div>\n<style scoped>\n    .dataframe tbody tr th:only-of-type {\n        vertical-align: middle;\n    }\n\n    .dataframe tbody tr th {\n        vertical-align: top;\n    }\n\n    .dataframe thead th {\n        text-align: right;\n    }\n</style>\n<table border=\"1\" class=\"dataframe\">\n  <thead>\n    <tr style=\"text-align: right;\">\n      <th></th>\n      <th>0</th>\n      <th>1</th>\n      <th>2</th>\n    </tr>\n  </thead>\n  <tbody>\n    <tr>\n      <th>0</th>\n      <td>2.568804</td>\n      <td>1.000000</td>\n      <td>2.000000</td>\n    </tr>\n    <tr>\n      <th>1</th>\n      <td>-0.612426</td>\n      <td>1.000000</td>\n      <td>2.000000</td>\n    </tr>\n    <tr>\n      <th>2</th>\n      <td>-0.159677</td>\n      <td>1.000000</td>\n      <td>2.000000</td>\n    </tr>\n    <tr>\n      <th>3</th>\n      <td>-0.959538</td>\n      <td>-0.272048</td>\n      <td>2.000000</td>\n    </tr>\n    <tr>\n      <th>4</th>\n      <td>0.492138</td>\n      <td>0.827672</td>\n      <td>1.447993</td>\n    </tr>\n    <tr>\n      <th>5</th>\n      <td>0.614904</td>\n      <td>0.775253</td>\n      <td>-0.794893</td>\n    </tr>\n  </tbody>\n</table>\n</div>"
     },
     "execution_count": 31,
     "metadata": {},
     "output_type": "execute_result"
    }
   ],
   "source": [
    "df.fillna(0)\n",
    "df.fillna({1: 1, 2: 2})"
   ],
   "metadata": {
    "collapsed": false,
    "ExecuteTime": {
     "end_time": "2024-02-08T23:59:34.342722100Z",
     "start_time": "2024-02-08T23:59:34.317590300Z"
    }
   },
   "id": "ba39aaf891d0de1c",
   "execution_count": 31
  },
  {
   "cell_type": "markdown",
   "source": [
    "Make a random dataframe height 9 width 3, make the last 1 of column 1 NaN and last 3 of column 3 NaN, print regular, with method ffill and with method ffill but only nearest 2"
   ],
   "metadata": {
    "collapsed": false
   },
   "id": "470c533f4543ea90"
  },
  {
   "cell_type": "code",
   "outputs": [
    {
     "name": "stdout",
     "output_type": "stream",
     "text": [
      "          0         1         2\n",
      "0  1.024639  0.854535 -0.190839\n",
      "1  0.359319  1.345501 -0.638144\n",
      "2 -2.446938       NaN -0.722223\n",
      "3 -0.103558       NaN -0.412843\n",
      "4 -0.059757       NaN       NaN\n",
      "5 -0.992275       NaN       NaN\n",
      "          0         1         2\n",
      "0  1.024639  0.854535 -0.190839\n",
      "1  0.359319  1.345501 -0.638144\n",
      "2 -2.446938  1.345501 -0.722223\n",
      "3 -0.103558  1.345501 -0.412843\n",
      "4 -0.059757  1.345501 -0.412843\n",
      "5 -0.992275  1.345501 -0.412843\n",
      "          0         1         2\n",
      "0  1.024639  0.854535 -0.190839\n",
      "1  0.359319  1.345501 -0.638144\n",
      "2 -2.446938  1.345501 -0.722223\n",
      "3 -0.103558  1.345501 -0.412843\n",
      "4 -0.059757       NaN -0.412843\n",
      "5 -0.992275       NaN -0.412843\n"
     ]
    },
    {
     "name": "stderr",
     "output_type": "stream",
     "text": [
      "C:\\Users\\Markus\\AppData\\Local\\Temp\\ipykernel_3872\\3662238028.py:6: FutureWarning: DataFrame.fillna with 'method' is deprecated and will raise in a future version. Use obj.ffill() or obj.bfill() instead.\n",
      "  print(df.fillna(method='ffill'))\n",
      "C:\\Users\\Markus\\AppData\\Local\\Temp\\ipykernel_3872\\3662238028.py:7: FutureWarning: DataFrame.fillna with 'method' is deprecated and will raise in a future version. Use obj.ffill() or obj.bfill() instead.\n",
      "  print(df.fillna(method='ffill', limit=2))\n"
     ]
    }
   ],
   "source": [
    "df = pd.DataFrame(np.random.randn(9, 3))\n",
    "df.iloc[1:, 1] = NA\n",
    "df.iloc[3:, 4] = NA\n",
    "\n",
    "print(df)\n",
    "print(df.fillna(method='ffill'))\n",
    "print(df.fillna(method='ffill', limit=2))"
   ],
   "metadata": {
    "collapsed": false,
    "ExecuteTime": {
     "end_time": "2024-02-08T23:54:07.969880600Z",
     "start_time": "2024-02-08T23:54:07.942634800Z"
    }
   },
   "id": "251daff378c5c221",
   "execution_count": 20
  },
  {
   "cell_type": "markdown",
   "source": [
    "Make a dataframe with some NaNs and fill in the NaNs with the mean"
   ],
   "metadata": {
    "collapsed": false
   },
   "id": "e84e60a62abff93e"
  },
  {
   "cell_type": "code",
   "outputs": [
    {
     "data": {
      "text/plain": "0    1.0\n1    2.5\n2    3.5\n3    3.0\n4    2.5\ndtype: float64"
     },
     "execution_count": 32,
     "metadata": {},
     "output_type": "execute_result"
    }
   ],
   "source": [
    "data = pd.Series([1., NA, 3.5, 3, NA])\n",
    "data.fillna(data.mean())"
   ],
   "metadata": {
    "collapsed": false,
    "ExecuteTime": {
     "end_time": "2024-02-09T00:12:29.469338200Z",
     "start_time": "2024-02-09T00:12:29.331159900Z"
    }
   },
   "id": "8abef86827739515",
   "execution_count": 32
  },
  {
   "cell_type": "markdown",
   "source": [
    "Make a dataframe using string concats duplicate them drop the duplicate "
   ],
   "metadata": {
    "collapsed": false
   },
   "id": "f9cc585f8f937969"
  },
  {
   "cell_type": "code",
   "outputs": [
    {
     "data": {
      "text/plain": "      k1  k2\n0    one   1\n2    one   2\n3    one   3\n5    two   4\n6  three   4",
      "text/html": "<div>\n<style scoped>\n    .dataframe tbody tr th:only-of-type {\n        vertical-align: middle;\n    }\n\n    .dataframe tbody tr th {\n        vertical-align: top;\n    }\n\n    .dataframe thead th {\n        text-align: right;\n    }\n</style>\n<table border=\"1\" class=\"dataframe\">\n  <thead>\n    <tr style=\"text-align: right;\">\n      <th></th>\n      <th>k1</th>\n      <th>k2</th>\n    </tr>\n  </thead>\n  <tbody>\n    <tr>\n      <th>0</th>\n      <td>one</td>\n      <td>1</td>\n    </tr>\n    <tr>\n      <th>2</th>\n      <td>one</td>\n      <td>2</td>\n    </tr>\n    <tr>\n      <th>3</th>\n      <td>one</td>\n      <td>3</td>\n    </tr>\n    <tr>\n      <th>5</th>\n      <td>two</td>\n      <td>4</td>\n    </tr>\n    <tr>\n      <th>6</th>\n      <td>three</td>\n      <td>4</td>\n    </tr>\n  </tbody>\n</table>\n</div>"
     },
     "execution_count": 35,
     "metadata": {},
     "output_type": "execute_result"
    }
   ],
   "source": [
    "data = pd.DataFrame({'k1': ['one'] * 4 + ['one', 'two', 'three'],\n",
    "                     'k2': [1, 1, 2, 3, 3, 4, 4]})\n",
    "data.duplicated()\n",
    "data.drop_duplicates()"
   ],
   "metadata": {
    "collapsed": false,
    "ExecuteTime": {
     "end_time": "2024-02-09T00:20:39.022346100Z",
     "start_time": "2024-02-09T00:20:38.876270600Z"
    }
   },
   "id": "3699b87ede2c71fd",
   "execution_count": 35
  },
  {
   "cell_type": "markdown",
   "source": [
    "Add a column with name v1 and drop the duplicates k1"
   ],
   "metadata": {
    "collapsed": false
   },
   "id": "bbe5df2276eb6ffc"
  },
  {
   "cell_type": "code",
   "outputs": [
    {
     "data": {
      "text/plain": "      k1  k2  v1\n0    one   1   0\n5    two   4   5\n6  three   4   6",
      "text/html": "<div>\n<style scoped>\n    .dataframe tbody tr th:only-of-type {\n        vertical-align: middle;\n    }\n\n    .dataframe tbody tr th {\n        vertical-align: top;\n    }\n\n    .dataframe thead th {\n        text-align: right;\n    }\n</style>\n<table border=\"1\" class=\"dataframe\">\n  <thead>\n    <tr style=\"text-align: right;\">\n      <th></th>\n      <th>k1</th>\n      <th>k2</th>\n      <th>v1</th>\n    </tr>\n  </thead>\n  <tbody>\n    <tr>\n      <th>0</th>\n      <td>one</td>\n      <td>1</td>\n      <td>0</td>\n    </tr>\n    <tr>\n      <th>5</th>\n      <td>two</td>\n      <td>4</td>\n      <td>5</td>\n    </tr>\n    <tr>\n      <th>6</th>\n      <td>three</td>\n      <td>4</td>\n      <td>6</td>\n    </tr>\n  </tbody>\n</table>\n</div>"
     },
     "execution_count": 36,
     "metadata": {},
     "output_type": "execute_result"
    }
   ],
   "source": [
    "data['v1'] = range(7)\n",
    "data.drop_duplicates(['k1'])"
   ],
   "metadata": {
    "collapsed": false,
    "ExecuteTime": {
     "end_time": "2024-02-09T00:21:33.079705800Z",
     "start_time": "2024-02-09T00:21:33.024156400Z"
    }
   },
   "id": "ff8ce5a53573d41b",
   "execution_count": 36
  },
  {
   "cell_type": "markdown",
   "source": [
    "Create a dataframe with some values and a more general category to which they belong, regardless of cap"
   ],
   "metadata": {
    "collapsed": false
   },
   "id": "ce226cb9086aeb13"
  },
  {
   "cell_type": "code",
   "outputs": [
    {
     "name": "stdout",
     "output_type": "stream",
     "text": [
      "0          bacon\n",
      "1      pork chop\n",
      "2          bacon\n",
      "3     mortodella\n",
      "4    corned beef\n",
      "5          bacon\n",
      "6       pastrami\n",
      "7      honey ham\n",
      "8       nova lox\n",
      "Name: food, dtype: object\n",
      "          food  ounces  animal\n",
      "0        bacon     4.0     pig\n",
      "1    pork chop     3.0     pig\n",
      "2        bacon    12.0     pig\n",
      "3   mortodella     6.0     cow\n",
      "4  corned beef     7.5     cow\n",
      "5        Bacon     8.0     pig\n",
      "6     pastrami     3.5     pig\n",
      "7    honey ham     5.0     pig\n",
      "8     nova lox     6.0  salmon\n"
     ]
    }
   ],
   "source": [
    "data = pd.DataFrame({'food': ['bacon', 'pork chop', 'bacon', 'mortodella', 'corned beef', 'Bacon', 'pastrami', 'honey ham', 'nova lox'],\n",
    "                     'ounces': [4, 3, 12, 6, 7.5, 8, 3.5, 5, 6]})\n",
    "meat_to_animal = {'bacon': 'pig', 'pork chop': 'pig', 'mortodella': 'cow', 'corned beef': 'cow', 'honey ham': 'pig', 'nova lox': 'salmon', 'pastrami':'pig'}\n",
    "lowercased = data['food'].str.lower()\n",
    "data['animal'] = lowercased.map(meat_to_animal)\n",
    "print(lowercased)\n",
    "print(data)"
   ],
   "metadata": {
    "collapsed": false,
    "ExecuteTime": {
     "end_time": "2024-02-09T00:36:29.456892300Z",
     "start_time": "2024-02-09T00:36:29.375095Z"
    }
   },
   "id": "3eda50d55e505414",
   "execution_count": 43
  },
  {
   "cell_type": "markdown",
   "source": [],
   "metadata": {
    "collapsed": false
   },
   "id": "e0b88de2a5ae2fca"
  },
  {
   "cell_type": "markdown",
   "source": [
    "find their category using map and lambda"
   ],
   "metadata": {
    "collapsed": false
   },
   "id": "8485691ca91da89a"
  },
  {
   "cell_type": "code",
   "outputs": [
    {
     "data": {
      "text/plain": "0       pig\n1       pig\n2       pig\n3       cow\n4       cow\n5       pig\n6       pig\n7       pig\n8    salmon\nName: food, dtype: object"
     },
     "execution_count": 45,
     "metadata": {},
     "output_type": "execute_result"
    }
   ],
   "source": [
    "data['food'].map(lambda x: meat_to_animal[x.lower()])"
   ],
   "metadata": {
    "collapsed": false,
    "ExecuteTime": {
     "end_time": "2024-02-09T00:37:31.039796900Z",
     "start_time": "2024-02-09T00:37:30.942134300Z"
    }
   },
   "id": "ab682aa80d2f8e69",
   "execution_count": 45
  },
  {
   "cell_type": "markdown",
   "source": [
    "Crate a series and replace some values with Nan"
   ],
   "metadata": {
    "collapsed": false
   },
   "id": "721b0e91fd77a0c9"
  },
  {
   "cell_type": "code",
   "outputs": [
    {
     "data": {
      "text/plain": "0    1.0\n1    NaN\n2    2.0\n3    NaN\n4    0.0\n5    3.0\ndtype: float64"
     },
     "execution_count": 46,
     "metadata": {},
     "output_type": "execute_result"
    }
   ],
   "source": [
    "data = pd.Series([1., -9999., 2., -9999., -10000., 3.])\n",
    "data.replace(-9999, np.nan)\n",
    "data.replace([-9999, -10000], np.nan)\n",
    "data.replace([-9999, -10000], [np.nan, 0])\n",
    "data.replace({-9999: np.nan, -10000: 0})"
   ],
   "metadata": {
    "collapsed": false,
    "ExecuteTime": {
     "end_time": "2024-02-09T00:40:31.247986900Z",
     "start_time": "2024-02-09T00:40:31.181193800Z"
    }
   },
   "id": "8108a73ab64c9773",
   "execution_count": 46
  },
  {
   "cell_type": "markdown",
   "source": [
    "Create a dataframe and change the labels "
   ],
   "metadata": {
    "collapsed": false
   },
   "id": "2c5becbb9c7fb372"
  },
  {
   "cell_type": "code",
   "outputs": [
    {
     "name": "stdout",
     "output_type": "stream",
     "text": [
      "          one  two  three  four\n",
      "Ohio        0    1      2     3\n",
      "Colorado    4    5      6     7\n",
      "Albany      8    9     10    11\n"
     ]
    }
   ],
   "source": [
    "data = pd.DataFrame(np.arange(12).reshape((3, 4)),\n",
    "                    index=['Vancouver', 'Colorado', 'Albany'],\n",
    "                    columns=['one', 'two', 'three', 'four'])\n",
    "print(data)\n",
    "transform = lambda x: x[:4].upper()\n",
    "data.index = data.index.map(transform)\n",
    "data.rename(index=str.title, columns=str.upper)\n",
    "data.rename(index={'VANCOUVER': 'bluh'}, columns={'three': 'blah'})\n",
    "data.rename(index={'VANCOUVER': 'bluh'}, inplace=True)"
   ],
   "metadata": {
    "collapsed": false,
    "ExecuteTime": {
     "end_time": "2024-02-09T00:42:26.336337100Z",
     "start_time": "2024-02-09T00:42:26.106221800Z"
    }
   },
   "id": "d3428f17976fce3d",
   "execution_count": 50
  },
  {
   "cell_type": "markdown",
   "source": [
    "Categorize a list of num variable , assign each value to its coresponding num of another list, and provide counts for each. "
   ],
   "metadata": {
    "collapsed": false
   },
   "id": "9d1f68a3866e95a7"
  },
  {
   "cell_type": "code",
   "outputs": [
    {
     "name": "stderr",
     "output_type": "stream",
     "text": [
      "C:\\Users\\Markus\\AppData\\Local\\Temp\\ipykernel_3872\\130543309.py:7: FutureWarning: pandas.value_counts is deprecated and will be removed in a future version. Use pd.Series(obj).value_counts() instead.\n",
      "  pd.value_counts(cats)\n"
     ]
    },
    {
     "data": {
      "text/plain": "(18, 25]      4\n(25, 35]      4\n(35, 60]      3\n(60, 100]     1\n(100, 120]    0\nName: count, dtype: int64"
     },
     "execution_count": 53,
     "metadata": {},
     "output_type": "execute_result"
    }
   ],
   "source": [
    "ages = [29, 22, 25, 27, 21, 23, 37, 31, 61, 45, 41, 32]\n",
    "bins = [18, 25, 35, 60, 100, 120]\n",
    "cats = pd.cut(ages, bins)\n",
    "cats\n",
    "cats.codes\n",
    "cats.categories\n",
    "pd.value_counts(cats)"
   ],
   "metadata": {
    "collapsed": false,
    "ExecuteTime": {
     "end_time": "2024-02-09T00:56:17.638833700Z",
     "start_time": "2024-02-09T00:56:17.584664200Z"
    }
   },
   "id": "eed5f4849974ddfa",
   "execution_count": 53
  },
  {
   "cell_type": "markdown",
   "source": [
    "Do the same with the param right=False"
   ],
   "metadata": {
    "collapsed": false
   },
   "id": "b8a7ee8d76f6d68f"
  },
  {
   "cell_type": "code",
   "outputs": [
    {
     "name": "stderr",
     "output_type": "stream",
     "text": [
      "C:\\Users\\Markus\\AppData\\Local\\Temp\\ipykernel_3872\\3967516097.py:2: FutureWarning: pandas.value_counts is deprecated and will be removed in a future version. Use pd.Series(obj).value_counts() instead.\n",
      "  pd.value_counts(bluh)\n"
     ]
    },
    {
     "data": {
      "text/plain": "[18, 26)     4\n[26, 36)     4\n[36, 61)     3\n[61, 100)    1\nName: count, dtype: int64"
     },
     "execution_count": 54,
     "metadata": {},
     "output_type": "execute_result"
    }
   ],
   "source": [
    "pd.cut(ages, [18, 26, 36, 61, 100], right=False)"
   ],
   "metadata": {
    "collapsed": false,
    "ExecuteTime": {
     "end_time": "2024-02-09T00:58:12.880637400Z",
     "start_time": "2024-02-09T00:58:12.728968900Z"
    }
   },
   "id": "763fe3d1b05bde67",
   "execution_count": 54
  },
  {
   "cell_type": "markdown",
   "source": [
    "Assign a category "
   ],
   "metadata": {
    "collapsed": false
   },
   "id": "c4a10be5ae561575"
  },
  {
   "cell_type": "code",
   "outputs": [
    {
     "data": {
      "text/plain": "['kindayoung', 'young', 'young', 'kindayoung', 'young', ..., 'kindayoung', 'reallyold', 'old', 'old', 'kindayoung']\nLength: 12\nCategories (5, object): ['young' < 'kindayoung' < 'old' < 'reallyold' < 'reallyreallyreallyold']"
     },
     "execution_count": 57,
     "metadata": {},
     "output_type": "execute_result"
    }
   ],
   "source": [
    "group_names = ['young', 'kindayoung', 'old', 'reallyold', 'reallyreallyreallyold']\n",
    "pd.cut(ages, bins, labels=group_names)"
   ],
   "metadata": {
    "collapsed": false,
    "ExecuteTime": {
     "end_time": "2024-02-09T00:59:31.168148200Z",
     "start_time": "2024-02-09T00:59:30.991036200Z"
    }
   },
   "id": "fa11275159e7883",
   "execution_count": 57
  },
  {
   "cell_type": "markdown",
   "source": [
    "Sort 20 numbers 0-1 into 4 even categries, by hundreth"
   ],
   "metadata": {
    "collapsed": false
   },
   "id": "eb555a0ad4dfc099"
  },
  {
   "cell_type": "code",
   "outputs": [
    {
     "name": "stderr",
     "output_type": "stream",
     "text": [
      "C:\\Users\\Markus\\AppData\\Local\\Temp\\ipykernel_3872\\3426537071.py:3: FutureWarning: pandas.value_counts is deprecated and will be removed in a future version. Use pd.Series(obj).value_counts() instead.\n",
      "  pd.value_counts(cats)\n"
     ]
    },
    {
     "data": {
      "text/plain": "(0.51, 0.75]     7\n(0.75, 0.99]     7\n(0.034, 0.27]    3\n(0.27, 0.51]     3\nName: count, dtype: int64"
     },
     "execution_count": 60,
     "metadata": {},
     "output_type": "execute_result"
    }
   ],
   "source": [
    "data = np.random.rand(20)\n",
    "cats = pd.cut(data, 4, precision=2)\n",
    "pd.value_counts(cats)"
   ],
   "metadata": {
    "collapsed": false,
    "ExecuteTime": {
     "end_time": "2024-02-09T01:02:03.403813200Z",
     "start_time": "2024-02-09T01:02:03.218487500Z"
    }
   },
   "id": "4c929a1a0b00e54c",
   "execution_count": 60
  },
  {
   "cell_type": "markdown",
   "source": [
    "Sort 1000 numbers 0-1 into 4 equal count categries"
   ],
   "metadata": {
    "collapsed": false
   },
   "id": "685518fb4417f4df"
  },
  {
   "cell_type": "code",
   "outputs": [
    {
     "name": "stderr",
     "output_type": "stream",
     "text": [
      "C:\\Users\\Markus\\AppData\\Local\\Temp\\ipykernel_3872\\3435752418.py:3: FutureWarning: pandas.value_counts is deprecated and will be removed in a future version. Use pd.Series(obj).value_counts() instead.\n",
      "  pd.value_counts(cats)\n"
     ]
    },
    {
     "data": {
      "text/plain": "(-3.327, -0.68]    250\n(-0.68, -0.039]    250\n(-0.039, 0.643]    250\n(0.643, 2.894]     250\nName: count, dtype: int64"
     },
     "execution_count": 59,
     "metadata": {},
     "output_type": "execute_result"
    }
   ],
   "source": [
    "data = np.random.randn(1000)\n",
    "cats = pd.qcut(data, 4)\n",
    "pd.value_counts(cats)\n"
   ],
   "metadata": {
    "collapsed": false,
    "ExecuteTime": {
     "end_time": "2024-02-09T01:01:08.896778700Z",
     "start_time": "2024-02-09T01:01:08.706977Z"
    }
   },
   "id": "68da98f56b2512af",
   "execution_count": 59
  },
  {
   "cell_type": "markdown",
   "source": [
    "Sort 1000 numbers 0-1 into the categries [0, 0.2, 0.5, 0.8, 1.] with labels"
   ],
   "metadata": {
    "collapsed": false
   },
   "id": "31fd8bb35c9f0712"
  },
  {
   "cell_type": "code",
   "outputs": [
    {
     "data": {
      "text/plain": "['C2', 'C1', 'C3', 'C1', 'C3', ..., 'C2', 'C2', 'C1', 'C1', 'C3']\nLength: 20\nCategories (4, object): ['C1' < 'C2' < 'C3' < 'C4']"
     },
     "execution_count": 62,
     "metadata": {},
     "output_type": "execute_result"
    }
   ],
   "source": [
    "pd.qcut(data, [0, 0.2, 0.5, 0.8, 1.], labels=['C1', 'C2', 'C3', 'C4'])"
   ],
   "metadata": {
    "collapsed": false,
    "ExecuteTime": {
     "end_time": "2024-02-09T01:04:38.316279700Z",
     "start_time": "2024-02-09T01:04:38.219447800Z"
    }
   },
   "id": "5fb32efe923995f0",
   "execution_count": 62
  },
  {
   "cell_type": "markdown",
   "source": [
    "Make a dataframe with 4 rows of 1000 random nums, display the count, mean, std, min, 25%. 50%, 75%, and max of each row"
   ],
   "metadata": {
    "collapsed": false
   },
   "id": "e47c4806c06ff2e2"
  },
  {
   "cell_type": "code",
   "outputs": [
    {
     "data": {
      "text/plain": "                 0            1            2            3\ncount  1000.000000  1000.000000  1000.000000  1000.000000\nmean     -0.014279     0.024929    -0.058604    -0.008578\nstd       1.003517     0.969250     0.985889     0.965904\nmin      -3.052969    -3.118234    -2.971328    -3.382817\n25%      -0.676050    -0.608088    -0.748496    -0.630343\n50%      -0.032994     0.041501    -0.096094     0.026271\n75%       0.636450     0.675319     0.651423     0.655176\nmax       2.964775     2.592441     2.854873     3.094272",
      "text/html": "<div>\n<style scoped>\n    .dataframe tbody tr th:only-of-type {\n        vertical-align: middle;\n    }\n\n    .dataframe tbody tr th {\n        vertical-align: top;\n    }\n\n    .dataframe thead th {\n        text-align: right;\n    }\n</style>\n<table border=\"1\" class=\"dataframe\">\n  <thead>\n    <tr style=\"text-align: right;\">\n      <th></th>\n      <th>0</th>\n      <th>1</th>\n      <th>2</th>\n      <th>3</th>\n    </tr>\n  </thead>\n  <tbody>\n    <tr>\n      <th>count</th>\n      <td>1000.000000</td>\n      <td>1000.000000</td>\n      <td>1000.000000</td>\n      <td>1000.000000</td>\n    </tr>\n    <tr>\n      <th>mean</th>\n      <td>-0.014279</td>\n      <td>0.024929</td>\n      <td>-0.058604</td>\n      <td>-0.008578</td>\n    </tr>\n    <tr>\n      <th>std</th>\n      <td>1.003517</td>\n      <td>0.969250</td>\n      <td>0.985889</td>\n      <td>0.965904</td>\n    </tr>\n    <tr>\n      <th>min</th>\n      <td>-3.052969</td>\n      <td>-3.118234</td>\n      <td>-2.971328</td>\n      <td>-3.382817</td>\n    </tr>\n    <tr>\n      <th>25%</th>\n      <td>-0.676050</td>\n      <td>-0.608088</td>\n      <td>-0.748496</td>\n      <td>-0.630343</td>\n    </tr>\n    <tr>\n      <th>50%</th>\n      <td>-0.032994</td>\n      <td>0.041501</td>\n      <td>-0.096094</td>\n      <td>0.026271</td>\n    </tr>\n    <tr>\n      <th>75%</th>\n      <td>0.636450</td>\n      <td>0.675319</td>\n      <td>0.651423</td>\n      <td>0.655176</td>\n    </tr>\n    <tr>\n      <th>max</th>\n      <td>2.964775</td>\n      <td>2.592441</td>\n      <td>2.854873</td>\n      <td>3.094272</td>\n    </tr>\n  </tbody>\n</table>\n</div>"
     },
     "execution_count": 66,
     "metadata": {},
     "output_type": "execute_result"
    }
   ],
   "source": [
    "data = pd.DataFrame(np.random.randn(1000, 4))\n",
    "data.describe()"
   ],
   "metadata": {
    "collapsed": false,
    "ExecuteTime": {
     "end_time": "2024-02-09T01:07:26.769477Z",
     "start_time": "2024-02-09T01:07:26.618493300Z"
    }
   },
   "id": "e6d90c45d43cd2aa",
   "execution_count": 66
  },
  {
   "cell_type": "markdown",
   "source": [
    "find where column 2 is greater than 3"
   ],
   "metadata": {
    "collapsed": false
   },
   "id": "1a8b607619a812f3"
  },
  {
   "cell_type": "code",
   "outputs": [
    {
     "data": {
      "text/plain": "264    4.231731\n956    3.480106\nName: 2, dtype: float64"
     },
     "execution_count": 64,
     "metadata": {},
     "output_type": "execute_result"
    }
   ],
   "source": [
    "col = data[2]\n",
    "col[np.abs(col) > 3]"
   ],
   "metadata": {
    "collapsed": false,
    "ExecuteTime": {
     "end_time": "2024-02-09T01:05:54.438745900Z",
     "start_time": "2024-02-09T01:05:54.367988500Z"
    }
   },
   "id": "9b3081fa48542bbf",
   "execution_count": 64
  },
  {
   "cell_type": "markdown",
   "source": [
    "find where any value in any row is greater than 3, return the entire row"
   ],
   "metadata": {
    "collapsed": false
   },
   "id": "e367956e879800bc"
  },
  {
   "cell_type": "code",
   "outputs": [
    {
     "data": {
      "text/plain": "            0         1         2         3\n285  1.592775  0.272276 -0.716932  3.094272\n530 -3.052969 -2.285340  1.947620 -1.861829\n574 -0.223145  0.457590 -1.358222 -3.382817\n820  1.083279 -3.118234 -1.383561  0.891352",
      "text/html": "<div>\n<style scoped>\n    .dataframe tbody tr th:only-of-type {\n        vertical-align: middle;\n    }\n\n    .dataframe tbody tr th {\n        vertical-align: top;\n    }\n\n    .dataframe thead th {\n        text-align: right;\n    }\n</style>\n<table border=\"1\" class=\"dataframe\">\n  <thead>\n    <tr style=\"text-align: right;\">\n      <th></th>\n      <th>0</th>\n      <th>1</th>\n      <th>2</th>\n      <th>3</th>\n    </tr>\n  </thead>\n  <tbody>\n    <tr>\n      <th>285</th>\n      <td>1.592775</td>\n      <td>0.272276</td>\n      <td>-0.716932</td>\n      <td>3.094272</td>\n    </tr>\n    <tr>\n      <th>530</th>\n      <td>-3.052969</td>\n      <td>-2.285340</td>\n      <td>1.947620</td>\n      <td>-1.861829</td>\n    </tr>\n    <tr>\n      <th>574</th>\n      <td>-0.223145</td>\n      <td>0.457590</td>\n      <td>-1.358222</td>\n      <td>-3.382817</td>\n    </tr>\n    <tr>\n      <th>820</th>\n      <td>1.083279</td>\n      <td>-3.118234</td>\n      <td>-1.383561</td>\n      <td>0.891352</td>\n    </tr>\n  </tbody>\n</table>\n</div>"
     },
     "execution_count": 70,
     "metadata": {},
     "output_type": "execute_result"
    }
   ],
   "source": [
    "data[(np.abs(data) > 3).any(axis=1)]"
   ],
   "metadata": {
    "collapsed": false,
    "ExecuteTime": {
     "end_time": "2024-02-09T01:08:27.658999Z",
     "start_time": "2024-02-09T01:08:27.517116800Z"
    }
   },
   "id": "46eef86d9ddc97c6",
   "execution_count": 70
  },
  {
   "cell_type": "markdown",
   "source": [
    "Find the -/+ of the first 5 rows"
   ],
   "metadata": {
    "collapsed": false
   },
   "id": "332a45daa2927916"
  },
  {
   "cell_type": "code",
   "outputs": [
    {
     "data": {
      "text/plain": "     0    1    2    3\n0  1.0  1.0  1.0 -1.0\n1  1.0  1.0 -1.0  1.0\n2  1.0 -1.0 -1.0  1.0\n3 -1.0 -1.0 -1.0 -1.0\n4  1.0 -1.0 -1.0 -1.0",
      "text/html": "<div>\n<style scoped>\n    .dataframe tbody tr th:only-of-type {\n        vertical-align: middle;\n    }\n\n    .dataframe tbody tr th {\n        vertical-align: top;\n    }\n\n    .dataframe thead th {\n        text-align: right;\n    }\n</style>\n<table border=\"1\" class=\"dataframe\">\n  <thead>\n    <tr style=\"text-align: right;\">\n      <th></th>\n      <th>0</th>\n      <th>1</th>\n      <th>2</th>\n      <th>3</th>\n    </tr>\n  </thead>\n  <tbody>\n    <tr>\n      <th>0</th>\n      <td>1.0</td>\n      <td>1.0</td>\n      <td>1.0</td>\n      <td>-1.0</td>\n    </tr>\n    <tr>\n      <th>1</th>\n      <td>1.0</td>\n      <td>1.0</td>\n      <td>-1.0</td>\n      <td>1.0</td>\n    </tr>\n    <tr>\n      <th>2</th>\n      <td>1.0</td>\n      <td>-1.0</td>\n      <td>-1.0</td>\n      <td>1.0</td>\n    </tr>\n    <tr>\n      <th>3</th>\n      <td>-1.0</td>\n      <td>-1.0</td>\n      <td>-1.0</td>\n      <td>-1.0</td>\n    </tr>\n    <tr>\n      <th>4</th>\n      <td>1.0</td>\n      <td>-1.0</td>\n      <td>-1.0</td>\n      <td>-1.0</td>\n    </tr>\n  </tbody>\n</table>\n</div>"
     },
     "execution_count": 73,
     "metadata": {},
     "output_type": "execute_result"
    }
   ],
   "source": [
    "np.sign(data).head()"
   ],
   "metadata": {
    "collapsed": false,
    "ExecuteTime": {
     "end_time": "2024-02-09T01:10:47.067818900Z",
     "start_time": "2024-02-09T01:10:46.939192900Z"
    }
   },
   "id": "2caac84ccfe3f49b",
   "execution_count": 73
  },
  {
   "cell_type": "markdown",
   "source": [
    "Create a 16 value array and shape into 4x4 "
   ],
   "metadata": {
    "collapsed": false
   },
   "id": "83e8cba85813d62d"
  },
  {
   "cell_type": "code",
   "outputs": [],
   "source": [
    "df = pd.DataFrame(np.arange(4 * 4).reshape((4, 4)))\n",
    "sampler = np.random.permutation(5)"
   ],
   "metadata": {
    "collapsed": false,
    "ExecuteTime": {
     "end_time": "2024-02-09T01:13:11.395198700Z",
     "start_time": "2024-02-09T01:13:11.225206800Z"
    }
   },
   "id": "6a41663b151420ed",
   "execution_count": 76
  },
  {
   "cell_type": "markdown",
   "source": [
    "Create a sampler with 4 random permutations"
   ],
   "metadata": {
    "collapsed": false
   },
   "id": "7d40dd2492c38da6"
  },
  {
   "cell_type": "code",
   "outputs": [],
   "source": [
    "sampler = np.random.permutation(4)"
   ],
   "metadata": {
    "collapsed": false,
    "ExecuteTime": {
     "end_time": "2024-02-09T01:15:52.393501600Z",
     "start_time": "2024-02-09T01:15:52.217249Z"
    }
   },
   "id": "1e46250030d33d2e",
   "execution_count": 79
  },
  {
   "cell_type": "markdown",
   "source": [
    "Reindex the rows using the sampler above"
   ],
   "metadata": {
    "collapsed": false
   },
   "id": "4eacc658c6421103"
  },
  {
   "cell_type": "code",
   "outputs": [
    {
     "data": {
      "text/plain": "    0   1   2   3\n2   8   9  10  11\n1   4   5   6   7\n0   0   1   2   3\n3  12  13  14  15",
      "text/html": "<div>\n<style scoped>\n    .dataframe tbody tr th:only-of-type {\n        vertical-align: middle;\n    }\n\n    .dataframe tbody tr th {\n        vertical-align: top;\n    }\n\n    .dataframe thead th {\n        text-align: right;\n    }\n</style>\n<table border=\"1\" class=\"dataframe\">\n  <thead>\n    <tr style=\"text-align: right;\">\n      <th></th>\n      <th>0</th>\n      <th>1</th>\n      <th>2</th>\n      <th>3</th>\n    </tr>\n  </thead>\n  <tbody>\n    <tr>\n      <th>2</th>\n      <td>8</td>\n      <td>9</td>\n      <td>10</td>\n      <td>11</td>\n    </tr>\n    <tr>\n      <th>1</th>\n      <td>4</td>\n      <td>5</td>\n      <td>6</td>\n      <td>7</td>\n    </tr>\n    <tr>\n      <th>0</th>\n      <td>0</td>\n      <td>1</td>\n      <td>2</td>\n      <td>3</td>\n    </tr>\n    <tr>\n      <th>3</th>\n      <td>12</td>\n      <td>13</td>\n      <td>14</td>\n      <td>15</td>\n    </tr>\n  </tbody>\n</table>\n</div>"
     },
     "execution_count": 80,
     "metadata": {},
     "output_type": "execute_result"
    }
   ],
   "source": [
    "df.take(sampler)"
   ],
   "metadata": {
    "collapsed": false,
    "ExecuteTime": {
     "end_time": "2024-02-09T01:15:54.531385700Z",
     "start_time": "2024-02-09T01:15:54.304425600Z"
    }
   },
   "id": "a620b5a2febef378",
   "execution_count": 80
  },
  {
   "cell_type": "markdown",
   "source": [
    "Return 2 random rows"
   ],
   "metadata": {
    "collapsed": false
   },
   "id": "f28ea57f1e18f1c6"
  },
  {
   "cell_type": "code",
   "outputs": [
    {
     "data": {
      "text/plain": "    0   1   2   3\n3  12  13  14  15\n2   8   9  10  11",
      "text/html": "<div>\n<style scoped>\n    .dataframe tbody tr th:only-of-type {\n        vertical-align: middle;\n    }\n\n    .dataframe tbody tr th {\n        vertical-align: top;\n    }\n\n    .dataframe thead th {\n        text-align: right;\n    }\n</style>\n<table border=\"1\" class=\"dataframe\">\n  <thead>\n    <tr style=\"text-align: right;\">\n      <th></th>\n      <th>0</th>\n      <th>1</th>\n      <th>2</th>\n      <th>3</th>\n    </tr>\n  </thead>\n  <tbody>\n    <tr>\n      <th>3</th>\n      <td>12</td>\n      <td>13</td>\n      <td>14</td>\n      <td>15</td>\n    </tr>\n    <tr>\n      <th>2</th>\n      <td>8</td>\n      <td>9</td>\n      <td>10</td>\n      <td>11</td>\n    </tr>\n  </tbody>\n</table>\n</div>"
     },
     "execution_count": 85,
     "metadata": {},
     "output_type": "execute_result"
    }
   ],
   "source": [
    "df.sample(n=2)"
   ],
   "metadata": {
    "collapsed": false,
    "ExecuteTime": {
     "end_time": "2024-02-09T01:20:36.673464500Z",
     "start_time": "2024-02-09T01:20:36.311370900Z"
    }
   },
   "id": "84985a740ce2ca0d",
   "execution_count": 85
  },
  {
   "cell_type": "markdown",
   "source": [
    "Create a series with and grab 10 values randomly"
   ],
   "metadata": {
    "collapsed": false
   },
   "id": "6f7c795a6afafc42"
  },
  {
   "cell_type": "code",
   "outputs": [],
   "source": [
    "choices = pd.Series([5, 7, -1, 6, 4])\n",
    "draws = choices.sample(n=10, replace=True)"
   ],
   "metadata": {
    "collapsed": false,
    "ExecuteTime": {
     "end_time": "2024-02-09T01:21:21.321526200Z",
     "start_time": "2024-02-09T01:21:21.148546300Z"
    }
   },
   "id": "dd5f12f6e850b2e4",
   "execution_count": 86
  },
  {
   "cell_type": "markdown",
   "source": [
    "Make a string into a list "
   ],
   "metadata": {
    "collapsed": false
   },
   "id": "e4bb0a44746f7c02"
  },
  {
   "cell_type": "code",
   "outputs": [],
   "source": [
    "val = 'a,b, guido'\n",
    "val.split(',')"
   ],
   "metadata": {
    "collapsed": false
   },
   "id": "325735900340a5d7"
  },
  {
   "cell_type": "markdown",
   "source": [
    "Seperate each character and join them in different ways"
   ],
   "metadata": {
    "collapsed": false
   },
   "id": "923dc236469b8ef1"
  },
  {
   "cell_type": "code",
   "outputs": [
    {
     "ename": "NameError",
     "evalue": "name 'val' is not defined",
     "output_type": "error",
     "traceback": [
      "\u001B[1;31m---------------------------------------------------------------------------\u001B[0m",
      "\u001B[1;31mNameError\u001B[0m                                 Traceback (most recent call last)",
      "Cell \u001B[1;32mIn[87], line 1\u001B[0m\n\u001B[1;32m----> 1\u001B[0m pieces \u001B[38;5;241m=\u001B[39m [x\u001B[38;5;241m.\u001B[39mstrip() \u001B[38;5;28;01mfor\u001B[39;00m x \u001B[38;5;129;01min\u001B[39;00m \u001B[43mval\u001B[49m\u001B[38;5;241m.\u001B[39msplit(\u001B[38;5;124m'\u001B[39m\u001B[38;5;124m,\u001B[39m\u001B[38;5;124m'\u001B[39m)]\n\u001B[0;32m      2\u001B[0m first, second, third \u001B[38;5;241m=\u001B[39m pieces\n\u001B[0;32m      3\u001B[0m first \u001B[38;5;241m+\u001B[39m \u001B[38;5;124m'\u001B[39m\u001B[38;5;124m::\u001B[39m\u001B[38;5;124m'\u001B[39m \u001B[38;5;241m+\u001B[39m second \u001B[38;5;241m+\u001B[39m \u001B[38;5;124m'\u001B[39m\u001B[38;5;124m::\u001B[39m\u001B[38;5;124m'\u001B[39m \u001B[38;5;241m+\u001B[39m third\n",
      "\u001B[1;31mNameError\u001B[0m: name 'val' is not defined"
     ]
    }
   ],
   "source": [
    "pieces = [x.strip() for x in val.split(',')]\n",
    "first, second, third = pieces\n",
    "first + '::' + second + '::' + third\n",
    "'::'.join(pieces)"
   ],
   "metadata": {
    "collapsed": false,
    "ExecuteTime": {
     "end_time": "2024-02-09T01:23:55.971901600Z",
     "start_time": "2024-02-09T01:23:55.813326800Z"
    }
   },
   "id": "a166d3136d9adb08",
   "execution_count": 87
  },
  {
   "cell_type": "markdown",
   "source": [
    "find the index of , find the : find the number of , replace the , with :: replace the , with and empty str"
   ],
   "metadata": {
    "collapsed": false
   },
   "id": "f269edd36894f416"
  },
  {
   "cell_type": "code",
   "outputs": [],
   "source": [
    "val.index(',')\n",
    "val.find(':')\n",
    "val.count(',')\n",
    "val.replace(',', '::')\n",
    "val.replace(',', '')\n"
   ],
   "metadata": {
    "collapsed": false
   },
   "id": "6adb931fd4067746"
  },
  {
   "cell_type": "markdown",
   "source": [
    "Using regular expression, split a string"
   ],
   "metadata": {
    "collapsed": false
   },
   "id": "9d7b2bbcfc497a9d"
  },
  {
   "cell_type": "code",
   "outputs": [
    {
     "name": "stderr",
     "output_type": "stream",
     "text": [
      "<>:3: SyntaxWarning: invalid escape sequence '\\s'\n",
      "<>:3: SyntaxWarning: invalid escape sequence '\\s'\n",
      "C:\\Users\\Markus\\AppData\\Local\\Temp\\ipykernel_3872\\2509305774.py:3: SyntaxWarning: invalid escape sequence '\\s'\n",
      "  re.split('\\s+', text)\n"
     ]
    },
    {
     "data": {
      "text/plain": "['bluh', 'bar', 'baz', 'qux']"
     },
     "execution_count": 88,
     "metadata": {},
     "output_type": "execute_result"
    }
   ],
   "source": [
    "import re\n",
    "text = \"bluh bar\\t baz \\tqux\"\n",
    "re.split('\\s+', text)"
   ],
   "metadata": {
    "collapsed": false,
    "ExecuteTime": {
     "end_time": "2024-02-09T01:30:31.710913100Z",
     "start_time": "2024-02-09T01:30:31.563092Z"
    }
   },
   "id": "f4a52bae571754b3",
   "execution_count": 88
  },
  {
   "cell_type": "markdown",
   "source": [
    "Make it whole again then split using the same string"
   ],
   "metadata": {
    "collapsed": false
   },
   "id": "2d5b1035e907a599"
  },
  {
   "cell_type": "code",
   "outputs": [
    {
     "name": "stderr",
     "output_type": "stream",
     "text": [
      "<>:1: SyntaxWarning: invalid escape sequence '\\s'\n",
      "<>:1: SyntaxWarning: invalid escape sequence '\\s'\n",
      "C:\\Users\\Markus\\AppData\\Local\\Temp\\ipykernel_3872\\3808692890.py:1: SyntaxWarning: invalid escape sequence '\\s'\n",
      "  regex = re.compile('\\s+')\n"
     ]
    },
    {
     "data": {
      "text/plain": "['bluh', 'bar', 'baz', 'qux']"
     },
     "execution_count": 89,
     "metadata": {},
     "output_type": "execute_result"
    }
   ],
   "source": [
    "regex = re.compile('\\s+')\n",
    "regex.split(text)"
   ],
   "metadata": {
    "collapsed": false,
    "ExecuteTime": {
     "end_time": "2024-02-09T01:31:27.212687500Z",
     "start_time": "2024-02-09T01:31:27.131958800Z"
    }
   },
   "id": "cc203f6eaa47ec03",
   "execution_count": 89
  },
  {
   "cell_type": "markdown",
   "source": [
    "Make some text"
   ],
   "metadata": {
    "collapsed": false
   },
   "id": "8073da771579170b"
  },
  {
   "cell_type": "code",
   "outputs": [],
   "source": [
    "text = \"\"\"Dave dave@google.com\n",
    "Bob bob@gmail.com\n",
    "Rob rob@gmail.com\n",
    "Nob nob@yahoo.com\n",
    "\"\"\""
   ],
   "metadata": {
    "collapsed": false,
    "ExecuteTime": {
     "end_time": "2024-02-09T01:42:12.193020600Z",
     "start_time": "2024-02-09T01:42:12.027463500Z"
    }
   },
   "id": "30ccc7782d4bd602",
   "execution_count": 99
  },
  {
   "cell_type": "markdown",
   "source": [
    "Find the emails"
   ],
   "metadata": {
    "collapsed": false
   },
   "id": "c22b735600325389"
  },
  {
   "cell_type": "code",
   "outputs": [
    {
     "data": {
      "text/plain": "['dave@google.com', 'bob@gmail.com', 'rob@gmail.com', 'nob@yahoo.com']"
     },
     "execution_count": 100,
     "metadata": {},
     "output_type": "execute_result"
    }
   ],
   "source": [
    "pattern = r'[A-Z0-9._%+-]+@[A-Z0-9.-]+\\.[A-Z]{2,4}'\n",
    "regex = re.compile(pattern, flags=re.IGNORECASE)\n",
    "regex.findall(text)"
   ],
   "metadata": {
    "collapsed": false,
    "ExecuteTime": {
     "end_time": "2024-02-09T01:42:13.179382300Z",
     "start_time": "2024-02-09T01:42:13.092913Z"
    }
   },
   "id": "bb725e6f8926d5b",
   "execution_count": 100
  },
  {
   "cell_type": "markdown",
   "source": [
    "Find the first email by "
   ],
   "metadata": {
    "collapsed": false
   },
   "id": "9b0a0bdded84ef15"
  },
  {
   "cell_type": "code",
   "outputs": [
    {
     "data": {
      "text/plain": "'dave@google.com'"
     },
     "execution_count": 101,
     "metadata": {},
     "output_type": "execute_result"
    }
   ],
   "source": [
    "m = regex.search(text)\n",
    "text[m.start():m.end()]"
   ],
   "metadata": {
    "collapsed": false,
    "ExecuteTime": {
     "end_time": "2024-02-09T01:42:24.667074500Z",
     "start_time": "2024-02-09T01:42:24.566755400Z"
    }
   },
   "id": "e9c46f6a1b12bb04",
   "execution_count": 101
  },
  {
   "cell_type": "markdown",
   "source": [
    "Print emails with REDACTED"
   ],
   "metadata": {
    "collapsed": false
   },
   "id": "d06a5605871297c0"
  },
  {
   "cell_type": "code",
   "outputs": [
    {
     "name": "stdout",
     "output_type": "stream",
     "text": [
      "None\n",
      "Dave REDACTED\n",
      "Bob REDACTED\n",
      "Rob REDACTED\n",
      "Nob REDACTED\n"
     ]
    }
   ],
   "source": [
    "print(regex.match(text))\n",
    "print(regex.sub('REDACTED', text))"
   ],
   "metadata": {
    "collapsed": false,
    "ExecuteTime": {
     "end_time": "2024-02-09T01:42:28.179872500Z",
     "start_time": "2024-02-09T01:42:28.056680300Z"
    }
   },
   "id": "7cf39ae425a784ef",
   "execution_count": 102
  },
  {
   "cell_type": "markdown",
   "source": [
    "Using regex, seperate the parts of an email int oa tuple"
   ],
   "metadata": {
    "collapsed": false
   },
   "id": "2a3eae419b955f12"
  },
  {
   "cell_type": "code",
   "outputs": [
    {
     "data": {
      "text/plain": "('wesm', 'bright', 'net')"
     },
     "execution_count": 104,
     "metadata": {},
     "output_type": "execute_result"
    }
   ],
   "source": [
    "pattern = r'([A-Z0-9._%+-]+)@([A-Z0-9.-]+)\\.([A-Z]{2,4})'\n",
    "regex = re.compile(pattern, flags=re.IGNORECASE)\n",
    "m = regex.match('wesm@bright.net')\n",
    "m.groups()"
   ],
   "metadata": {
    "collapsed": false,
    "ExecuteTime": {
     "end_time": "2024-02-09T01:42:44.526092800Z",
     "start_time": "2024-02-09T01:42:44.425167900Z"
    }
   },
   "id": "a2c932db312ff11",
   "execution_count": 104
  },
  {
   "cell_type": "markdown",
   "source": [
    "Using the same regex, do it on the previeous emails"
   ],
   "metadata": {
    "collapsed": false
   },
   "id": "b5c05b0316660011"
  },
  {
   "cell_type": "code",
   "outputs": [
    {
     "data": {
      "text/plain": "[('dave', 'google', 'com'),\n ('bob', 'gmail', 'com'),\n ('rob', 'gmail', 'com'),\n ('nob', 'yahoo', 'com')]"
     },
     "execution_count": 105,
     "metadata": {},
     "output_type": "execute_result"
    }
   ],
   "source": [
    "regex.findall(text)"
   ],
   "metadata": {
    "collapsed": false,
    "ExecuteTime": {
     "end_time": "2024-02-09T01:43:36.620279800Z",
     "start_time": "2024-02-09T01:43:36.481771900Z"
    }
   },
   "id": "2972de6becf6bb4d",
   "execution_count": 105
  },
  {
   "cell_type": "markdown",
   "source": [
    "Print the name, domain and suffix neatly"
   ],
   "metadata": {
    "collapsed": false
   },
   "id": "ed657f8caf0553d5"
  },
  {
   "cell_type": "code",
   "outputs": [
    {
     "name": "stdout",
     "output_type": "stream",
     "text": [
      "Dave Username: dave, Domain: google, Suffix: com\n",
      "Bob Username: bob, Domain: gmail, Suffix: com\n",
      "Rob Username: rob, Domain: gmail, Suffix: com\n",
      "Nob Username: nob, Domain: yahoo, Suffix: com\n"
     ]
    }
   ],
   "source": [
    "print(regex.sub(r'Username: \\1, Domain: \\2, Suffix: \\3', text))"
   ],
   "metadata": {
    "collapsed": false,
    "ExecuteTime": {
     "end_time": "2024-02-09T01:44:12.871747500Z",
     "start_time": "2024-02-09T01:44:12.765701700Z"
    }
   },
   "id": "22fbe5f264d18185",
   "execution_count": 106
  },
  {
   "cell_type": "markdown",
   "source": [
    "create some dic with names and emails, put into a series return the series with ony the first 5 characters of the email"
   ],
   "metadata": {
    "collapsed": false
   },
   "id": "772d0ffec71b5da4"
  },
  {
   "cell_type": "code",
   "outputs": [
    {
     "data": {
      "text/plain": "Dave     dave@\nSteve    steve\nRob      rob@g\nWes        NaN\ndtype: object"
     },
     "execution_count": 107,
     "metadata": {},
     "output_type": "execute_result"
    }
   ],
   "source": [
    "data = {'Dave': 'dave@google.com', 'Steve': 'steve@gmail.com', 'Rob': 'rob@gmail.com', 'Wes': np.nan}\n",
    "s = pd.Series(data)\n",
    "s.isnull()\n",
    "s.str.contains('gmail')\n",
    "s.str.findall(pattern, flags=re.IGNORECASE)\n",
    "matches = s.str.match(pattern, flags=re.IGNORECASE)\n",
    "s.str[:5]"
   ],
   "metadata": {
    "collapsed": false,
    "ExecuteTime": {
     "end_time": "2024-02-09T01:44:21.937515400Z",
     "start_time": "2024-02-09T01:44:21.746325200Z"
    }
   },
   "id": "3055709023076f1e",
   "execution_count": 107
  },
  {
   "cell_type": "code",
   "outputs": [],
   "source": [],
   "metadata": {
    "collapsed": false
   },
   "id": "5ecb87332fc8a6a3"
  }
 ],
 "metadata": {
  "kernelspec": {
   "display_name": "Python 3",
   "language": "python",
   "name": "python3"
  },
  "language_info": {
   "codemirror_mode": {
    "name": "ipython",
    "version": 2
   },
   "file_extension": ".py",
   "mimetype": "text/x-python",
   "name": "python",
   "nbconvert_exporter": "python",
   "pygments_lexer": "ipython2",
   "version": "2.7.6"
  }
 },
 "nbformat": 4,
 "nbformat_minor": 5
}
